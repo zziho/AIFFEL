{
 "cells": [
  {
   "cell_type": "markdown",
   "id": "62cfb2b5",
   "metadata": {},
   "source": [
    "# 14. 아이유팬이 좋아할 만한 다른 아티스트 찾기"
   ]
  },
  {
   "cell_type": "code",
   "execution_count": 1,
   "id": "a6013795",
   "metadata": {},
   "outputs": [],
   "source": [
    "import pandas as pd\n",
    "import numpy as np\n",
    "import os, copy\n",
    "from scipy.sparse import csr_matrix\n",
    "from implicit.als import AlternatingLeastSquares"
   ]
  },
  {
   "cell_type": "markdown",
   "id": "14d1036a",
   "metadata": {},
   "source": [
    "## 데이터 준비와 전처리"
   ]
  },
  {
   "cell_type": "code",
   "execution_count": 2,
   "id": "2f11fbfa",
   "metadata": {
    "scrolled": true
   },
   "outputs": [
    {
     "data": {
      "text/html": [
       "<div>\n",
       "<style scoped>\n",
       "    .dataframe tbody tr th:only-of-type {\n",
       "        vertical-align: middle;\n",
       "    }\n",
       "\n",
       "    .dataframe tbody tr th {\n",
       "        vertical-align: top;\n",
       "    }\n",
       "\n",
       "    .dataframe thead th {\n",
       "        text-align: right;\n",
       "    }\n",
       "</style>\n",
       "<table border=\"1\" class=\"dataframe\">\n",
       "  <thead>\n",
       "    <tr style=\"text-align: right;\">\n",
       "      <th></th>\n",
       "      <th>user_id</th>\n",
       "      <th>movie_id</th>\n",
       "      <th>rating</th>\n",
       "      <th>timestamp</th>\n",
       "    </tr>\n",
       "  </thead>\n",
       "  <tbody>\n",
       "    <tr>\n",
       "      <th>0</th>\n",
       "      <td>1</td>\n",
       "      <td>1193</td>\n",
       "      <td>5</td>\n",
       "      <td>978300760</td>\n",
       "    </tr>\n",
       "    <tr>\n",
       "      <th>1</th>\n",
       "      <td>1</td>\n",
       "      <td>661</td>\n",
       "      <td>3</td>\n",
       "      <td>978302109</td>\n",
       "    </tr>\n",
       "    <tr>\n",
       "      <th>2</th>\n",
       "      <td>1</td>\n",
       "      <td>914</td>\n",
       "      <td>3</td>\n",
       "      <td>978301968</td>\n",
       "    </tr>\n",
       "    <tr>\n",
       "      <th>3</th>\n",
       "      <td>1</td>\n",
       "      <td>3408</td>\n",
       "      <td>4</td>\n",
       "      <td>978300275</td>\n",
       "    </tr>\n",
       "    <tr>\n",
       "      <th>4</th>\n",
       "      <td>1</td>\n",
       "      <td>2355</td>\n",
       "      <td>5</td>\n",
       "      <td>978824291</td>\n",
       "    </tr>\n",
       "  </tbody>\n",
       "</table>\n",
       "</div>"
      ],
      "text/plain": [
       "   user_id  movie_id  rating  timestamp\n",
       "0        1      1193       5  978300760\n",
       "1        1       661       3  978302109\n",
       "2        1       914       3  978301968\n",
       "3        1      3408       4  978300275\n",
       "4        1      2355       5  978824291"
      ]
     },
     "execution_count": 2,
     "metadata": {},
     "output_type": "execute_result"
    }
   ],
   "source": [
    "rating_file_path=os.getenv('HOME') + '/aiffel/recommendata_iu/data/ml-1m/ratings.dat'\n",
    "ratings_cols = ['user_id', 'movie_id', 'rating', 'timestamp']\n",
    "ratings = pd.read_csv(rating_file_path, sep='::', names=ratings_cols, engine='python')\n",
    "orginal_data_size = len(ratings)\n",
    "ratings.head()"
   ]
  },
  {
   "cell_type": "markdown",
   "id": "149c84ce",
   "metadata": {},
   "source": [
    "timestamp 지우기"
   ]
  },
  {
   "cell_type": "code",
   "execution_count": 3,
   "id": "23ae35b4",
   "metadata": {
    "scrolled": true
   },
   "outputs": [
    {
     "data": {
      "text/html": [
       "<div>\n",
       "<style scoped>\n",
       "    .dataframe tbody tr th:only-of-type {\n",
       "        vertical-align: middle;\n",
       "    }\n",
       "\n",
       "    .dataframe tbody tr th {\n",
       "        vertical-align: top;\n",
       "    }\n",
       "\n",
       "    .dataframe thead th {\n",
       "        text-align: right;\n",
       "    }\n",
       "</style>\n",
       "<table border=\"1\" class=\"dataframe\">\n",
       "  <thead>\n",
       "    <tr style=\"text-align: right;\">\n",
       "      <th></th>\n",
       "      <th>user_id</th>\n",
       "      <th>movie_id</th>\n",
       "      <th>rating</th>\n",
       "    </tr>\n",
       "  </thead>\n",
       "  <tbody>\n",
       "    <tr>\n",
       "      <th>0</th>\n",
       "      <td>1</td>\n",
       "      <td>1193</td>\n",
       "      <td>5</td>\n",
       "    </tr>\n",
       "    <tr>\n",
       "      <th>1</th>\n",
       "      <td>1</td>\n",
       "      <td>661</td>\n",
       "      <td>3</td>\n",
       "    </tr>\n",
       "    <tr>\n",
       "      <th>2</th>\n",
       "      <td>1</td>\n",
       "      <td>914</td>\n",
       "      <td>3</td>\n",
       "    </tr>\n",
       "    <tr>\n",
       "      <th>3</th>\n",
       "      <td>1</td>\n",
       "      <td>3408</td>\n",
       "      <td>4</td>\n",
       "    </tr>\n",
       "    <tr>\n",
       "      <th>4</th>\n",
       "      <td>1</td>\n",
       "      <td>2355</td>\n",
       "      <td>5</td>\n",
       "    </tr>\n",
       "  </tbody>\n",
       "</table>\n",
       "</div>"
      ],
      "text/plain": [
       "   user_id  movie_id  rating\n",
       "0        1      1193       5\n",
       "1        1       661       3\n",
       "2        1       914       3\n",
       "3        1      3408       4\n",
       "4        1      2355       5"
      ]
     },
     "execution_count": 3,
     "metadata": {},
     "output_type": "execute_result"
    }
   ],
   "source": [
    "ratings = ratings.iloc[:,0:3]\n",
    "ratings.head()"
   ]
  },
  {
   "cell_type": "markdown",
   "id": "b36abc34",
   "metadata": {},
   "source": [
    "별점 3점 이상만 남기기"
   ]
  },
  {
   "cell_type": "code",
   "execution_count": 4,
   "id": "e87b1e83",
   "metadata": {},
   "outputs": [
    {
     "name": "stdout",
     "output_type": "stream",
     "text": [
      "orginal_data_size: 1000209, filtered_data_size: 836478\n",
      "Ratio of Remaining Data is 83.63%\n"
     ]
    }
   ],
   "source": [
    "ratings = ratings[ratings['rating']>=3]\n",
    "filtered_data_size = len(ratings)\n",
    "\n",
    "print(f'orginal_data_size: {orginal_data_size}, filtered_data_size: {filtered_data_size}')\n",
    "print(f'Ratio of Remaining Data is {filtered_data_size / orginal_data_size:.2%}')"
   ]
  },
  {
   "cell_type": "markdown",
   "id": "6f7c8490",
   "metadata": {},
   "source": [
    "컬럼 이름을 rating에서 count로 바꿔주기(rating은 별점인데 count로 바꿔주면서 시청횟수로 생각한다)"
   ]
  },
  {
   "cell_type": "code",
   "execution_count": 5,
   "id": "abc640c5",
   "metadata": {},
   "outputs": [],
   "source": [
    "ratings.rename(columns={'rating':'count'}, inplace=True)"
   ]
  },
  {
   "cell_type": "markdown",
   "id": "07b8c66e",
   "metadata": {},
   "source": [
    "영화 제목을 보기 위한 메타 데이터(사용자가 별점을 매긴 영화 목록)"
   ]
  },
  {
   "cell_type": "code",
   "execution_count": 6,
   "id": "d1787c7b",
   "metadata": {
    "scrolled": true
   },
   "outputs": [
    {
     "data": {
      "text/html": [
       "<div>\n",
       "<style scoped>\n",
       "    .dataframe tbody tr th:only-of-type {\n",
       "        vertical-align: middle;\n",
       "    }\n",
       "\n",
       "    .dataframe tbody tr th {\n",
       "        vertical-align: top;\n",
       "    }\n",
       "\n",
       "    .dataframe thead th {\n",
       "        text-align: right;\n",
       "    }\n",
       "</style>\n",
       "<table border=\"1\" class=\"dataframe\">\n",
       "  <thead>\n",
       "    <tr style=\"text-align: right;\">\n",
       "      <th></th>\n",
       "      <th>movie_id</th>\n",
       "      <th>title</th>\n",
       "      <th>genre</th>\n",
       "    </tr>\n",
       "  </thead>\n",
       "  <tbody>\n",
       "    <tr>\n",
       "      <th>0</th>\n",
       "      <td>1</td>\n",
       "      <td>Toy Story (1995)</td>\n",
       "      <td>Animation|Children's|Comedy</td>\n",
       "    </tr>\n",
       "    <tr>\n",
       "      <th>1</th>\n",
       "      <td>2</td>\n",
       "      <td>Jumanji (1995)</td>\n",
       "      <td>Adventure|Children's|Fantasy</td>\n",
       "    </tr>\n",
       "    <tr>\n",
       "      <th>2</th>\n",
       "      <td>3</td>\n",
       "      <td>Grumpier Old Men (1995)</td>\n",
       "      <td>Comedy|Romance</td>\n",
       "    </tr>\n",
       "    <tr>\n",
       "      <th>3</th>\n",
       "      <td>4</td>\n",
       "      <td>Waiting to Exhale (1995)</td>\n",
       "      <td>Comedy|Drama</td>\n",
       "    </tr>\n",
       "    <tr>\n",
       "      <th>4</th>\n",
       "      <td>5</td>\n",
       "      <td>Father of the Bride Part II (1995)</td>\n",
       "      <td>Comedy</td>\n",
       "    </tr>\n",
       "  </tbody>\n",
       "</table>\n",
       "</div>"
      ],
      "text/plain": [
       "   movie_id                               title                         genre\n",
       "0         1                    Toy Story (1995)   Animation|Children's|Comedy\n",
       "1         2                      Jumanji (1995)  Adventure|Children's|Fantasy\n",
       "2         3             Grumpier Old Men (1995)                Comedy|Romance\n",
       "3         4            Waiting to Exhale (1995)                  Comedy|Drama\n",
       "4         5  Father of the Bride Part II (1995)                        Comedy"
      ]
     },
     "execution_count": 6,
     "metadata": {},
     "output_type": "execute_result"
    }
   ],
   "source": [
    "movie_file_path=os.getenv('HOME') + '/aiffel/recommendata_iu/data/ml-1m/movies.dat'\n",
    "cols = ['movie_id', 'title', 'genre'] \n",
    "movies = pd.read_csv(movie_file_path, sep='::', names=cols, engine='python', encoding='ISO-8859-1')\n",
    "movies.head()"
   ]
  },
  {
   "cell_type": "markdown",
   "id": "e43f6fcf",
   "metadata": {},
   "source": [
    "결측치 확인"
   ]
  },
  {
   "cell_type": "code",
   "execution_count": 7,
   "id": "1730a19a",
   "metadata": {
    "scrolled": true
   },
   "outputs": [
    {
     "data": {
      "text/plain": [
       "0"
      ]
     },
     "execution_count": 7,
     "metadata": {},
     "output_type": "execute_result"
    }
   ],
   "source": [
    "sum(movies['title'].isna())"
   ]
  },
  {
   "cell_type": "markdown",
   "id": "9d0b8337",
   "metadata": {},
   "source": [
    "movies데이터 title을 소문자로 바꿔주기"
   ]
  },
  {
   "cell_type": "code",
   "execution_count": 8,
   "id": "cd12e66a",
   "metadata": {},
   "outputs": [],
   "source": [
    "movies['title_lower'] = movies['title'].str.lower()"
   ]
  },
  {
   "cell_type": "code",
   "execution_count": 9,
   "id": "0d1fb779",
   "metadata": {
    "scrolled": false
   },
   "outputs": [
    {
     "data": {
      "text/html": [
       "<div>\n",
       "<style scoped>\n",
       "    .dataframe tbody tr th:only-of-type {\n",
       "        vertical-align: middle;\n",
       "    }\n",
       "\n",
       "    .dataframe tbody tr th {\n",
       "        vertical-align: top;\n",
       "    }\n",
       "\n",
       "    .dataframe thead th {\n",
       "        text-align: right;\n",
       "    }\n",
       "</style>\n",
       "<table border=\"1\" class=\"dataframe\">\n",
       "  <thead>\n",
       "    <tr style=\"text-align: right;\">\n",
       "      <th></th>\n",
       "      <th>movie_id</th>\n",
       "      <th>title</th>\n",
       "      <th>genre</th>\n",
       "      <th>title_lower</th>\n",
       "    </tr>\n",
       "  </thead>\n",
       "  <tbody>\n",
       "    <tr>\n",
       "      <th>0</th>\n",
       "      <td>1</td>\n",
       "      <td>Toy Story (1995)</td>\n",
       "      <td>Animation|Children's|Comedy</td>\n",
       "      <td>toy story (1995)</td>\n",
       "    </tr>\n",
       "    <tr>\n",
       "      <th>1</th>\n",
       "      <td>2</td>\n",
       "      <td>Jumanji (1995)</td>\n",
       "      <td>Adventure|Children's|Fantasy</td>\n",
       "      <td>jumanji (1995)</td>\n",
       "    </tr>\n",
       "    <tr>\n",
       "      <th>2</th>\n",
       "      <td>3</td>\n",
       "      <td>Grumpier Old Men (1995)</td>\n",
       "      <td>Comedy|Romance</td>\n",
       "      <td>grumpier old men (1995)</td>\n",
       "    </tr>\n",
       "    <tr>\n",
       "      <th>3</th>\n",
       "      <td>4</td>\n",
       "      <td>Waiting to Exhale (1995)</td>\n",
       "      <td>Comedy|Drama</td>\n",
       "      <td>waiting to exhale (1995)</td>\n",
       "    </tr>\n",
       "    <tr>\n",
       "      <th>4</th>\n",
       "      <td>5</td>\n",
       "      <td>Father of the Bride Part II (1995)</td>\n",
       "      <td>Comedy</td>\n",
       "      <td>father of the bride part ii (1995)</td>\n",
       "    </tr>\n",
       "  </tbody>\n",
       "</table>\n",
       "</div>"
      ],
      "text/plain": [
       "   movie_id                               title                         genre  \\\n",
       "0         1                    Toy Story (1995)   Animation|Children's|Comedy   \n",
       "1         2                      Jumanji (1995)  Adventure|Children's|Fantasy   \n",
       "2         3             Grumpier Old Men (1995)                Comedy|Romance   \n",
       "3         4            Waiting to Exhale (1995)                  Comedy|Drama   \n",
       "4         5  Father of the Bride Part II (1995)                        Comedy   \n",
       "\n",
       "                          title_lower  \n",
       "0                    toy story (1995)  \n",
       "1                      jumanji (1995)  \n",
       "2             grumpier old men (1995)  \n",
       "3            waiting to exhale (1995)  \n",
       "4  father of the bride part ii (1995)  "
      ]
     },
     "execution_count": 9,
     "metadata": {},
     "output_type": "execute_result"
    }
   ],
   "source": [
    "movies.head(5)"
   ]
  },
  {
   "cell_type": "markdown",
   "id": "d4cfd596",
   "metadata": {},
   "source": [
    "## 데이터 분석"
   ]
  },
  {
   "cell_type": "markdown",
   "id": "418bfc81",
   "metadata": {},
   "source": [
    "ratings에 있는 유니크한 영화 개수"
   ]
  },
  {
   "cell_type": "code",
   "execution_count": 11,
   "id": "aaefed83",
   "metadata": {
    "scrolled": false
   },
   "outputs": [
    {
     "data": {
      "text/plain": [
       "3628"
      ]
     },
     "execution_count": 11,
     "metadata": {},
     "output_type": "execute_result"
    }
   ],
   "source": [
    "ratings['movie_id'].nunique()"
   ]
  },
  {
   "cell_type": "markdown",
   "id": "68048191",
   "metadata": {},
   "source": [
    "ratings에 있는 유니크한 사용자 수"
   ]
  },
  {
   "cell_type": "code",
   "execution_count": 12,
   "id": "5e7383bc",
   "metadata": {
    "scrolled": true
   },
   "outputs": [
    {
     "data": {
      "text/plain": [
       "6039"
      ]
     },
     "execution_count": 12,
     "metadata": {},
     "output_type": "execute_result"
    }
   ],
   "source": [
    "# number of unique users in dataset\n",
    "ratings['user_id'].nunique()"
   ]
  },
  {
   "cell_type": "markdown",
   "id": "36a46399",
   "metadata": {},
   "source": [
    "가장 인기 있는 영화 30개(인기순)"
   ]
  },
  {
   "cell_type": "code",
   "execution_count": 60,
   "id": "14fd7b53",
   "metadata": {},
   "outputs": [
    {
     "data": {
      "text/plain": [
       "movie_id\n",
       "2858    3211\n",
       "260     2910\n",
       "1196    2885\n",
       "1210    2716\n",
       "2028    2561\n",
       "589     2509\n",
       "593     2498\n",
       "1198    2473\n",
       "1270    2460\n",
       "2571    2434\n",
       "480     2413\n",
       "2762    2385\n",
       "608     2371\n",
       "110     2314\n",
       "1580    2297\n",
       "527     2257\n",
       "1197    2252\n",
       "2396    2213\n",
       "1617    2210\n",
       "318     2194\n",
       "858     2167\n",
       "1265    2121\n",
       "1097    2102\n",
       "2997    2066\n",
       "2716    2051\n",
       "296     2030\n",
       "356     2022\n",
       "1240    2019\n",
       "1       2000\n",
       "457     1941\n",
       "Name: user_id, dtype: int64"
      ]
     },
     "execution_count": 60,
     "metadata": {},
     "output_type": "execute_result"
    }
   ],
   "source": [
    "artist_count = ratings.groupby('movie_id')['user_id'].count()  #movie_id값을 기준으로 groupby\n",
    "artist_count.sort_values(ascending=False).head(30)"
   ]
  },
  {
   "cell_type": "markdown",
   "id": "2e284812",
   "metadata": {},
   "source": [
    "영화 제목 찾기"
   ]
  },
  {
   "cell_type": "code",
   "execution_count": 13,
   "id": "53e83816",
   "metadata": {},
   "outputs": [],
   "source": [
    "def find_movie(string):\n",
    "    for i in range(len(movies['title_lower'])):\n",
    "        if movies['title_lower'][i].find(string) != -1:\n",
    "            print(f\"movie: {movies['title'][i]}, id: {movies['movie_id'][i]}\")"
   ]
  },
  {
   "cell_type": "code",
   "execution_count": 14,
   "id": "37367e07",
   "metadata": {
    "scrolled": true
   },
   "outputs": [
    {
     "name": "stdout",
     "output_type": "stream",
     "text": [
      "movie: Federal Hill (1994), id: 406\n",
      "movie: Beverly Hillbillies, The (1993), id: 419\n",
      "movie: Beverly Hills Cop III (1994), id: 420\n",
      "movie: Englishman Who Went Up a Hill, But Came Down a Mountain, The (1995), id: 468\n",
      "movie: King of the Hill (1993), id: 483\n",
      "movie: Paradise Lost: The Child Murders at Robin Hood Hills (1996), id: 1361\n",
      "movie: Beverly Hills Ninja (1997), id: 1431\n",
      "movie: Slums of Beverly Hills, The (1998), id: 2155\n",
      "movie: Downhill (1927), id: 2224\n",
      "movie: Big Chill, The (1983), id: 2352\n",
      "movie: House on Haunted Hill (1958), id: 2519\n",
      "movie: Pork Chop Hill (1959), id: 2669\n",
      "movie: Notting Hill (1999), id: 2671\n",
      "movie: Chill Factor (1999), id: 2835\n",
      "movie: House on Haunted Hill, The (1999), id: 2995\n",
      "movie: Hillbillys in a Haunted House (1967), id: 3460\n"
     ]
    }
   ],
   "source": [
    "find_movie('hill')  #Notting Hill (1999), id: 2671"
   ]
  },
  {
   "cell_type": "code",
   "execution_count": 15,
   "id": "623ecc2e",
   "metadata": {
    "scrolled": false
   },
   "outputs": [
    {
     "name": "stdout",
     "output_type": "stream",
     "text": [
      "movie: Volcano (1997), id: 1515\n"
     ]
    }
   ],
   "source": [
    "find_movie('volcano')  #Volcano (1997), id: 1515"
   ]
  },
  {
   "cell_type": "code",
   "execution_count": 16,
   "id": "75189d8d",
   "metadata": {
    "scrolled": true
   },
   "outputs": [
    {
     "name": "stdout",
     "output_type": "stream",
     "text": [
      "movie: Show, The (1995), id: 192\n",
      "movie: Showgirls (1995), id: 193\n",
      "movie: Quiz Show (1994), id: 300\n",
      "movie: Truman Show, The (1998), id: 1682\n",
      "movie: Greatest Show on Earth, The (1952), id: 1943\n",
      "movie: Rocky Horror Picture Show, The (1975), id: 2657\n",
      "movie: Creepshow (1982), id: 3016\n",
      "movie: Creepshow 2 (1987), id: 3017\n",
      "movie: Last Picture Show, The (1971), id: 3152\n",
      "movie: Shower (Xizhao) (1999), id: 3787\n",
      "movie: Best in Show (2000), id: 3911\n"
     ]
    }
   ],
   "source": [
    "find_movie('show')  #Truman Show, The (1998), id: 1682"
   ]
  },
  {
   "cell_type": "code",
   "execution_count": 17,
   "id": "68bfa870",
   "metadata": {
    "scrolled": false
   },
   "outputs": [
    {
     "name": "stdout",
     "output_type": "stream",
     "text": [
      "movie: Toy Story (1995), id: 1\n",
      "movie: Toy Story 2 (1999), id: 3114\n"
     ]
    }
   ],
   "source": [
    "find_movie('toy story')  # Toy Story (1995), id: 1"
   ]
  },
  {
   "cell_type": "code",
   "execution_count": 18,
   "id": "b17d1120",
   "metadata": {
    "scrolled": true
   },
   "outputs": [
    {
     "name": "stdout",
     "output_type": "stream",
     "text": [
      "movie: Before and After (1996), id: 113\n",
      "movie: Before the Rain (Pred dozhdot) (1994), id: 214\n",
      "movie: Before Sunrise (1995), id: 215\n",
      "movie: Nightmare Before Christmas, The (1993), id: 551\n",
      "movie: Land Before Time III: The Time of the Great Giving (1995), id: 888\n"
     ]
    }
   ],
   "source": [
    "find_movie('before')  #Before Sunrise (1995), id: 215"
   ]
  },
  {
   "cell_type": "code",
   "execution_count": 19,
   "id": "62f9eeca",
   "metadata": {},
   "outputs": [],
   "source": [
    "my_movie = [1515, 215, 1682, 1, 2671] "
   ]
  },
  {
   "cell_type": "markdown",
   "id": "81fa8b42",
   "metadata": {},
   "source": [
    "좋아하는 영화에 별점 5점 주기"
   ]
  },
  {
   "cell_type": "code",
   "execution_count": 20,
   "id": "13160ef8",
   "metadata": {
    "scrolled": true
   },
   "outputs": [
    {
     "data": {
      "text/html": [
       "<div>\n",
       "<style scoped>\n",
       "    .dataframe tbody tr th:only-of-type {\n",
       "        vertical-align: middle;\n",
       "    }\n",
       "\n",
       "    .dataframe tbody tr th {\n",
       "        vertical-align: top;\n",
       "    }\n",
       "\n",
       "    .dataframe thead th {\n",
       "        text-align: right;\n",
       "    }\n",
       "</style>\n",
       "<table border=\"1\" class=\"dataframe\">\n",
       "  <thead>\n",
       "    <tr style=\"text-align: right;\">\n",
       "      <th></th>\n",
       "      <th>user_id</th>\n",
       "      <th>movie_id</th>\n",
       "      <th>count</th>\n",
       "    </tr>\n",
       "  </thead>\n",
       "  <tbody>\n",
       "    <tr>\n",
       "      <th>0</th>\n",
       "      <td>6041</td>\n",
       "      <td>1515</td>\n",
       "      <td>5</td>\n",
       "    </tr>\n",
       "    <tr>\n",
       "      <th>1</th>\n",
       "      <td>6041</td>\n",
       "      <td>215</td>\n",
       "      <td>5</td>\n",
       "    </tr>\n",
       "    <tr>\n",
       "      <th>2</th>\n",
       "      <td>6041</td>\n",
       "      <td>1682</td>\n",
       "      <td>5</td>\n",
       "    </tr>\n",
       "    <tr>\n",
       "      <th>3</th>\n",
       "      <td>6041</td>\n",
       "      <td>1</td>\n",
       "      <td>5</td>\n",
       "    </tr>\n",
       "    <tr>\n",
       "      <th>4</th>\n",
       "      <td>6041</td>\n",
       "      <td>2671</td>\n",
       "      <td>5</td>\n",
       "    </tr>\n",
       "  </tbody>\n",
       "</table>\n",
       "</div>"
      ],
      "text/plain": [
       "   user_id  movie_id  count\n",
       "0     6041      1515      5\n",
       "1     6041       215      5\n",
       "2     6041      1682      5\n",
       "3     6041         1      5\n",
       "4     6041      2671      5"
      ]
     },
     "execution_count": 20,
     "metadata": {},
     "output_type": "execute_result"
    }
   ],
   "source": [
    "myfav = {'user_id': [6041]*5, 'movie_id': my_movie, 'count':[5]*5}\n",
    "myfav = pd.DataFrame(myfav)\n",
    "myfav"
   ]
  },
  {
   "cell_type": "markdown",
   "id": "34b3af84",
   "metadata": {},
   "source": [
    "데이터 합치기"
   ]
  },
  {
   "cell_type": "code",
   "execution_count": 21,
   "id": "c03bb7a5",
   "metadata": {
    "scrolled": true
   },
   "outputs": [
    {
     "data": {
      "text/html": [
       "<div>\n",
       "<style scoped>\n",
       "    .dataframe tbody tr th:only-of-type {\n",
       "        vertical-align: middle;\n",
       "    }\n",
       "\n",
       "    .dataframe tbody tr th {\n",
       "        vertical-align: top;\n",
       "    }\n",
       "\n",
       "    .dataframe thead th {\n",
       "        text-align: right;\n",
       "    }\n",
       "</style>\n",
       "<table border=\"1\" class=\"dataframe\">\n",
       "  <thead>\n",
       "    <tr style=\"text-align: right;\">\n",
       "      <th></th>\n",
       "      <th>user_id</th>\n",
       "      <th>movie_id</th>\n",
       "      <th>count</th>\n",
       "    </tr>\n",
       "  </thead>\n",
       "  <tbody>\n",
       "    <tr>\n",
       "      <th>1000203</th>\n",
       "      <td>6040</td>\n",
       "      <td>1090</td>\n",
       "      <td>3</td>\n",
       "    </tr>\n",
       "    <tr>\n",
       "      <th>1000205</th>\n",
       "      <td>6040</td>\n",
       "      <td>1094</td>\n",
       "      <td>5</td>\n",
       "    </tr>\n",
       "    <tr>\n",
       "      <th>1000206</th>\n",
       "      <td>6040</td>\n",
       "      <td>562</td>\n",
       "      <td>5</td>\n",
       "    </tr>\n",
       "    <tr>\n",
       "      <th>1000207</th>\n",
       "      <td>6040</td>\n",
       "      <td>1096</td>\n",
       "      <td>4</td>\n",
       "    </tr>\n",
       "    <tr>\n",
       "      <th>1000208</th>\n",
       "      <td>6040</td>\n",
       "      <td>1097</td>\n",
       "      <td>4</td>\n",
       "    </tr>\n",
       "    <tr>\n",
       "      <th>0</th>\n",
       "      <td>6041</td>\n",
       "      <td>1515</td>\n",
       "      <td>5</td>\n",
       "    </tr>\n",
       "    <tr>\n",
       "      <th>1</th>\n",
       "      <td>6041</td>\n",
       "      <td>215</td>\n",
       "      <td>5</td>\n",
       "    </tr>\n",
       "    <tr>\n",
       "      <th>2</th>\n",
       "      <td>6041</td>\n",
       "      <td>1682</td>\n",
       "      <td>5</td>\n",
       "    </tr>\n",
       "    <tr>\n",
       "      <th>3</th>\n",
       "      <td>6041</td>\n",
       "      <td>1</td>\n",
       "      <td>5</td>\n",
       "    </tr>\n",
       "    <tr>\n",
       "      <th>4</th>\n",
       "      <td>6041</td>\n",
       "      <td>2671</td>\n",
       "      <td>5</td>\n",
       "    </tr>\n",
       "  </tbody>\n",
       "</table>\n",
       "</div>"
      ],
      "text/plain": [
       "         user_id  movie_id  count\n",
       "1000203     6040      1090      3\n",
       "1000205     6040      1094      5\n",
       "1000206     6040       562      5\n",
       "1000207     6040      1096      4\n",
       "1000208     6040      1097      4\n",
       "0           6041      1515      5\n",
       "1           6041       215      5\n",
       "2           6041      1682      5\n",
       "3           6041         1      5\n",
       "4           6041      2671      5"
      ]
     },
     "execution_count": 21,
     "metadata": {},
     "output_type": "execute_result"
    }
   ],
   "source": [
    "data = copy.deepcopy(ratings) # copy ratings dataset to object data\n",
    "if not ratings.isin({'user_id':['6041']})['user_id'].any():  \n",
    "    data = data.append(myfav) # add my favorites to dataset                          \n",
    "data.tail(10)"
   ]
  },
  {
   "cell_type": "code",
   "execution_count": 22,
   "id": "7c6495d3",
   "metadata": {
    "scrolled": true
   },
   "outputs": [
    {
     "data": {
      "text/plain": [
       "6040"
      ]
     },
     "execution_count": 22,
     "metadata": {},
     "output_type": "execute_result"
    }
   ],
   "source": [
    "num_user=data['user_id'].nunique()\n",
    "num_user"
   ]
  },
  {
   "cell_type": "code",
   "execution_count": 23,
   "id": "0e18491f",
   "metadata": {
    "scrolled": true
   },
   "outputs": [
    {
     "data": {
      "text/plain": [
       "3628"
      ]
     },
     "execution_count": 23,
     "metadata": {},
     "output_type": "execute_result"
    }
   ],
   "source": [
    "num_user=data['user_id'].nunique()\n",
    "num_user"
   ]
  },
  {
   "cell_type": "code",
   "execution_count": 26,
   "id": "ad5ffca7",
   "metadata": {},
   "outputs": [],
   "source": [
    "# 고유한 유저, 아티스트를 찾아내는 코드\n",
    "user_unique = data['user_id'].unique()\n",
    "movie_unique = data['movie_id'].unique()\n",
    "\n",
    "# 유저, 아티스트 indexing 하는 코드 idx는 index의 약자입니다.\n",
    "user_to_idx = {v:k for k,v in enumerate(user_unique)}\n",
    "movie_to_idx = {v:k for k,v in enumerate(movie_unique)}"
   ]
  },
  {
   "cell_type": "code",
   "execution_count": 27,
   "id": "a000a14b",
   "metadata": {
    "scrolled": false
   },
   "outputs": [
    {
     "name": "stdout",
     "output_type": "stream",
     "text": [
      "user_id column indexing OK!!\n",
      "movie column indexing OK!!\n"
     ]
    },
    {
     "data": {
      "text/html": [
       "<div>\n",
       "<style scoped>\n",
       "    .dataframe tbody tr th:only-of-type {\n",
       "        vertical-align: middle;\n",
       "    }\n",
       "\n",
       "    .dataframe tbody tr th {\n",
       "        vertical-align: top;\n",
       "    }\n",
       "\n",
       "    .dataframe thead th {\n",
       "        text-align: right;\n",
       "    }\n",
       "</style>\n",
       "<table border=\"1\" class=\"dataframe\">\n",
       "  <thead>\n",
       "    <tr style=\"text-align: right;\">\n",
       "      <th></th>\n",
       "      <th>user_id</th>\n",
       "      <th>movie_id</th>\n",
       "      <th>count</th>\n",
       "    </tr>\n",
       "  </thead>\n",
       "  <tbody>\n",
       "    <tr>\n",
       "      <th>0</th>\n",
       "      <td>0</td>\n",
       "      <td>0</td>\n",
       "      <td>5</td>\n",
       "    </tr>\n",
       "    <tr>\n",
       "      <th>1</th>\n",
       "      <td>0</td>\n",
       "      <td>1</td>\n",
       "      <td>3</td>\n",
       "    </tr>\n",
       "    <tr>\n",
       "      <th>2</th>\n",
       "      <td>0</td>\n",
       "      <td>2</td>\n",
       "      <td>3</td>\n",
       "    </tr>\n",
       "    <tr>\n",
       "      <th>3</th>\n",
       "      <td>0</td>\n",
       "      <td>3</td>\n",
       "      <td>4</td>\n",
       "    </tr>\n",
       "    <tr>\n",
       "      <th>4</th>\n",
       "      <td>0</td>\n",
       "      <td>4</td>\n",
       "      <td>5</td>\n",
       "    </tr>\n",
       "    <tr>\n",
       "      <th>...</th>\n",
       "      <td>...</td>\n",
       "      <td>...</td>\n",
       "      <td>...</td>\n",
       "    </tr>\n",
       "    <tr>\n",
       "      <th>0</th>\n",
       "      <td>6039</td>\n",
       "      <td>2465</td>\n",
       "      <td>5</td>\n",
       "    </tr>\n",
       "    <tr>\n",
       "      <th>1</th>\n",
       "      <td>6039</td>\n",
       "      <td>213</td>\n",
       "      <td>5</td>\n",
       "    </tr>\n",
       "    <tr>\n",
       "      <th>2</th>\n",
       "      <td>6039</td>\n",
       "      <td>385</td>\n",
       "      <td>5</td>\n",
       "    </tr>\n",
       "    <tr>\n",
       "      <th>3</th>\n",
       "      <td>6039</td>\n",
       "      <td>40</td>\n",
       "      <td>5</td>\n",
       "    </tr>\n",
       "    <tr>\n",
       "      <th>4</th>\n",
       "      <td>6039</td>\n",
       "      <td>1151</td>\n",
       "      <td>5</td>\n",
       "    </tr>\n",
       "  </tbody>\n",
       "</table>\n",
       "<p>836483 rows × 3 columns</p>\n",
       "</div>"
      ],
      "text/plain": [
       "    user_id  movie_id  count\n",
       "0         0         0      5\n",
       "1         0         1      3\n",
       "2         0         2      3\n",
       "3         0         3      4\n",
       "4         0         4      5\n",
       "..      ...       ...    ...\n",
       "0      6039      2465      5\n",
       "1      6039       213      5\n",
       "2      6039       385      5\n",
       "3      6039        40      5\n",
       "4      6039      1151      5\n",
       "\n",
       "[836483 rows x 3 columns]"
      ]
     },
     "execution_count": 27,
     "metadata": {},
     "output_type": "execute_result"
    }
   ],
   "source": [
    "# indexing을 통해 데이터 컬럼 내 값을 바꾸는 코드\n",
    "# dictionary 자료형의 get 함수는 https://wikidocs.net/16 을 참고하세요.\n",
    "\n",
    "# user_to_idx.get을 통해 user_id 컬럼의 모든 값을 인덱싱한 Series를 구해 봅시다. \n",
    "# 혹시 정상적으로 인덱싱되지 않은 row가 있다면 인덱스가 NaN이 될 테니 dropna()로 제거합니다. \n",
    "temp_user_data = data['user_id'].map(user_to_idx.get).dropna()\n",
    "if len(temp_user_data) == len(data):   # 모든 row가 정상적으로 인덱싱되었다면\n",
    "    print('user_id column indexing OK!!')\n",
    "    data['user_id'] = temp_user_data   # data['user_id']을 인덱싱된 Series로 교체해 줍니다. \n",
    "else:\n",
    "    print('user_id column indexing Fail!!')\n",
    "\n",
    "# artist_to_idx을 통해 artist 컬럼도 동일한 방식으로 인덱싱해 줍니다. \n",
    "temp_movie_data = data['movie_id'].map(movie_to_idx.get).dropna()\n",
    "if len(temp_movie_data) == len(data):\n",
    "    print('movie column indexing OK!!')\n",
    "    data['movie_id'] = temp_movie_data\n",
    "else:\n",
    "    print('movie column indexing Fail!!')\n",
    "\n",
    "data"
   ]
  },
  {
   "cell_type": "code",
   "execution_count": 28,
   "id": "9ed25fbd",
   "metadata": {
    "scrolled": true
   },
   "outputs": [
    {
     "data": {
      "text/plain": [
       "836483"
      ]
     },
     "execution_count": 28,
     "metadata": {},
     "output_type": "execute_result"
    }
   ],
   "source": [
    "len(data)"
   ]
  },
  {
   "cell_type": "code",
   "execution_count": 30,
   "id": "32bf2cc6",
   "metadata": {
    "scrolled": true
   },
   "outputs": [
    {
     "data": {
      "text/plain": [
       "836483"
      ]
     },
     "execution_count": 30,
     "metadata": {},
     "output_type": "execute_result"
    }
   ],
   "source": [
    "data['count'].size"
   ]
  },
  {
   "cell_type": "code",
   "execution_count": 31,
   "id": "e47cbeba",
   "metadata": {
    "scrolled": true
   },
   "outputs": [
    {
     "data": {
      "text/plain": [
       "836483"
      ]
     },
     "execution_count": 31,
     "metadata": {},
     "output_type": "execute_result"
    }
   ],
   "source": [
    "data['user_id'].size"
   ]
  },
  {
   "cell_type": "code",
   "execution_count": 32,
   "id": "0e145753",
   "metadata": {
    "scrolled": true
   },
   "outputs": [
    {
     "data": {
      "text/plain": [
       "836483"
      ]
     },
     "execution_count": 32,
     "metadata": {},
     "output_type": "execute_result"
    }
   ],
   "source": [
    "data['movie_id'].size"
   ]
  },
  {
   "cell_type": "code",
   "execution_count": 59,
   "id": "02f41c32",
   "metadata": {
    "scrolled": false
   },
   "outputs": [
    {
     "data": {
      "text/plain": [
       "<6040x3628 sparse matrix of type '<class 'numpy.int64'>'\n",
       "\twith 836483 stored elements in Compressed Sparse Row format>"
      ]
     },
     "execution_count": 59,
     "metadata": {},
     "output_type": "execute_result"
    }
   ],
   "source": [
    "csr_data = csr_matrix((data['count'], (data.user_id, data.movie_id)), shape= (num_user, num_movie))\n",
    "csr_data "
   ]
  },
  {
   "cell_type": "code",
   "execution_count": 39,
   "id": "5afe2b97",
   "metadata": {},
   "outputs": [],
   "source": [
    "os.environ['OPENBLAS_NUM_THREADS']='1'\n",
    "os.environ['KMP_DUPLICATE_LIB_OK']='True'\n",
    "os.environ['MKL_NUM_THREADS']='1'"
   ]
  },
  {
   "cell_type": "markdown",
   "id": "5c9c9262",
   "metadata": {},
   "source": [
    "## Implicit AlternatingLeastSquares 모델의 선언"
   ]
  },
  {
   "cell_type": "code",
   "execution_count": 40,
   "id": "a2c68834",
   "metadata": {},
   "outputs": [],
   "source": [
    "als_model = AlternatingLeastSquares(factors=128, regularization=0.01, use_gpu=False, iterations=15, dtype=np.float32)"
   ]
  },
  {
   "cell_type": "markdown",
   "id": "a99f9308",
   "metadata": {},
   "source": [
    "als 모델은 input으로"
   ]
  },
  {
   "cell_type": "code",
   "execution_count": 41,
   "id": "37826365",
   "metadata": {
    "scrolled": false
   },
   "outputs": [
    {
     "data": {
      "text/plain": [
       "<3628x6040 sparse matrix of type '<class 'numpy.int64'>'\n",
       "\twith 836483 stored elements in Compressed Sparse Column format>"
      ]
     },
     "execution_count": 41,
     "metadata": {},
     "output_type": "execute_result"
    }
   ],
   "source": [
    "# als model takes in item x user shaped matrix as input; as csr_data is created as user x item it needs to be transposed\n",
    "csr_data_transpose = csr_data.T\n",
    "csr_data_transpose"
   ]
  },
  {
   "cell_type": "markdown",
   "id": "d2349b29",
   "metadata": {},
   "source": [
    "## 모델 훈련"
   ]
  },
  {
   "cell_type": "code",
   "execution_count": 42,
   "id": "f483e6a8",
   "metadata": {
    "scrolled": true
   },
   "outputs": [
    {
     "data": {
      "application/vnd.jupyter.widget-view+json": {
       "model_id": "331685cab975465b9982b3265c7c3980",
       "version_major": 2,
       "version_minor": 0
      },
      "text/plain": [
       "  0%|          | 0/15 [00:00<?, ?it/s]"
      ]
     },
     "metadata": {},
     "output_type": "display_data"
    }
   ],
   "source": [
    "als_model.fit(csr_data_transpose)"
   ]
  },
  {
   "cell_type": "code",
   "execution_count": 48,
   "id": "aa63b9e2",
   "metadata": {
    "scrolled": false
   },
   "outputs": [
    {
     "data": {
      "text/plain": [
       "array([-0.56939393, -0.00663457,  0.30873692,  0.07559075, -0.19237646,\n",
       "       -0.13198552, -0.09672124,  0.15444237,  0.05045356,  0.19502957,\n",
       "       -0.01299298,  0.3020425 ,  0.57330245, -0.2284207 , -0.05646583,\n",
       "        0.81403166,  0.60087496,  0.24036767,  0.80627   ,  0.330146  ,\n",
       "        0.28888777,  0.2247081 ,  0.41264036, -0.30002305, -0.11570273,\n",
       "       -0.39915684,  0.04017757, -0.11698263, -0.18739295,  0.31681982,\n",
       "       -0.5111319 , -0.01370466, -0.24154994, -0.63750213,  0.23833863,\n",
       "        0.28799298,  0.41193816, -0.07851811,  0.37024707, -0.19436455,\n",
       "       -0.14855023, -0.41413727,  0.03446487,  0.2162128 ,  0.3354319 ,\n",
       "       -0.29721525,  0.89515686, -0.08063932, -0.2512997 , -0.14672117,\n",
       "       -0.3479793 , -0.28795946,  0.4673346 , -0.2433402 ,  0.08607879,\n",
       "        0.06903581,  0.38980204, -0.28623748,  0.29968926,  0.16902953,\n",
       "        0.3871752 ,  0.46077254,  0.2268375 ,  0.08636063,  0.03274453,\n",
       "       -0.31178662, -0.3248436 , -0.01583325, -0.83853817, -0.05667205,\n",
       "        0.1566583 , -0.82857925,  0.24982065,  0.46292242, -0.40927207,\n",
       "        0.23925354, -0.24573945, -0.15340492,  0.11330514, -0.01261381,\n",
       "       -0.06182539, -0.5991269 ,  0.13775747,  0.23704925, -0.00350667,\n",
       "        0.49744275,  0.62218624,  0.32928815,  0.07079486,  0.24384157,\n",
       "        0.08897704,  0.13706946,  0.33750957, -0.68412614,  0.4662581 ,\n",
       "       -0.15946297,  0.07886022, -0.600944  , -0.9093051 ,  0.50251514,\n",
       "        0.09030312, -0.28237253,  0.3720867 , -0.13601008, -0.6689872 ,\n",
       "       -0.83727187,  0.04401819, -0.9278562 ,  1.0954964 , -0.37737873,\n",
       "        0.2551716 , -0.50596195, -0.5140765 , -0.23241447,  0.2909816 ,\n",
       "       -0.27283335,  0.37668267, -0.6541647 ,  0.49991345,  0.7577584 ,\n",
       "       -0.4275673 ,  0.27769968, -0.28380874,  0.9068034 , -0.1417673 ,\n",
       "        0.27687362,  0.06085873, -0.5862726 ], dtype=float32)"
      ]
     },
     "execution_count": 48,
     "metadata": {},
     "output_type": "execute_result"
    }
   ],
   "source": [
    "# get my user vector from trained model\n",
    "als_model.user_factors[6039]"
   ]
  },
  {
   "cell_type": "code",
   "execution_count": 49,
   "id": "9620e8e7",
   "metadata": {
    "scrolled": false
   },
   "outputs": [
    {
     "data": {
      "text/html": [
       "<div>\n",
       "<style scoped>\n",
       "    .dataframe tbody tr th:only-of-type {\n",
       "        vertical-align: middle;\n",
       "    }\n",
       "\n",
       "    .dataframe tbody tr th {\n",
       "        vertical-align: top;\n",
       "    }\n",
       "\n",
       "    .dataframe thead th {\n",
       "        text-align: right;\n",
       "    }\n",
       "</style>\n",
       "<table border=\"1\" class=\"dataframe\">\n",
       "  <thead>\n",
       "    <tr style=\"text-align: right;\">\n",
       "      <th></th>\n",
       "      <th>movie_id</th>\n",
       "      <th>title</th>\n",
       "      <th>genre</th>\n",
       "      <th>title_lower</th>\n",
       "    </tr>\n",
       "  </thead>\n",
       "  <tbody>\n",
       "    <tr>\n",
       "      <th>0</th>\n",
       "      <td>1</td>\n",
       "      <td>Toy Story (1995)</td>\n",
       "      <td>Animation|Children's|Comedy</td>\n",
       "      <td>toy story (1995)</td>\n",
       "    </tr>\n",
       "    <tr>\n",
       "      <th>213</th>\n",
       "      <td>215</td>\n",
       "      <td>Before Sunrise (1995)</td>\n",
       "      <td>Drama|Romance</td>\n",
       "      <td>before sunrise (1995)</td>\n",
       "    </tr>\n",
       "    <tr>\n",
       "      <th>1480</th>\n",
       "      <td>1515</td>\n",
       "      <td>Volcano (1997)</td>\n",
       "      <td>Drama|Thriller</td>\n",
       "      <td>volcano (1997)</td>\n",
       "    </tr>\n",
       "    <tr>\n",
       "      <th>1636</th>\n",
       "      <td>1682</td>\n",
       "      <td>Truman Show, The (1998)</td>\n",
       "      <td>Drama</td>\n",
       "      <td>truman show, the (1998)</td>\n",
       "    </tr>\n",
       "    <tr>\n",
       "      <th>2602</th>\n",
       "      <td>2671</td>\n",
       "      <td>Notting Hill (1999)</td>\n",
       "      <td>Comedy|Romance</td>\n",
       "      <td>notting hill (1999)</td>\n",
       "    </tr>\n",
       "  </tbody>\n",
       "</table>\n",
       "</div>"
      ],
      "text/plain": [
       "      movie_id                    title                        genre  \\\n",
       "0            1         Toy Story (1995)  Animation|Children's|Comedy   \n",
       "213        215    Before Sunrise (1995)                Drama|Romance   \n",
       "1480      1515           Volcano (1997)               Drama|Thriller   \n",
       "1636      1682  Truman Show, The (1998)                        Drama   \n",
       "2602      2671      Notting Hill (1999)               Comedy|Romance   \n",
       "\n",
       "                  title_lower  \n",
       "0            toy story (1995)  \n",
       "213     before sunrise (1995)  \n",
       "1480           volcano (1997)  \n",
       "1636  truman show, the (1998)  \n",
       "2602      notting hill (1999)  "
      ]
     },
     "execution_count": 49,
     "metadata": {},
     "output_type": "execute_result"
    }
   ],
   "source": [
    "movies[movies['movie_id'].isin(myfav['movie_id'])]"
   ]
  },
  {
   "cell_type": "code",
   "execution_count": 50,
   "id": "b1422e36",
   "metadata": {
    "scrolled": true
   },
   "outputs": [
    {
     "data": {
      "text/html": [
       "<div>\n",
       "<style scoped>\n",
       "    .dataframe tbody tr th:only-of-type {\n",
       "        vertical-align: middle;\n",
       "    }\n",
       "\n",
       "    .dataframe tbody tr th {\n",
       "        vertical-align: top;\n",
       "    }\n",
       "\n",
       "    .dataframe thead th {\n",
       "        text-align: right;\n",
       "    }\n",
       "</style>\n",
       "<table border=\"1\" class=\"dataframe\">\n",
       "  <thead>\n",
       "    <tr style=\"text-align: right;\">\n",
       "      <th></th>\n",
       "      <th>movie_id</th>\n",
       "      <th>title</th>\n",
       "      <th>genre</th>\n",
       "      <th>title_lower</th>\n",
       "    </tr>\n",
       "  </thead>\n",
       "  <tbody>\n",
       "    <tr>\n",
       "      <th>3122</th>\n",
       "      <td>3191</td>\n",
       "      <td>Quarry, The (1998)</td>\n",
       "      <td>Drama</td>\n",
       "      <td>quarry, the (1998)</td>\n",
       "    </tr>\n",
       "  </tbody>\n",
       "</table>\n",
       "</div>"
      ],
      "text/plain": [
       "      movie_id               title  genre         title_lower\n",
       "3122      3191  Quarry, The (1998)  Drama  quarry, the (1998)"
      ]
     },
     "execution_count": 50,
     "metadata": {},
     "output_type": "execute_result"
    }
   ],
   "source": [
    "# pick random movie\n",
    "random_movie = np.random.choice(movies['movie_id'])\n",
    "movies[movies['movie_id']==random_movie]"
   ]
  },
  {
   "cell_type": "code",
   "execution_count": 52,
   "id": "c0eb51cd",
   "metadata": {},
   "outputs": [
    {
     "name": "stdout",
     "output_type": "stream",
     "text": [
      " inspector gadget favor score : 0.005873588845133781 , before sunrise favor score : 0.05734647065401077\n"
     ]
    }
   ],
   "source": [
    "# get favor score of inspector gadget and before sunrise\n",
    "r_mov_vec, fav_mov_vec =  als_model.item_factors[2720], als_model.item_factors[215]\n",
    "my_vec = als_model.user_factors[6039]\n",
    "print(f' inspector gadget favor score : {np.dot(my_vec, r_mov_vec)} , before sunrise favor score : {np.dot(my_vec, fav_mov_vec)}') "
   ]
  },
  {
   "cell_type": "code",
   "execution_count": 53,
   "id": "cd2203b2",
   "metadata": {
    "scrolled": false
   },
   "outputs": [
    {
     "name": "stdout",
     "output_type": "stream",
     "text": [
      "0           Toy Story (1995)\n",
      "213    Before Sunrise (1995)\n",
      "Name: title, dtype: object\n",
      "2518    Life (1999)\n",
      "Name: title, dtype: object\n",
      "258    Little Women (1994)\n",
      "Name: title, dtype: object\n",
      "272    Mixed Nuts (1994)\n",
      "Name: title, dtype: object\n",
      "3241    Kid, The (1921)\n",
      "Name: title, dtype: object\n",
      "2475    School of Flesh, The (L' École de la chair) (1...\n",
      "Name: title, dtype: object\n",
      "2933    My Best Fiend (Mein liebster Feind) (1999)\n",
      "Name: title, dtype: object\n",
      "2472    Cruel Intentions (1999)\n",
      "Name: title, dtype: object\n",
      "1716    Blues Brothers 2000 (1998)\n",
      "Name: title, dtype: object\n",
      "435    Dangerous Game (1993)\n",
      "Name: title, dtype: object\n"
     ]
    }
   ],
   "source": [
    "# before sunrise와 비슷한 영화 찾아보기\n",
    "\n",
    "similar_movie = als_model.similar_items(215, N=10)\n",
    "for x in range(len(similar_movie)):\n",
    "    print(movies['title'][movies['movie_id'].isin(similar_movie[x])])"
   ]
  },
  {
   "cell_type": "code",
   "execution_count": 55,
   "id": "7d0ca87e",
   "metadata": {
    "scrolled": false
   },
   "outputs": [
    {
     "data": {
      "text/plain": [
       "[(50, 0.42415905),\n",
       " (322, 0.291341),\n",
       " (384, 0.27783117),\n",
       " (4, 0.2735495),\n",
       " (39, 0.2477045),\n",
       " (139, 0.24583608),\n",
       " (248, 0.24059623),\n",
       " (110, 0.23902464),\n",
       " (626, 0.21532747),\n",
       " (666, 0.21518186),\n",
       " (5, 0.20192853),\n",
       " (336, 0.18748227),\n",
       " (33, 0.18154499),\n",
       " (160, 0.17775194),\n",
       " (851, 0.17738283),\n",
       " (1352, 0.1749626),\n",
       " (330, 0.16698794),\n",
       " (217, 0.16220742),\n",
       " (466, 0.15357542),\n",
       " (20, 0.15127403)]"
      ]
     },
     "execution_count": 55,
     "metadata": {},
     "output_type": "execute_result"
    }
   ],
   "source": [
    "movies_recommended = als_model.recommend(6039, csr_data, N=20, filter_already_liked_items=True)\n",
    "movies_recommended"
   ]
  },
  {
   "cell_type": "code",
   "execution_count": 56,
   "id": "57f12117",
   "metadata": {
    "scrolled": false
   },
   "outputs": [
    {
     "data": {
      "text/plain": [
       "50"
      ]
     },
     "execution_count": 56,
     "metadata": {},
     "output_type": "execute_result"
    }
   ],
   "source": [
    "movies_recommended[0][0]"
   ]
  },
  {
   "cell_type": "code",
   "execution_count": 57,
   "id": "d9633017",
   "metadata": {
    "scrolled": false
   },
   "outputs": [
    {
     "data": {
      "text/plain": [
       "20"
      ]
     },
     "execution_count": 57,
     "metadata": {},
     "output_type": "execute_result"
    }
   ],
   "source": [
    "len(movies_recommended)"
   ]
  },
  {
   "cell_type": "markdown",
   "id": "201fbb6e",
   "metadata": {},
   "source": [
    "## 영화 추천"
   ]
  },
  {
   "cell_type": "code",
   "execution_count": 58,
   "id": "83f94b05",
   "metadata": {
    "scrolled": false
   },
   "outputs": [
    {
     "name": "stdout",
     "output_type": "stream",
     "text": [
      "추천영화 : 49    Usual Suspects, The (1995)\n",
      "Name: title, dtype: object 선호도 : 0.424\n",
      "추천영화 : 319    Swimming with Sharks (1995)\n",
      "Name: title, dtype: object 선호도 : 0.291\n",
      "추천영화 : 380    Bad Company (1995)\n",
      "Name: title, dtype: object 선호도 : 0.278\n",
      "추천영화 : 3    Waiting to Exhale (1995)\n",
      "Name: title, dtype: object 선호도 : 0.274\n",
      "추천영화 : 38    Clueless (1995)\n",
      "Name: title, dtype: object 선호도 : 0.248\n",
      "추천영화 : 137    Target (1995)\n",
      "Name: title, dtype: object 선호도 : 0.246\n",
      "추천영화 : 245    Houseguest (1994)\n",
      "Name: title, dtype: object 선호도 : 0.241\n",
      "추천영화 : 108    Braveheart (1995)\n",
      "Name: title, dtype: object 선호도 : 0.239\n",
      "추천영화 : 621    Thin Line Between Love and Hate, A (1996)\n",
      "Name: title, dtype: object 선호도 : 0.215\n",
      "추천영화 : 660    All Things Fair (1996)\n",
      "Name: title, dtype: object 선호도 : 0.215\n",
      "추천영화 : 4    Father of the Bride Part II (1995)\n",
      "Name: title, dtype: object 선호도 : 0.202\n",
      "추천영화 : 332    Walking Dead, The (1995)\n",
      "Name: title, dtype: object 선호도 : 0.187\n",
      "추천영화 : 32    Wings of Courage (1995)\n",
      "Name: title, dtype: object 선호도 : 0.182\n",
      "추천영화 : 158    Congo (1995)\n",
      "Name: title, dtype: object 선호도 : 0.178\n",
      "추천영화 : 840    Basquiat (1996)\n",
      "Name: title, dtype: object 선호도 : 0.177\n",
      "추천영화 : 1331    Albino Alligator (1996)\n",
      "Name: title, dtype: object 선호도 : 0.175\n",
      "추천영화 : 326    Tales from the Hood (1995)\n",
      "Name: title, dtype: object 선호도 : 0.167\n",
      "추천영화 : 215    Babysitter, The (1995)\n",
      "Name: title, dtype: object 선호도 : 0.162\n",
      "추천영화 : 462    Hot Shots! Part Deux (1993)\n",
      "Name: title, dtype: object 선호도 : 0.154\n",
      "추천영화 : 19    Money Train (1995)\n",
      "Name: title, dtype: object 선호도 : 0.151\n"
     ]
    }
   ],
   "source": [
    "for x, y in movies_recommended:\n",
    "    title = movies['title'][movies['movie_id'].isin([x])]\n",
    "    print(f'추천영화 : {title}', end = ' ')\n",
    "    print(f'선호도 : {y:.3f}')"
   ]
  },
  {
   "cell_type": "markdown",
   "id": "1e9fa033",
   "metadata": {},
   "source": [
    "## Retrospection"
   ]
  },
  {
   "cell_type": "markdown",
   "id": "a13ae3ae",
   "metadata": {},
   "source": [
    "영화 추천 목록을 검색해 봤는데 내가 좋아할 만한 것이다. 추천이 잘 된 것 같다. csr을 불러오는 과정에서 에러가 났다.\n",
    "\n",
    "<에러가 난 코드>\n",
    "\n",
    "##### csr_data = csr_matrix((data['count'], (data.user_id, data.movie_id)), shape= (num_user, num_movie)) \n",
    "\n",
    "count의 변수 명을 counts가 아닌 count로 설정을 했다. 파이썬에서는 count라는 함수가 있는데 처음에 내가 코드를 data.count로 코드를 짜서 변수count와 함수count가 꼬여서 오류가 났던 것 같다. 그래서 data['count']로 수정했더니 실행이 되었다 !!\n",
    "\n",
    "전처리를 하는 과정에서 좋아하는 영화를 추가할 때 인덱스를 6041이 아닌 zziho로 이름을 붙여주고 싶었는데 에러가 났다. 이유는 앞의 인덱스가 int형이고 zziho는 str형태이기 때문에 충돌이 났다. 그래서 6041로 이름을 붙여줬다. 그래서 오류를 해결했다. 1~6040의 인덱스를 int형태가 아닌 str형태로 바꾼 후 zziho로 인덱스를 추가해 주어도 에러가 해결이 될 거 같다는 생각이 지금 회고를 쓰면서 생각이 났다. 하지만 시도를 했다가는 익스 제출을 영영 하지 못할 것 같아서 다음 기회에 시도해 보겠다.\n"
   ]
  }
 ],
 "metadata": {
  "kernelspec": {
   "display_name": "Python 3 (ipykernel)",
   "language": "python",
   "name": "python3"
  },
  "language_info": {
   "codemirror_mode": {
    "name": "ipython",
    "version": 3
   },
   "file_extension": ".py",
   "mimetype": "text/x-python",
   "name": "python",
   "nbconvert_exporter": "python",
   "pygments_lexer": "ipython3",
   "version": "3.9.7"
  }
 },
 "nbformat": 4,
 "nbformat_minor": 5
}

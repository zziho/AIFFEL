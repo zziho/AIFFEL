{
 "cells": [
  {
   "cell_type": "markdown",
   "id": "391bf820",
   "metadata": {},
   "source": [
    "# 8. 뉴스 요약하기"
   ]
  },
  {
   "cell_type": "code",
   "execution_count": 9,
   "id": "e518dddd",
   "metadata": {},
   "outputs": [],
   "source": [
    "import numpy as np\n",
    "import pandas as pd\n",
    "import os\n",
    "import re\n",
    "import matplotlib.pyplot as plt\n",
    "from nltk.corpus import stopwords\n",
    "from bs4 import BeautifulSoup \n",
    "from tensorflow.keras.preprocessing.text import Tokenizer \n",
    "from tensorflow.keras.preprocessing.sequence import pad_sequences\n",
    "import urllib.request\n",
    "import warnings\n",
    "import nltk\n",
    "warnings.filterwarnings(\"ignore\", category=UserWarning, module='bs4')"
   ]
  },
  {
   "cell_type": "markdown",
   "id": "835be463",
   "metadata": {},
   "source": [
    "## 데이터 준비하기"
   ]
  },
  {
   "cell_type": "code",
   "execution_count": 12,
   "id": "3e7c9f9d",
   "metadata": {},
   "outputs": [
    {
     "name": "stderr",
     "output_type": "stream",
     "text": [
      "[nltk_data] Downloading package stopwords to /aiffel/nltk_data...\n",
      "[nltk_data]   Unzipping corpora/stopwords.zip.\n"
     ]
    },
    {
     "data": {
      "text/plain": [
       "True"
      ]
     },
     "execution_count": 12,
     "metadata": {},
     "output_type": "execute_result"
    }
   ],
   "source": [
    "import nltk\n",
    "nltk.download('stopwords')"
   ]
  },
  {
   "cell_type": "code",
   "execution_count": 13,
   "id": "8d434376",
   "metadata": {},
   "outputs": [
    {
     "name": "stdout",
     "output_type": "stream",
     "text": [
      "전체 샘플수 : 98401\n"
     ]
    }
   ],
   "source": [
    "import urllib.request\n",
    "urllib.request.urlretrieve(\"https://raw.githubusercontent.com/sunnysai12345/News_Summary/master/news_summary_more.csv\", filename=\"news_summary_more.csv\")\n",
    "data = pd.read_csv('news_summary_more.csv', encoding='iso-8859-1')\n",
    "\n",
    "print('전체 샘플수 :', (len(data)))"
   ]
  },
  {
   "cell_type": "code",
   "execution_count": 14,
   "id": "11a49326",
   "metadata": {},
   "outputs": [
    {
     "data": {
      "text/html": [
       "<div>\n",
       "<style scoped>\n",
       "    .dataframe tbody tr th:only-of-type {\n",
       "        vertical-align: middle;\n",
       "    }\n",
       "\n",
       "    .dataframe tbody tr th {\n",
       "        vertical-align: top;\n",
       "    }\n",
       "\n",
       "    .dataframe thead th {\n",
       "        text-align: right;\n",
       "    }\n",
       "</style>\n",
       "<table border=\"1\" class=\"dataframe\">\n",
       "  <thead>\n",
       "    <tr style=\"text-align: right;\">\n",
       "      <th></th>\n",
       "      <th>headlines</th>\n",
       "      <th>text</th>\n",
       "    </tr>\n",
       "  </thead>\n",
       "  <tbody>\n",
       "    <tr>\n",
       "      <th>22587</th>\n",
       "      <td>DMK chief M Karunanidhi passes away aged 94 in...</td>\n",
       "      <td>DMK chief M Karunanidhi passed away aged 94 at...</td>\n",
       "    </tr>\n",
       "    <tr>\n",
       "      <th>54775</th>\n",
       "      <td>Pervez Musharraf killed my mother Benazir Bhut...</td>\n",
       "      <td>Bilawal Bhutto, son of former Pakistan PM Bena...</td>\n",
       "    </tr>\n",
       "    <tr>\n",
       "      <th>24868</th>\n",
       "      <td>Hina sends counter-notice to jewellery brand f...</td>\n",
       "      <td>Hina Khan, who has been accused of fraud by a ...</td>\n",
       "    </tr>\n",
       "    <tr>\n",
       "      <th>46606</th>\n",
       "      <td>Biggest mistake of my life: Nawazuddin on his ...</td>\n",
       "      <td>Nawazuddin Siddiqui has said revealing details...</td>\n",
       "    </tr>\n",
       "    <tr>\n",
       "      <th>20110</th>\n",
       "      <td>Hardik Patel begins indefinite fast for Patida...</td>\n",
       "      <td>Patidar Anamat Andolan Samiti leader Hardik Pa...</td>\n",
       "    </tr>\n",
       "    <tr>\n",
       "      <th>43153</th>\n",
       "      <td>After 'Gulaab Gang', I thought I was best vill...</td>\n",
       "      <td>Actress Juhi Chawla has said that she thought ...</td>\n",
       "    </tr>\n",
       "    <tr>\n",
       "      <th>16185</th>\n",
       "      <td>India beat Pak for 2nd time in 5 days, remain ...</td>\n",
       "      <td>Rohit Sharma and Shikhar Dhawan on Sunday slam...</td>\n",
       "    </tr>\n",
       "    <tr>\n",
       "      <th>1665</th>\n",
       "      <td>At least 51 women under 50 have entered Sabari...</td>\n",
       "      <td>At least 51 women under the age of 50 have ent...</td>\n",
       "    </tr>\n",
       "    <tr>\n",
       "      <th>93778</th>\n",
       "      <td>Airtel drops 'officially' from 'fastest networ...</td>\n",
       "      <td>Telecom major Bharti Airtel has modified its Ã...</td>\n",
       "    </tr>\n",
       "    <tr>\n",
       "      <th>41610</th>\n",
       "      <td>First poster of Govinda, Varun Sharma starrer ...</td>\n",
       "      <td>The first look poster of Govinda and 'Fukrey' ...</td>\n",
       "    </tr>\n",
       "  </tbody>\n",
       "</table>\n",
       "</div>"
      ],
      "text/plain": [
       "                                               headlines  \\\n",
       "22587  DMK chief M Karunanidhi passes away aged 94 in...   \n",
       "54775  Pervez Musharraf killed my mother Benazir Bhut...   \n",
       "24868  Hina sends counter-notice to jewellery brand f...   \n",
       "46606  Biggest mistake of my life: Nawazuddin on his ...   \n",
       "20110  Hardik Patel begins indefinite fast for Patida...   \n",
       "43153  After 'Gulaab Gang', I thought I was best vill...   \n",
       "16185  India beat Pak for 2nd time in 5 days, remain ...   \n",
       "1665   At least 51 women under 50 have entered Sabari...   \n",
       "93778  Airtel drops 'officially' from 'fastest networ...   \n",
       "41610  First poster of Govinda, Varun Sharma starrer ...   \n",
       "\n",
       "                                                    text  \n",
       "22587  DMK chief M Karunanidhi passed away aged 94 at...  \n",
       "54775  Bilawal Bhutto, son of former Pakistan PM Bena...  \n",
       "24868  Hina Khan, who has been accused of fraud by a ...  \n",
       "46606  Nawazuddin Siddiqui has said revealing details...  \n",
       "20110  Patidar Anamat Andolan Samiti leader Hardik Pa...  \n",
       "43153  Actress Juhi Chawla has said that she thought ...  \n",
       "16185  Rohit Sharma and Shikhar Dhawan on Sunday slam...  \n",
       "1665   At least 51 women under the age of 50 have ent...  \n",
       "93778  Telecom major Bharti Airtel has modified its Ã...  \n",
       "41610  The first look poster of Govinda and 'Fukrey' ...  "
      ]
     },
     "execution_count": 14,
     "metadata": {},
     "output_type": "execute_result"
    }
   ],
   "source": [
    "data.sample(10)"
   ]
  },
  {
   "cell_type": "markdown",
   "id": "e0072aef",
   "metadata": {},
   "source": [
    "## 데이터 전처리하기"
   ]
  },
  {
   "cell_type": "markdown",
   "id": "523a7da0",
   "metadata": {},
   "source": [
    "데이터 정리하기"
   ]
  },
  {
   "cell_type": "code",
   "execution_count": 15,
   "id": "d2b39990",
   "metadata": {
    "scrolled": true
   },
   "outputs": [
    {
     "name": "stdout",
     "output_type": "stream",
     "text": [
      "Text 열에서 중복을 배제한 유일한 샘플의 수 : 98360\n",
      "headlines 열에서 중복을 배제한 유일한 샘플의 수 : 98280\n"
     ]
    }
   ],
   "source": [
    "print('Text 열에서 중복을 배제한 유일한 샘플의 수 :', data['text'].nunique())\n",
    "print('headlines 열에서 중복을 배제한 유일한 샘플의 수 :', data['headlines'].nunique())"
   ]
  },
  {
   "cell_type": "code",
   "execution_count": 16,
   "id": "f68390fe",
   "metadata": {},
   "outputs": [
    {
     "name": "stdout",
     "output_type": "stream",
     "text": [
      "전체 샘플수 : 98360\n"
     ]
    }
   ],
   "source": [
    "# inplace=True 를 설정하면 DataFrame 타입 값을 return 하지 않고 data 내부를 직접적으로 바꿉니다\n",
    "data.drop_duplicates(subset = ['text'], inplace=True)\n",
    "print('전체 샘플수 :', (len(data)))"
   ]
  },
  {
   "cell_type": "code",
   "execution_count": 17,
   "id": "99687bc3",
   "metadata": {},
   "outputs": [
    {
     "name": "stdout",
     "output_type": "stream",
     "text": [
      "headlines    0\n",
      "text         0\n",
      "dtype: int64\n"
     ]
    }
   ],
   "source": [
    "print(data.isnull().sum())"
   ]
  },
  {
   "cell_type": "code",
   "execution_count": 18,
   "id": "4003c8e9",
   "metadata": {},
   "outputs": [
    {
     "name": "stdout",
     "output_type": "stream",
     "text": [
      "정규화 사전의 수:  120\n"
     ]
    }
   ],
   "source": [
    "contractions = {\"ain't\": \"is not\", \"aren't\": \"are not\",\"can't\": \"cannot\", \"'cause\": \"because\", \"could've\": \"could have\", \"couldn't\": \"could not\",\n",
    "                           \"didn't\": \"did not\",  \"doesn't\": \"does not\", \"don't\": \"do not\", \"hadn't\": \"had not\", \"hasn't\": \"has not\", \"haven't\": \"have not\",\n",
    "                           \"he'd\": \"he would\",\"he'll\": \"he will\", \"he's\": \"he is\", \"how'd\": \"how did\", \"how'd'y\": \"how do you\", \"how'll\": \"how will\", \"how's\": \"how is\",\n",
    "                           \"I'd\": \"I would\", \"I'd've\": \"I would have\", \"I'll\": \"I will\", \"I'll've\": \"I will have\",\"I'm\": \"I am\", \"I've\": \"I have\", \"i'd\": \"i would\",\n",
    "                           \"i'd've\": \"i would have\", \"i'll\": \"i will\",  \"i'll've\": \"i will have\",\"i'm\": \"i am\", \"i've\": \"i have\", \"isn't\": \"is not\", \"it'd\": \"it would\",\n",
    "                           \"it'd've\": \"it would have\", \"it'll\": \"it will\", \"it'll've\": \"it will have\",\"it's\": \"it is\", \"let's\": \"let us\", \"ma'am\": \"madam\",\n",
    "                           \"mayn't\": \"may not\", \"might've\": \"might have\",\"mightn't\": \"might not\",\"mightn't've\": \"might not have\", \"must've\": \"must have\",\n",
    "                           \"mustn't\": \"must not\", \"mustn't've\": \"must not have\", \"needn't\": \"need not\", \"needn't've\": \"need not have\",\"o'clock\": \"of the clock\",\n",
    "                           \"oughtn't\": \"ought not\", \"oughtn't've\": \"ought not have\", \"shan't\": \"shall not\", \"sha'n't\": \"shall not\", \"shan't've\": \"shall not have\",\n",
    "                           \"she'd\": \"she would\", \"she'd've\": \"she would have\", \"she'll\": \"she will\", \"she'll've\": \"she will have\", \"she's\": \"she is\",\n",
    "                           \"should've\": \"should have\", \"shouldn't\": \"should not\", \"shouldn't've\": \"should not have\", \"so've\": \"so have\",\"so's\": \"so as\",\n",
    "                           \"this's\": \"this is\",\"that'd\": \"that would\", \"that'd've\": \"that would have\", \"that's\": \"that is\", \"there'd\": \"there would\",\n",
    "                           \"there'd've\": \"there would have\", \"there's\": \"there is\", \"here's\": \"here is\",\"they'd\": \"they would\", \"they'd've\": \"they would have\",\n",
    "                           \"they'll\": \"they will\", \"they'll've\": \"they will have\", \"they're\": \"they are\", \"they've\": \"they have\", \"to've\": \"to have\",\n",
    "                           \"wasn't\": \"was not\", \"we'd\": \"we would\", \"we'd've\": \"we would have\", \"we'll\": \"we will\", \"we'll've\": \"we will have\", \"we're\": \"we are\",\n",
    "                           \"we've\": \"we have\", \"weren't\": \"were not\", \"what'll\": \"what will\", \"what'll've\": \"what will have\", \"what're\": \"what are\",\n",
    "                           \"what's\": \"what is\", \"what've\": \"what have\", \"when's\": \"when is\", \"when've\": \"when have\", \"where'd\": \"where did\", \"where's\": \"where is\",\n",
    "                           \"where've\": \"where have\", \"who'll\": \"who will\", \"who'll've\": \"who will have\", \"who's\": \"who is\", \"who've\": \"who have\",\n",
    "                           \"why's\": \"why is\", \"why've\": \"why have\", \"will've\": \"will have\", \"won't\": \"will not\", \"won't've\": \"will not have\",\n",
    "                           \"would've\": \"would have\", \"wouldn't\": \"would not\", \"wouldn't've\": \"would not have\", \"y'all\": \"you all\",\n",
    "                           \"y'all'd\": \"you all would\",\"y'all'd've\": \"you all would have\",\"y'all're\": \"you all are\",\"y'all've\": \"you all have\",\n",
    "                           \"you'd\": \"you would\", \"you'd've\": \"you would have\", \"you'll\": \"you will\", \"you'll've\": \"you will have\",\n",
    "                           \"you're\": \"you are\", \"you've\": \"you have\"}\n",
    "\n",
    "print(\"정규화 사전의 수: \", len(contractions))"
   ]
  },
  {
   "cell_type": "code",
   "execution_count": 19,
   "id": "049648f5",
   "metadata": {},
   "outputs": [
    {
     "name": "stdout",
     "output_type": "stream",
     "text": [
      "불용어 개수 : 179\n",
      "['i', 'me', 'my', 'myself', 'we', 'our', 'ours', 'ourselves', 'you', \"you're\", \"you've\", \"you'll\", \"you'd\", 'your', 'yours', 'yourself', 'yourselves', 'he', 'him', 'his', 'himself', 'she', \"she's\", 'her', 'hers', 'herself', 'it', \"it's\", 'its', 'itself', 'they', 'them', 'their', 'theirs', 'themselves', 'what', 'which', 'who', 'whom', 'this', 'that', \"that'll\", 'these', 'those', 'am', 'is', 'are', 'was', 'were', 'be', 'been', 'being', 'have', 'has', 'had', 'having', 'do', 'does', 'did', 'doing', 'a', 'an', 'the', 'and', 'but', 'if', 'or', 'because', 'as', 'until', 'while', 'of', 'at', 'by', 'for', 'with', 'about', 'against', 'between', 'into', 'through', 'during', 'before', 'after', 'above', 'below', 'to', 'from', 'up', 'down', 'in', 'out', 'on', 'off', 'over', 'under', 'again', 'further', 'then', 'once', 'here', 'there', 'when', 'where', 'why', 'how', 'all', 'any', 'both', 'each', 'few', 'more', 'most', 'other', 'some', 'such', 'no', 'nor', 'not', 'only', 'own', 'same', 'so', 'than', 'too', 'very', 's', 't', 'can', 'will', 'just', 'don', \"don't\", 'should', \"should've\", 'now', 'd', 'll', 'm', 'o', 're', 've', 'y', 'ain', 'aren', \"aren't\", 'couldn', \"couldn't\", 'didn', \"didn't\", 'doesn', \"doesn't\", 'hadn', \"hadn't\", 'hasn', \"hasn't\", 'haven', \"haven't\", 'isn', \"isn't\", 'ma', 'mightn', \"mightn't\", 'mustn', \"mustn't\", 'needn', \"needn't\", 'shan', \"shan't\", 'shouldn', \"shouldn't\", 'wasn', \"wasn't\", 'weren', \"weren't\", 'won', \"won't\", 'wouldn', \"wouldn't\"]\n"
     ]
    }
   ],
   "source": [
    "print('불용어 개수 :', len(stopwords.words('english') ))\n",
    "print(stopwords.words('english'))"
   ]
  },
  {
   "cell_type": "code",
   "execution_count": 20,
   "id": "331b9db4",
   "metadata": {},
   "outputs": [
    {
     "name": "stdout",
     "output_type": "stream",
     "text": [
      "=3\n"
     ]
    }
   ],
   "source": [
    "# 데이터 전처리 함수\n",
    "def preprocess_sentence(sentence, remove_stopwords=True):\n",
    "    sentence = sentence.lower() # 텍스트 소문자화\n",
    "    sentence = BeautifulSoup(sentence, \"lxml\").text # <br />, <a href = ...> 등의 html 태그 제거\n",
    "    sentence = re.sub(r'\\([^)]*\\)', '', sentence) # 괄호로 닫힌 문자열 (...) 제거 Ex) my husband (and myself!) for => my husband for\n",
    "    sentence = re.sub('\"','', sentence) # 쌍따옴표 \" 제거\n",
    "    sentence = ' '.join([contractions[t] if t in contractions else t for t in sentence.split(\" \")]) # 약어 정규화\n",
    "    sentence = re.sub(r\"'s\\b\",\"\", sentence) # 소유격 제거. Ex) roland's -> roland\n",
    "    sentence = re.sub(\"[^a-zA-Z]\", \" \", sentence) # 영어 외 문자(숫자, 특수문자 등) 공백으로 변환\n",
    "    sentence = re.sub('[m]{2,}', 'mm', sentence) # m이 3개 이상이면 2개로 변경. Ex) ummmmmmm yeah -> umm yeah\n",
    "    \n",
    "    # 불용어 제거 (Text)\n",
    "    if remove_stopwords:\n",
    "        tokens = ' '.join(word for word in sentence.split() if not word in stopwords.words('english') if len(word) > 1)\n",
    "    # 불용어 미제거 (Summary)\n",
    "    else:\n",
    "        tokens = ' '.join(word for word in sentence.split() if len(word) > 1)\n",
    "    return tokens\n",
    "print('=3')"
   ]
  },
  {
   "cell_type": "code",
   "execution_count": 21,
   "id": "7ac9139c",
   "metadata": {},
   "outputs": [
    {
     "name": "stdout",
     "output_type": "stream",
     "text": [
      "text 전처리 후 결과:  ['saurav kant alumnus upgrad iiit pg program machine learning artificial intelligence sr systems engineer infosys almost years work experience program upgrad degree career support helped transition data scientist tech mahindra salary hike upgrad online power learning powered lakh careers', 'kunal shah credit card bill payment platform cred gave users chance win free food swiggy one year pranav kaushik delhi techie bagged reward spending cred coins users get one cred coin per rupee bill paid used avail rewards brands like ixigo bookmyshow ubereats cult fit', 'new zealand defeated india wickets fourth odi hamilton thursday win first match five match odi series india lost international match rohit sharma captaincy consecutive victories dating back march match witnessed india getting seventh lowest total odi cricket history', 'aegon life iterm insurance plan customers enjoy tax benefits premiums paid save taxes plan provides life cover age years also customers options insure critical illnesses disability accidental death benefit rider life cover age years', 'speaking sexual harassment allegations rajkumar hirani sonam kapoor said known hirani many years true metoo movement get derailed metoo movement always believe woman case need reserve judgment added hirani accused assistant worked sanju']\n"
     ]
    }
   ],
   "source": [
    "clean_text = []\n",
    "# 전체 Text 데이터에 대한 전처리 : 10분 이상 시간이 걸릴 수 있습니다. \n",
    "for s in data['text']:\n",
    "    clean_text.append(preprocess_sentence(s))\n",
    "\n",
    "# 전처리 후 출력\n",
    "print(\"text 전처리 후 결과: \", clean_text[:5])"
   ]
  },
  {
   "cell_type": "code",
   "execution_count": 22,
   "id": "56595181",
   "metadata": {},
   "outputs": [
    {
     "name": "stdout",
     "output_type": "stream",
     "text": [
      "headlines 전처리 후 결과:  ['upgrad learner switches to career in ml al with salary hike', 'delhi techie wins free food from swiggy for one year on cred', 'new zealand end rohit sharma led india match winning streak', 'aegon life iterm insurance plan helps customers save tax', 'have known hirani for yrs what if metoo claims are not true sonam']\n"
     ]
    }
   ],
   "source": [
    "clean_summary = []\n",
    "# 전체 Summary 데이터에 대한 전처리 : 5분 이상 시간이 걸릴 수 있습니다. \n",
    "for s in data['headlines']:\n",
    "    clean_summary.append(preprocess_sentence(s, False))\n",
    "\n",
    "print(\"headlines 전처리 후 결과: \", clean_summary[:5])"
   ]
  },
  {
   "cell_type": "code",
   "execution_count": 23,
   "id": "6a769675",
   "metadata": {},
   "outputs": [
    {
     "name": "stdout",
     "output_type": "stream",
     "text": [
      "=3\n"
     ]
    }
   ],
   "source": [
    "data['text'] = clean_text\n",
    "data['headlines'] = clean_summary\n",
    "\n",
    "# 빈 값을 Null 값으로 변환\n",
    "data.replace('', np.nan, inplace=True)\n",
    "print('=3')"
   ]
  },
  {
   "cell_type": "code",
   "execution_count": 24,
   "id": "087efb0f",
   "metadata": {},
   "outputs": [
    {
     "data": {
      "text/plain": [
       "headlines    0\n",
       "text         0\n",
       "dtype: int64"
      ]
     },
     "execution_count": 24,
     "metadata": {},
     "output_type": "execute_result"
    }
   ],
   "source": [
    "data.isnull().sum()"
   ]
  },
  {
   "cell_type": "markdown",
   "id": "2fe4679d",
   "metadata": {},
   "source": [
    " 훈련데이터와 테스트데이터 나누기"
   ]
  },
  {
   "cell_type": "code",
   "execution_count": 25,
   "id": "a2fcafc7",
   "metadata": {},
   "outputs": [
    {
     "name": "stdout",
     "output_type": "stream",
     "text": [
      "텍스트의 최소 길이 : 1\n",
      "텍스트의 최대 길이 : 60\n",
      "텍스트의 평균 길이 : 35.09968483123221\n",
      "요약의 최소 길이 : 1\n",
      "요약의 최대 길이 : 16\n",
      "요약의 평균 길이 : 9.299532330215534\n"
     ]
    },
    {
     "data": {
      "image/png": "[encoded data removed]",
      "text/plain": [
       "<Figure size 432x288 with 2 Axes>"
      ]
     },
     "metadata": {
      "needs_background": "light"
     },
     "output_type": "display_data"
    },
    {
     "data": {
      "image/png": "[encoded data removed]",
      "text/plain": [
       "<Figure size 432x288 with 1 Axes>"
      ]
     },
     "metadata": {
      "needs_background": "light"
     },
     "output_type": "display_data"
    },
    {
     "data": {
      "image/png": "[encoded data removed]",
      "text/plain": [
       "<Figure size 432x288 with 1 Axes>"
      ]
     },
     "metadata": {
      "needs_background": "light"
     },
     "output_type": "display_data"
    }
   ],
   "source": [
    "# 길이 분포 출력\n",
    "import matplotlib.pyplot as plt\n",
    "\n",
    "text_len = [len(s.split()) for s in data['text']]\n",
    "headlines_len = [len(s.split()) for s in data['headlines']]\n",
    "\n",
    "print('텍스트의 최소 길이 : {}'.format(np.min(text_len)))\n",
    "print('텍스트의 최대 길이 : {}'.format(np.max(text_len)))\n",
    "print('텍스트의 평균 길이 : {}'.format(np.mean(text_len)))\n",
    "print('요약의 최소 길이 : {}'.format(np.min(headlines_len)))\n",
    "print('요약의 최대 길이 : {}'.format(np.max(headlines_len)))\n",
    "print('요약의 평균 길이 : {}'.format(np.mean(headlines_len)))\n",
    "\n",
    "plt.subplot(1,2,1)\n",
    "plt.boxplot(text_len)\n",
    "plt.title('text')\n",
    "plt.subplot(1,2,2)\n",
    "plt.boxplot(headlines_len)\n",
    "plt.title('headlines')\n",
    "plt.tight_layout()\n",
    "plt.show()\n",
    "\n",
    "plt.title('Text')\n",
    "plt.hist(text_len, bins = 40)\n",
    "plt.xlabel('length of samples')\n",
    "plt.ylabel('number of samples')\n",
    "plt.show()\n",
    "\n",
    "plt.title('headlines')\n",
    "plt.hist(headlines_len, bins = 40)\n",
    "plt.xlabel('length of samples')\n",
    "plt.ylabel('number of samples')\n",
    "plt.show()"
   ]
  },
  {
   "cell_type": "code",
   "execution_count": 26,
   "id": "512b1f75",
   "metadata": {},
   "outputs": [
    {
     "name": "stdout",
     "output_type": "stream",
     "text": [
      "=3\n"
     ]
    }
   ],
   "source": [
    "text_max_len = 45\n",
    "headlines_max_len = 11\n",
    "print('=3')"
   ]
  },
  {
   "cell_type": "code",
   "execution_count": 27,
   "id": "af522fce",
   "metadata": {},
   "outputs": [
    {
     "name": "stdout",
     "output_type": "stream",
     "text": [
      "=3\n"
     ]
    }
   ],
   "source": [
    "def below_threshold_len(max_len, nested_list):\n",
    "  cnt = 0\n",
    "  for s in nested_list:\n",
    "    if(len(s.split()) <= max_len):\n",
    "        cnt = cnt + 1\n",
    "  print('전체 샘플 중 길이가 %s 이하인 샘플의 비율: %s'%(max_len, (cnt / len(nested_list))))\n",
    "print('=3')"
   ]
  },
  {
   "cell_type": "code",
   "execution_count": 28,
   "id": "d3f1f8e2",
   "metadata": {},
   "outputs": [
    {
     "name": "stdout",
     "output_type": "stream",
     "text": [
      "전체 샘플 중 길이가 45 이하인 샘플의 비율: 0.9967771451809678\n",
      "전체 샘플 중 길이가 11 이하인 샘플의 비율: 0.9449877999186661\n"
     ]
    }
   ],
   "source": [
    "below_threshold_len(text_max_len, data['text'])\n",
    "below_threshold_len(headlines_max_len,  data['headlines'])"
   ]
  },
  {
   "cell_type": "code",
   "execution_count": 29,
   "id": "af12cd88",
   "metadata": {},
   "outputs": [
    {
     "name": "stdout",
     "output_type": "stream",
     "text": [
      "전체 샘플수 : 92656\n"
     ]
    }
   ],
   "source": [
    "data = data[data['text'].apply(lambda x: len(x.split()) <= text_max_len)]\n",
    "data = data[data['headlines'].apply(lambda x: len(x.split()) <= headlines_max_len)]\n",
    "print('전체 샘플수 :', (len(data)))"
   ]
  },
  {
   "cell_type": "code",
   "execution_count": 30,
   "id": "ddcb5dcf",
   "metadata": {},
   "outputs": [
    {
     "data": {
      "text/html": [
       "<div>\n",
       "<style scoped>\n",
       "    .dataframe tbody tr th:only-of-type {\n",
       "        vertical-align: middle;\n",
       "    }\n",
       "\n",
       "    .dataframe tbody tr th {\n",
       "        vertical-align: top;\n",
       "    }\n",
       "\n",
       "    .dataframe thead th {\n",
       "        text-align: right;\n",
       "    }\n",
       "</style>\n",
       "<table border=\"1\" class=\"dataframe\">\n",
       "  <thead>\n",
       "    <tr style=\"text-align: right;\">\n",
       "      <th></th>\n",
       "      <th>headlines</th>\n",
       "      <th>text</th>\n",
       "      <th>decoder_input</th>\n",
       "      <th>decoder_target</th>\n",
       "    </tr>\n",
       "  </thead>\n",
       "  <tbody>\n",
       "    <tr>\n",
       "      <th>0</th>\n",
       "      <td>upgrad learner switches to career in ml al wit...</td>\n",
       "      <td>saurav kant alumnus upgrad iiit pg program mac...</td>\n",
       "      <td>sostoken upgrad learner switches to career in ...</td>\n",
       "      <td>upgrad learner switches to career in ml al wit...</td>\n",
       "    </tr>\n",
       "    <tr>\n",
       "      <th>2</th>\n",
       "      <td>new zealand end rohit sharma led india match w...</td>\n",
       "      <td>new zealand defeated india wickets fourth odi ...</td>\n",
       "      <td>sostoken new zealand end rohit sharma led indi...</td>\n",
       "      <td>new zealand end rohit sharma led india match w...</td>\n",
       "    </tr>\n",
       "    <tr>\n",
       "      <th>3</th>\n",
       "      <td>aegon life iterm insurance plan helps customer...</td>\n",
       "      <td>aegon life iterm insurance plan customers enjo...</td>\n",
       "      <td>sostoken aegon life iterm insurance plan helps...</td>\n",
       "      <td>aegon life iterm insurance plan helps customer...</td>\n",
       "    </tr>\n",
       "    <tr>\n",
       "      <th>5</th>\n",
       "      <td>rahat fateh ali khan denies getting notice for...</td>\n",
       "      <td>pakistani singer rahat fateh ali khan denied r...</td>\n",
       "      <td>sostoken rahat fateh ali khan denies getting n...</td>\n",
       "      <td>rahat fateh ali khan denies getting notice for...</td>\n",
       "    </tr>\n",
       "    <tr>\n",
       "      <th>7</th>\n",
       "      <td>govt directs alok verma to join work day befor...</td>\n",
       "      <td>weeks ex cbi director alok verma told departme...</td>\n",
       "      <td>sostoken govt directs alok verma to join work ...</td>\n",
       "      <td>govt directs alok verma to join work day befor...</td>\n",
       "    </tr>\n",
       "  </tbody>\n",
       "</table>\n",
       "</div>"
      ],
      "text/plain": [
       "                                           headlines  \\\n",
       "0  upgrad learner switches to career in ml al wit...   \n",
       "2  new zealand end rohit sharma led india match w...   \n",
       "3  aegon life iterm insurance plan helps customer...   \n",
       "5  rahat fateh ali khan denies getting notice for...   \n",
       "7  govt directs alok verma to join work day befor...   \n",
       "\n",
       "                                                text  \\\n",
       "0  saurav kant alumnus upgrad iiit pg program mac...   \n",
       "2  new zealand defeated india wickets fourth odi ...   \n",
       "3  aegon life iterm insurance plan customers enjo...   \n",
       "5  pakistani singer rahat fateh ali khan denied r...   \n",
       "7  weeks ex cbi director alok verma told departme...   \n",
       "\n",
       "                                       decoder_input  \\\n",
       "0  sostoken upgrad learner switches to career in ...   \n",
       "2  sostoken new zealand end rohit sharma led indi...   \n",
       "3  sostoken aegon life iterm insurance plan helps...   \n",
       "5  sostoken rahat fateh ali khan denies getting n...   \n",
       "7  sostoken govt directs alok verma to join work ...   \n",
       "\n",
       "                                      decoder_target  \n",
       "0  upgrad learner switches to career in ml al wit...  \n",
       "2  new zealand end rohit sharma led india match w...  \n",
       "3  aegon life iterm insurance plan helps customer...  \n",
       "5  rahat fateh ali khan denies getting notice for...  \n",
       "7  govt directs alok verma to join work day befor...  "
      ]
     },
     "execution_count": 30,
     "metadata": {},
     "output_type": "execute_result"
    }
   ],
   "source": [
    "# 요약 데이터에는 시작 토큰과 종료 토큰을 추가한다.\n",
    "data['decoder_input'] = data['headlines'].apply(lambda x : 'sostoken '+ x)\n",
    "data['decoder_target'] = data['headlines'].apply(lambda x : x + ' eostoken')\n",
    "data.head()"
   ]
  },
  {
   "cell_type": "code",
   "execution_count": 31,
   "id": "15ddf1f4",
   "metadata": {},
   "outputs": [
    {
     "name": "stdout",
     "output_type": "stream",
     "text": [
      "=3\n"
     ]
    }
   ],
   "source": [
    "encoder_input = np.array(data['text']) # 인코더의 입력\n",
    "decoder_input = np.array(data['decoder_input']) # 디코더의 입력\n",
    "decoder_target = np.array(data['decoder_target']) # 디코더의 레이블\n",
    "print('=3')"
   ]
  },
  {
   "cell_type": "code",
   "execution_count": 32,
   "id": "13c12ddd",
   "metadata": {},
   "outputs": [
    {
     "name": "stdout",
     "output_type": "stream",
     "text": [
      "[21447  1411  7316 ... 49811 45115 65914]\n"
     ]
    }
   ],
   "source": [
    "indices = np.arange(encoder_input.shape[0])\n",
    "np.random.shuffle(indices)\n",
    "print(indices)"
   ]
  },
  {
   "cell_type": "code",
   "execution_count": 33,
   "id": "efc7090d",
   "metadata": {},
   "outputs": [
    {
     "name": "stdout",
     "output_type": "stream",
     "text": [
      "(92656,)\n"
     ]
    },
    {
     "data": {
      "text/plain": [
       "array(['saurav kant alumnus upgrad iiit pg program machine learning artificial intelligence sr systems engineer infosys almost years work experience program upgrad degree career support helped transition data scientist tech mahindra salary hike upgrad online power learning powered lakh careers',\n",
       "       'new zealand defeated india wickets fourth odi hamilton thursday win first match five match odi series india lost international match rohit sharma captaincy consecutive victories dating back march match witnessed india getting seventh lowest total odi cricket history',\n",
       "       'aegon life iterm insurance plan customers enjoy tax benefits premiums paid save taxes plan provides life cover age years also customers options insure critical illnesses disability accidental death benefit rider life cover age years',\n",
       "       ...,\n",
       "       'uff yeh first song sonakshi sinha starrer upcoming drama film noor released song composed amaal mallik vocals armaan malik lyrics manoj muntashir sonakshi seen portraying pakistani journalist writer film directed sunhil sippy film scheduled release april',\n",
       "       'according reports new version science fiction film matrix development michael jordan reportedly play lead role film screenwriter zak penn talks write script film reports added actor keanu reeves starred original film followed two sequels',\n",
       "       'madhesi morcha alliance seven political parties withdrawn support pm pushpa kamal dahal led nepal government failed meet seven day ultimatum fulfil demands including endorsement revised constitution amendment bill morcha seats parliament despite withdrawal support immediate threat government'],\n",
       "      dtype=object)"
      ]
     },
     "execution_count": 33,
     "metadata": {},
     "output_type": "execute_result"
    }
   ],
   "source": [
    "print(encoder_input.shape)\n",
    "encoder_input"
   ]
  },
  {
   "cell_type": "code",
   "execution_count": 34,
   "id": "158df878",
   "metadata": {},
   "outputs": [
    {
     "name": "stdout",
     "output_type": "stream",
     "text": [
      "=3\n"
     ]
    }
   ],
   "source": [
    "encoder_input = encoder_input[indices]\n",
    "decoder_input = decoder_input[indices]\n",
    "decoder_target = decoder_target[indices]\n",
    "print('=3')"
   ]
  },
  {
   "cell_type": "code",
   "execution_count": 35,
   "id": "2b1cda66",
   "metadata": {},
   "outputs": [
    {
     "name": "stdout",
     "output_type": "stream",
     "text": [
      "테스트 데이터의 수 : 18531\n"
     ]
    }
   ],
   "source": [
    "n_of_val = int(len(encoder_input)*0.2)\n",
    "print('테스트 데이터의 수 :', n_of_val)"
   ]
  },
  {
   "cell_type": "code",
   "execution_count": 36,
   "id": "6c4c98d0",
   "metadata": {},
   "outputs": [
    {
     "name": "stdout",
     "output_type": "stream",
     "text": [
      "훈련 데이터의 개수 : 74125\n",
      "훈련 레이블의 개수 : 74125\n",
      "테스트 데이터의 개수 : 18531\n",
      "테스트 레이블의 개수 : 18531\n"
     ]
    }
   ],
   "source": [
    "encoder_input_train = encoder_input[:-n_of_val]\n",
    "decoder_input_train = decoder_input[:-n_of_val]\n",
    "decoder_target_train = decoder_target[:-n_of_val]\n",
    "\n",
    "encoder_input_test = encoder_input[-n_of_val:]\n",
    "decoder_input_test = decoder_input[-n_of_val:]\n",
    "decoder_target_test = decoder_target[-n_of_val:]\n",
    "\n",
    "print('훈련 데이터의 개수 :', len(encoder_input_train))\n",
    "print('훈련 레이블의 개수 :', len(decoder_input_train))\n",
    "print('테스트 데이터의 개수 :', len(encoder_input_test))\n",
    "print('테스트 레이블의 개수 :', len(decoder_input_test))"
   ]
  },
  {
   "cell_type": "markdown",
   "id": "65f6281a",
   "metadata": {},
   "source": [
    "정수 인코딩"
   ]
  },
  {
   "cell_type": "code",
   "execution_count": 37,
   "id": "f9e8a290",
   "metadata": {},
   "outputs": [
    {
     "name": "stdout",
     "output_type": "stream",
     "text": [
      "=3\n"
     ]
    }
   ],
   "source": [
    "src_tokenizer = Tokenizer() # 토크나이저 정의\n",
    "src_tokenizer.fit_on_texts(encoder_input_train) # 입력된 데이터로부터 단어 집합 생성\n",
    "print('=3')"
   ]
  },
  {
   "cell_type": "code",
   "execution_count": 38,
   "id": "ed016e5d",
   "metadata": {},
   "outputs": [
    {
     "name": "stdout",
     "output_type": "stream",
     "text": [
      "단어 집합(vocabulary)의 크기 : 68067\n",
      "등장 빈도가 5번 이하인 희귀 단어의 수: 44673\n",
      "단어 집합에서 희귀 단어를 제외시킬 경우의 단어 집합의 크기 23394\n",
      "단어 집합에서 희귀 단어의 비율: 65.63092247344528\n",
      "전체 등장 빈도에서 희귀 단어 등장 빈도 비율: 3.213163402788055\n"
     ]
    }
   ],
   "source": [
    "threshold = 6\n",
    "total_cnt = len(src_tokenizer.word_index) # 단어의 수\n",
    "rare_cnt = 0 # 등장 빈도수가 threshold보다 작은 단어의 개수를 카운트\n",
    "total_freq = 0 # 훈련 데이터의 전체 단어 빈도수 총 합\n",
    "rare_freq = 0 # 등장 빈도수가 threshold보다 작은 단어의 등장 빈도수의 총 합\n",
    "\n",
    "# 단어와 빈도수의 쌍(pair)을 key와 value로 받는다.\n",
    "for key, value in src_tokenizer.word_counts.items():\n",
    "    total_freq = total_freq + value\n",
    "\n",
    "    # 단어의 등장 빈도수가 threshold보다 작으면\n",
    "    if(value < threshold):\n",
    "        rare_cnt = rare_cnt + 1\n",
    "        rare_freq = rare_freq + value\n",
    "\n",
    "print('단어 집합(vocabulary)의 크기 :', total_cnt)\n",
    "print('등장 빈도가 %s번 이하인 희귀 단어의 수: %s'%(threshold - 1, rare_cnt))\n",
    "print('단어 집합에서 희귀 단어를 제외시킬 경우의 단어 집합의 크기 %s'%(total_cnt - rare_cnt))\n",
    "print(\"단어 집합에서 희귀 단어의 비율:\", (rare_cnt / total_cnt)*100)\n",
    "print(\"전체 등장 빈도에서 희귀 단어 등장 빈도 비율:\", (rare_freq / total_freq)*100)"
   ]
  },
  {
   "cell_type": "code",
   "execution_count": 39,
   "id": "d870379b",
   "metadata": {},
   "outputs": [
    {
     "name": "stdout",
     "output_type": "stream",
     "text": [
      "=3\n"
     ]
    }
   ],
   "source": [
    "src_vocab = 23000\n",
    "src_tokenizer = Tokenizer(num_words=src_vocab) # 단어 집합의 크기를 23000으로 제한\n",
    "src_tokenizer.fit_on_texts(encoder_input_train) # 단어 집합 재생성\n",
    "print('=3')"
   ]
  },
  {
   "cell_type": "code",
   "execution_count": 40,
   "id": "6d96cb22",
   "metadata": {},
   "outputs": [
    {
     "name": "stdout",
     "output_type": "stream",
     "text": [
      "[[4144, 45, 5, 1958, 235, 18, 289, 1035, 45, 6078, 7187, 44, 1833, 83, 69, 1, 144, 12573, 10367, 740, 1111, 2572, 4, 60, 321, 667, 2472, 582, 57, 958, 242, 178, 41, 338, 740, 1812, 1366, 45], [347, 117, 10368, 383, 1256, 703, 1574, 317, 1698, 947, 1, 383, 703, 12192, 340, 773, 1653, 61, 17, 781, 1612, 174, 23, 22, 103, 703, 1574, 4693, 19, 285, 820, 14909, 2687, 15535, 383], [312, 33, 2146, 560, 102, 8672, 1535, 2, 1039, 274, 2146, 6010, 102, 13848, 1622, 232, 4466, 257, 13848, 2, 411, 832, 43, 931, 8672, 111, 1202, 447, 3, 1974, 1391, 13848, 1469, 695, 2, 93, 234, 596, 9541]]\n"
     ]
    }
   ],
   "source": [
    "# 텍스트 시퀀스를 정수 시퀀스로 변환\n",
    "encoder_input_train = src_tokenizer.texts_to_sequences(encoder_input_train) \n",
    "encoder_input_test = src_tokenizer.texts_to_sequences(encoder_input_test)\n",
    "\n",
    "# 잘 진행되었는지 샘플 출력\n",
    "print(encoder_input_train[:3])"
   ]
  },
  {
   "cell_type": "code",
   "execution_count": 41,
   "id": "e320c32b",
   "metadata": {},
   "outputs": [
    {
     "name": "stdout",
     "output_type": "stream",
     "text": [
      "=3\n"
     ]
    }
   ],
   "source": [
    "tar_tokenizer = Tokenizer()\n",
    "tar_tokenizer.fit_on_texts(decoder_input_train)\n",
    "print('=3')"
   ]
  },
  {
   "cell_type": "code",
   "execution_count": 42,
   "id": "5fa41de5",
   "metadata": {},
   "outputs": [
    {
     "name": "stdout",
     "output_type": "stream",
     "text": [
      "단어 집합(vocabulary)의 크기 : 29615\n",
      "등장 빈도가 4번 이하인 희귀 단어의 수: 18357\n",
      "단어 집합에서 희귀 단어를 제외시킬 경우의 단어 집합의 크기 11258\n",
      "단어 집합에서 희귀 단어의 비율: 61.98548033091339\n",
      "전체 등장 빈도에서 희귀 단어 등장 빈도 비율: 4.198198678320188\n"
     ]
    }
   ],
   "source": [
    "threshold = 5\n",
    "total_cnt = len(tar_tokenizer.word_index) # 단어의 수\n",
    "rare_cnt = 0 # 등장 빈도수가 threshold보다 작은 단어의 개수를 카운트\n",
    "total_freq = 0 # 훈련 데이터의 전체 단어 빈도수 총 합\n",
    "rare_freq = 0 # 등장 빈도수가 threshold보다 작은 단어의 등장 빈도수의 총 합\n",
    "\n",
    "# 단어와 빈도수의 쌍(pair)을 key와 value로 받는다.\n",
    "for key, value in tar_tokenizer.word_counts.items():\n",
    "    total_freq = total_freq + value\n",
    "\n",
    "    # 단어의 등장 빈도수가 threshold보다 작으면\n",
    "    if(value < threshold):\n",
    "        rare_cnt = rare_cnt + 1\n",
    "        rare_freq = rare_freq + value\n",
    "\n",
    "print('단어 집합(vocabulary)의 크기 :', total_cnt)\n",
    "print('등장 빈도가 %s번 이하인 희귀 단어의 수: %s'%(threshold - 1, rare_cnt))\n",
    "print('단어 집합에서 희귀 단어를 제외시킬 경우의 단어 집합의 크기 %s'%(total_cnt - rare_cnt))\n",
    "print(\"단어 집합에서 희귀 단어의 비율:\", (rare_cnt / total_cnt)*100)\n",
    "print(\"전체 등장 빈도에서 희귀 단어 등장 빈도 비율:\", (rare_freq / total_freq)*100)"
   ]
  },
  {
   "cell_type": "code",
   "execution_count": 43,
   "id": "924fb0b6",
   "metadata": {},
   "outputs": [
    {
     "name": "stdout",
     "output_type": "stream",
     "text": [
      "input\n",
      "input  [[1, 543, 3742, 13, 124, 777, 1832, 1094, 168, 7, 15, 1323], [1, 309, 19, 697, 48, 1697, 673], [1, 1483, 3524, 68, 6981, 713, 54, 68, 8, 1370], [1, 1058, 1231, 76, 4, 15, 5, 13, 1484, 8545, 6982], [1, 169, 237, 10, 2404, 1174, 4, 8, 60, 337, 189]]\n",
      "target\n",
      "decoder  [[543, 3742, 13, 124, 777, 1832, 1094, 168, 7, 15, 1323, 2], [309, 19, 697, 48, 1697, 673, 2], [1483, 3524, 68, 6981, 713, 54, 68, 8, 1370, 2], [1058, 1231, 76, 4, 15, 5, 13, 1484, 8545, 6982, 2], [169, 237, 10, 2404, 1174, 4, 8, 60, 337, 189, 2]]\n"
     ]
    }
   ],
   "source": [
    "tar_vocab = 11000\n",
    "tar_tokenizer = Tokenizer(num_words=tar_vocab) \n",
    "tar_tokenizer.fit_on_texts(decoder_input_train)\n",
    "tar_tokenizer.fit_on_texts(decoder_target_train)\n",
    "\n",
    "# 텍스트 시퀀스를 정수 시퀀스로 변환\n",
    "decoder_input_train = tar_tokenizer.texts_to_sequences(decoder_input_train) \n",
    "decoder_target_train = tar_tokenizer.texts_to_sequences(decoder_target_train)\n",
    "decoder_input_test = tar_tokenizer.texts_to_sequences(decoder_input_test)\n",
    "decoder_target_test = tar_tokenizer.texts_to_sequences(decoder_target_test)\n",
    "\n",
    "# 잘 변환되었는지 확인\n",
    "print('input')\n",
    "print('input ',decoder_input_train[:5])\n",
    "print('target')\n",
    "print('decoder ',decoder_target_train[:5])"
   ]
  },
  {
   "cell_type": "code",
   "execution_count": 44,
   "id": "eb944108",
   "metadata": {},
   "outputs": [
    {
     "name": "stdout",
     "output_type": "stream",
     "text": [
      "삭제할 훈련 데이터의 개수 : 0\n",
      "삭제할 테스트 데이터의 개수 : 0\n",
      "훈련 데이터의 개수 : 74125\n",
      "훈련 레이블의 개수 : 74125\n",
      "테스트 데이터의 개수 : 18531\n",
      "테스트 레이블의 개수 : 18531\n"
     ]
    }
   ],
   "source": [
    "drop_train = [index for index, sentence in enumerate(decoder_input_train) if len(sentence) == 1]\n",
    "drop_test = [index for index, sentence in enumerate(decoder_input_test) if len(sentence) == 1]\n",
    "\n",
    "print('삭제할 훈련 데이터의 개수 :', len(drop_train))\n",
    "print('삭제할 테스트 데이터의 개수 :', len(drop_test))\n",
    "\n",
    "encoder_input_train = [sentence for index, sentence in enumerate(encoder_input_train) if index not in drop_train]\n",
    "decoder_input_train = [sentence for index, sentence in enumerate(decoder_input_train) if index not in drop_train]\n",
    "decoder_target_train = [sentence for index, sentence in enumerate(decoder_target_train) if index not in drop_train]\n",
    "\n",
    "encoder_input_test = [sentence for index, sentence in enumerate(encoder_input_test) if index not in drop_test]\n",
    "decoder_input_test = [sentence for index, sentence in enumerate(decoder_input_test) if index not in drop_test]\n",
    "decoder_target_test = [sentence for index, sentence in enumerate(decoder_target_test) if index not in drop_test]\n",
    "\n",
    "print('훈련 데이터의 개수 :', len(encoder_input_train))\n",
    "print('훈련 레이블의 개수 :', len(decoder_input_train))\n",
    "print('테스트 데이터의 개수 :', len(encoder_input_test))\n",
    "print('테스트 레이블의 개수 :', len(decoder_input_test))"
   ]
  },
  {
   "cell_type": "code",
   "execution_count": 45,
   "id": "543a6155",
   "metadata": {},
   "outputs": [
    {
     "name": "stdout",
     "output_type": "stream",
     "text": [
      "=3\n"
     ]
    }
   ],
   "source": [
    "encoder_input_train = pad_sequences(encoder_input_train, maxlen=text_max_len, padding='post')\n",
    "encoder_input_test = pad_sequences(encoder_input_test, maxlen=text_max_len, padding='post')\n",
    "decoder_input_train = pad_sequences(decoder_input_train, maxlen=headlines_max_len, padding='post')\n",
    "decoder_target_train = pad_sequences(decoder_target_train, maxlen=headlines_max_len, padding='post')\n",
    "decoder_input_test = pad_sequences(decoder_input_test, maxlen=headlines_max_len, padding='post')\n",
    "decoder_target_test = pad_sequences(decoder_target_test, maxlen=headlines_max_len, padding='post')\n",
    "print('=3')"
   ]
  },
  {
   "cell_type": "markdown",
   "id": "78ec3902",
   "metadata": {},
   "source": [
    "## 모델 설계하기"
   ]
  },
  {
   "cell_type": "code",
   "execution_count": 46,
   "id": "c518dff9",
   "metadata": {},
   "outputs": [
    {
     "name": "stdout",
     "output_type": "stream",
     "text": [
      "WARNING:tensorflow:Layer lstm will not use cuDNN kernels since it doesn't meet the criteria. It will use a generic GPU kernel as fallback when running on GPU.\n",
      "WARNING:tensorflow:Layer lstm_1 will not use cuDNN kernels since it doesn't meet the criteria. It will use a generic GPU kernel as fallback when running on GPU.\n",
      "WARNING:tensorflow:Layer lstm_2 will not use cuDNN kernels since it doesn't meet the criteria. It will use a generic GPU kernel as fallback when running on GPU.\n"
     ]
    }
   ],
   "source": [
    "from tensorflow.keras.layers import Input, LSTM, Embedding, Dense, Concatenate, TimeDistributed\n",
    "from tensorflow.keras.models import Model\n",
    "from tensorflow.keras.callbacks import EarlyStopping, ModelCheckpoint\n",
    "\n",
    "\n",
    "# 인코더 설계 시작\n",
    "embedding_dim = 128\n",
    "hidden_size = 256\n",
    "\n",
    "# 인코더\n",
    "encoder_inputs = Input(shape=(text_max_len,))\n",
    "\n",
    "# 인코더의 임베딩 층\n",
    "enc_emb = Embedding(src_vocab, embedding_dim)(encoder_inputs)\n",
    "\n",
    "# 인코더의 LSTM 1\n",
    "encoder_lstm1 = LSTM(hidden_size, return_sequences=True, return_state=True ,dropout = 0.4, recurrent_dropout = 0.4)\n",
    "encoder_output1, state_h1, state_c1 = encoder_lstm1(enc_emb)\n",
    "\n",
    "# 인코더의 LSTM 2\n",
    "encoder_lstm2 = LSTM(hidden_size, return_sequences=True, return_state=True, dropout=0.4, recurrent_dropout=0.4)\n",
    "encoder_output2, state_h2, state_c2 = encoder_lstm2(encoder_output1)\n",
    "\n",
    "# 인코더의 LSTM 3\n",
    "encoder_lstm3 = LSTM(hidden_size, return_state=True, return_sequences=True, dropout=0.4, recurrent_dropout=0.4)\n",
    "encoder_outputs, state_h, state_c= encoder_lstm3(encoder_output2)"
   ]
  },
  {
   "cell_type": "code",
   "execution_count": 47,
   "id": "4dc2fda9",
   "metadata": {},
   "outputs": [
    {
     "name": "stdout",
     "output_type": "stream",
     "text": [
      "WARNING:tensorflow:Layer lstm_3 will not use cuDNN kernels since it doesn't meet the criteria. It will use a generic GPU kernel as fallback when running on GPU.\n"
     ]
    }
   ],
   "source": [
    "# 디코더 설계\n",
    "decoder_inputs = Input(shape=(None,))\n",
    "\n",
    "# 디코더의 임베딩 층\n",
    "dec_emb_layer = Embedding(tar_vocab, embedding_dim)\n",
    "dec_emb = dec_emb_layer(decoder_inputs)\n",
    "\n",
    "# 디코더의 LSTM\n",
    "decoder_lstm = LSTM(hidden_size, return_sequences=True, return_state=True, dropout=0.4, recurrent_dropout=0.2)\n",
    "decoder_outputs, _, _ = decoder_lstm(dec_emb, initial_state=[state_h, state_c])"
   ]
  },
  {
   "cell_type": "code",
   "execution_count": 48,
   "id": "0f4574db",
   "metadata": {},
   "outputs": [
    {
     "name": "stdout",
     "output_type": "stream",
     "text": [
      "Model: \"model\"\n",
      "__________________________________________________________________________________________________\n",
      "Layer (type)                    Output Shape         Param #     Connected to                     \n",
      "==================================================================================================\n",
      "input_1 (InputLayer)            [(None, 45)]         0                                            \n",
      "__________________________________________________________________________________________________\n",
      "embedding (Embedding)           (None, 45, 128)      2944000     input_1[0][0]                    \n",
      "__________________________________________________________________________________________________\n",
      "lstm (LSTM)                     [(None, 45, 256), (N 394240      embedding[0][0]                  \n",
      "__________________________________________________________________________________________________\n",
      "input_2 (InputLayer)            [(None, None)]       0                                            \n",
      "__________________________________________________________________________________________________\n",
      "lstm_1 (LSTM)                   [(None, 45, 256), (N 525312      lstm[0][0]                       \n",
      "__________________________________________________________________________________________________\n",
      "embedding_1 (Embedding)         (None, None, 128)    1408000     input_2[0][0]                    \n",
      "__________________________________________________________________________________________________\n",
      "lstm_2 (LSTM)                   [(None, 45, 256), (N 525312      lstm_1[0][0]                     \n",
      "__________________________________________________________________________________________________\n",
      "lstm_3 (LSTM)                   [(None, None, 256),  394240      embedding_1[0][0]                \n",
      "                                                                 lstm_2[0][1]                     \n",
      "                                                                 lstm_2[0][2]                     \n",
      "__________________________________________________________________________________________________\n",
      "dense (Dense)                   (None, None, 11000)  2827000     lstm_3[0][0]                     \n",
      "==================================================================================================\n",
      "Total params: 9,018,104\n",
      "Trainable params: 9,018,104\n",
      "Non-trainable params: 0\n",
      "__________________________________________________________________________________________________\n"
     ]
    }
   ],
   "source": [
    "# 디코더의 출력층\n",
    "decoder_softmax_layer = Dense(tar_vocab, activation='softmax')\n",
    "decoder_softmax_outputs = decoder_softmax_layer(decoder_outputs) \n",
    "\n",
    "# 모델 정의\n",
    "model = Model([encoder_inputs, decoder_inputs], decoder_softmax_outputs)\n",
    "model.summary()"
   ]
  },
  {
   "cell_type": "code",
   "execution_count": 49,
   "id": "6efb59ec",
   "metadata": {},
   "outputs": [
    {
     "name": "stdout",
     "output_type": "stream",
     "text": [
      "Model: \"model_1\"\n",
      "__________________________________________________________________________________________________\n",
      "Layer (type)                    Output Shape         Param #     Connected to                     \n",
      "==================================================================================================\n",
      "input_1 (InputLayer)            [(None, 45)]         0                                            \n",
      "__________________________________________________________________________________________________\n",
      "embedding (Embedding)           (None, 45, 128)      2944000     input_1[0][0]                    \n",
      "__________________________________________________________________________________________________\n",
      "lstm (LSTM)                     [(None, 45, 256), (N 394240      embedding[0][0]                  \n",
      "__________________________________________________________________________________________________\n",
      "input_2 (InputLayer)            [(None, None)]       0                                            \n",
      "__________________________________________________________________________________________________\n",
      "lstm_1 (LSTM)                   [(None, 45, 256), (N 525312      lstm[0][0]                       \n",
      "__________________________________________________________________________________________________\n",
      "embedding_1 (Embedding)         (None, None, 128)    1408000     input_2[0][0]                    \n",
      "__________________________________________________________________________________________________\n",
      "lstm_2 (LSTM)                   [(None, 45, 256), (N 525312      lstm_1[0][0]                     \n",
      "__________________________________________________________________________________________________\n",
      "lstm_3 (LSTM)                   [(None, None, 256),  394240      embedding_1[0][0]                \n",
      "                                                                 lstm_2[0][1]                     \n",
      "                                                                 lstm_2[0][2]                     \n",
      "__________________________________________________________________________________________________\n",
      "attention_layer (AdditiveAttent (None, None, 256)    256         lstm_3[0][0]                     \n",
      "                                                                 lstm_2[0][0]                     \n",
      "__________________________________________________________________________________________________\n",
      "concat_layer (Concatenate)      (None, None, 512)    0           lstm_3[0][0]                     \n",
      "                                                                 attention_layer[0][0]            \n",
      "__________________________________________________________________________________________________\n",
      "dense_1 (Dense)                 (None, None, 11000)  5643000     concat_layer[0][0]               \n",
      "==================================================================================================\n",
      "Total params: 11,834,360\n",
      "Trainable params: 11,834,360\n",
      "Non-trainable params: 0\n",
      "__________________________________________________________________________________________________\n"
     ]
    }
   ],
   "source": [
    "from tensorflow.keras.layers import AdditiveAttention\n",
    "\n",
    "# 어텐션 층(어텐션 함수)\n",
    "attn_layer = AdditiveAttention(name='attention_layer')\n",
    "\n",
    "# 인코더와 디코더의 모든 time step의 hidden state를 어텐션 층에 전달하고 결과를 리턴\n",
    "attn_out = attn_layer([decoder_outputs, encoder_outputs])\n",
    "\n",
    "\n",
    "# 어텐션의 결과와 디코더의 hidden state들을 연결\n",
    "decoder_concat_input = Concatenate(axis=-1, name='concat_layer')([decoder_outputs, attn_out])\n",
    "\n",
    "# 디코더의 출력층\n",
    "decoder_softmax_layer = Dense(tar_vocab, activation='softmax')\n",
    "decoder_softmax_outputs = decoder_softmax_layer(decoder_concat_input)\n",
    "\n",
    "# 모델 정의\n",
    "model = Model([encoder_inputs, decoder_inputs], decoder_softmax_outputs)\n",
    "model.summary()"
   ]
  },
  {
   "cell_type": "markdown",
   "id": "cc1849af",
   "metadata": {},
   "source": [
    "## 모델 훈련하기"
   ]
  },
  {
   "cell_type": "code",
   "execution_count": 50,
   "id": "276cd2ac",
   "metadata": {},
   "outputs": [
    {
     "name": "stdout",
     "output_type": "stream",
     "text": [
      "Epoch 1/50\n",
      "290/290 [==============================] - 191s 628ms/step - loss: 6.0932 - val_loss: 5.6262\n",
      "Epoch 2/50\n",
      "290/290 [==============================] - 180s 621ms/step - loss: 5.5075 - val_loss: 5.2625\n",
      "Epoch 3/50\n",
      "290/290 [==============================] - 180s 621ms/step - loss: 5.1312 - val_loss: 4.9707\n",
      "Epoch 4/50\n",
      "290/290 [==============================] - 178s 614ms/step - loss: 4.8454 - val_loss: 4.7570\n",
      "Epoch 5/50\n",
      "290/290 [==============================] - 179s 618ms/step - loss: 4.6259 - val_loss: 4.6077\n",
      "Epoch 6/50\n",
      "290/290 [==============================] - 178s 614ms/step - loss: 4.4504 - val_loss: 4.4980\n",
      "Epoch 7/50\n",
      "290/290 [==============================] - 178s 612ms/step - loss: 4.3010 - val_loss: 4.4123\n",
      "Epoch 8/50\n",
      "290/290 [==============================] - 178s 615ms/step - loss: 4.1668 - val_loss: 4.3313\n",
      "Epoch 9/50\n",
      "290/290 [==============================] - 178s 615ms/step - loss: 4.0455 - val_loss: 4.2675\n",
      "Epoch 10/50\n",
      "290/290 [==============================] - 179s 617ms/step - loss: 3.9412 - val_loss: 4.2188\n",
      "Epoch 11/50\n",
      "290/290 [==============================] - 177s 612ms/step - loss: 3.8464 - val_loss: 4.1746\n",
      "Epoch 12/50\n",
      "290/290 [==============================] - 178s 612ms/step - loss: 3.7597 - val_loss: 4.1386\n",
      "Epoch 13/50\n",
      "290/290 [==============================] - 179s 616ms/step - loss: 3.6793 - val_loss: 4.1028\n",
      "Epoch 14/50\n",
      "290/290 [==============================] - 177s 611ms/step - loss: 3.6037 - val_loss: 4.0672\n",
      "Epoch 15/50\n",
      "290/290 [==============================] - 177s 610ms/step - loss: 3.5363 - val_loss: 4.0486\n",
      "Epoch 16/50\n",
      "290/290 [==============================] - 176s 608ms/step - loss: 3.4756 - val_loss: 4.0391\n",
      "Epoch 17/50\n",
      "290/290 [==============================] - 177s 609ms/step - loss: 3.4194 - val_loss: 4.0215\n",
      "Epoch 18/50\n",
      "290/290 [==============================] - 181s 622ms/step - loss: 3.3645 - val_loss: 4.0084\n",
      "Epoch 19/50\n",
      "290/290 [==============================] - 198s 682ms/step - loss: 3.3123 - val_loss: 3.9977\n",
      "Epoch 20/50\n",
      "290/290 [==============================] - 193s 665ms/step - loss: 3.2599 - val_loss: 3.9850\n",
      "Epoch 21/50\n",
      "290/290 [==============================] - 184s 634ms/step - loss: 3.2168 - val_loss: 3.9757\n",
      "Epoch 22/50\n",
      "290/290 [==============================] - 179s 618ms/step - loss: 3.1756 - val_loss: 3.9744\n",
      "Epoch 23/50\n",
      "290/290 [==============================] - 179s 618ms/step - loss: 3.1352 - val_loss: 3.9626\n",
      "Epoch 24/50\n",
      "290/290 [==============================] - 179s 618ms/step - loss: 3.0956 - val_loss: 3.9669\n",
      "Epoch 25/50\n",
      "290/290 [==============================] - 179s 618ms/step - loss: 3.0582 - val_loss: 3.9522\n",
      "Epoch 26/50\n",
      "290/290 [==============================] - 179s 617ms/step - loss: 3.0217 - val_loss: 3.9530\n",
      "Epoch 27/50\n",
      "290/290 [==============================] - 178s 615ms/step - loss: 2.9910 - val_loss: 3.9490\n",
      "Epoch 28/50\n",
      "290/290 [==============================] - 175s 604ms/step - loss: 2.9580 - val_loss: 3.9461\n",
      "Epoch 29/50\n",
      "290/290 [==============================] - 175s 604ms/step - loss: 2.9275 - val_loss: 3.9379\n",
      "Epoch 30/50\n",
      "290/290 [==============================] - 175s 604ms/step - loss: 2.8991 - val_loss: 3.9511\n",
      "Epoch 31/50\n",
      "290/290 [==============================] - 175s 605ms/step - loss: 2.8681 - val_loss: 3.9438\n",
      "Epoch 00031: early stopping\n"
     ]
    }
   ],
   "source": [
    "model.compile(optimizer='rmsprop', loss='sparse_categorical_crossentropy')\n",
    "es = EarlyStopping(monitor='val_loss', patience=2, verbose=1)\n",
    "history = model.fit(x=[encoder_input_train, decoder_input_train], y=decoder_target_train, \\\n",
    "          validation_data=([encoder_input_test, decoder_input_test], decoder_target_test), \\\n",
    "          batch_size=256, callbacks=[es], epochs=50)"
   ]
  },
  {
   "cell_type": "code",
   "execution_count": 51,
   "id": "8625a06f",
   "metadata": {},
   "outputs": [
    {
     "data": {
      "image/png": "[encoded data removed]",
      "text/plain": [
       "<Figure size 432x288 with 1 Axes>"
      ]
     },
     "metadata": {
      "needs_background": "light"
     },
     "output_type": "display_data"
    }
   ],
   "source": [
    "plt.plot(history.history['loss'], label='train')\n",
    "plt.plot(history.history['val_loss'], label='test')\n",
    "plt.legend()\n",
    "plt.show()"
   ]
  },
  {
   "cell_type": "code",
   "execution_count": 52,
   "id": "d2b39cff",
   "metadata": {},
   "outputs": [
    {
     "name": "stdout",
     "output_type": "stream",
     "text": [
      "=3\n"
     ]
    }
   ],
   "source": [
    "src_index_to_word = src_tokenizer.index_word # 원문 단어 집합에서 정수 -> 단어를 얻음\n",
    "tar_word_to_index = tar_tokenizer.word_index # 요약 단어 집합에서 단어 -> 정수를 얻음\n",
    "tar_index_to_word = tar_tokenizer.index_word # 요약 단어 집합에서 정수 -> 단어를 얻음\n",
    "\n",
    "print('=3')"
   ]
  },
  {
   "cell_type": "code",
   "execution_count": 53,
   "id": "ff0513ec",
   "metadata": {},
   "outputs": [
    {
     "name": "stdout",
     "output_type": "stream",
     "text": [
      "=3\n"
     ]
    }
   ],
   "source": [
    "# 인코더 설계\n",
    "encoder_model = Model(inputs=encoder_inputs, outputs=[encoder_outputs, state_h, state_c])\n",
    "\n",
    "# 이전 시점의 상태들을 저장하는 텐서\n",
    "decoder_state_input_h = Input(shape=(hidden_size,))\n",
    "decoder_state_input_c = Input(shape=(hidden_size,))\n",
    "\n",
    "dec_emb2 = dec_emb_layer(decoder_inputs)\n",
    "\n",
    "# 문장의 다음 단어를 예측하기 위해서 초기 상태(initial_state)를 이전 시점의 상태로 사용. 이는 뒤의 함수 decode_sequence()에 구현\n",
    "# 훈련 과정에서와 달리 LSTM의 리턴하는 은닉 상태와 셀 상태인 state_h와 state_c를 버리지 않음.\n",
    "decoder_outputs2, state_h2, state_c2 = decoder_lstm(dec_emb2, initial_state=[decoder_state_input_h, decoder_state_input_c])\n",
    "\n",
    "print('=3')"
   ]
  },
  {
   "cell_type": "code",
   "execution_count": 54,
   "id": "78517d0b",
   "metadata": {},
   "outputs": [
    {
     "name": "stdout",
     "output_type": "stream",
     "text": [
      "=3\n"
     ]
    }
   ],
   "source": [
    "# 어텐션 함수\n",
    "decoder_hidden_state_input = Input(shape=(text_max_len, hidden_size))\n",
    "attn_out_inf = attn_layer([decoder_outputs2, decoder_hidden_state_input])\n",
    "decoder_inf_concat = Concatenate(axis=-1, name='concat')([decoder_outputs2, attn_out_inf])\n",
    "\n",
    "# 디코더의 출력층\n",
    "decoder_outputs2 = decoder_softmax_layer(decoder_inf_concat) \n",
    "\n",
    "# 최종 디코더 모델\n",
    "decoder_model = Model(\n",
    "    [decoder_inputs] + [decoder_hidden_state_input,decoder_state_input_h, decoder_state_input_c],\n",
    "    [decoder_outputs2] + [state_h2, state_c2])\n",
    "\n",
    "print('=3')"
   ]
  },
  {
   "cell_type": "code",
   "execution_count": 55,
   "id": "71bc3b67",
   "metadata": {},
   "outputs": [
    {
     "name": "stdout",
     "output_type": "stream",
     "text": [
      "=3\n"
     ]
    }
   ],
   "source": [
    "def decode_sequence(input_seq):\n",
    "    # 입력으로부터 인코더의 상태를 얻음\n",
    "    e_out, e_h, e_c = encoder_model.predict(input_seq)\n",
    "\n",
    "     # <SOS>에 해당하는 토큰 생성\n",
    "    target_seq = np.zeros((1,1))\n",
    "    target_seq[0, 0] = tar_word_to_index['sostoken']\n",
    "\n",
    "    stop_condition = False\n",
    "    decoded_sentence = ''\n",
    "    while not stop_condition: # stop_condition이 True가 될 때까지 루프 반복\n",
    "\n",
    "        output_tokens, h, c = decoder_model.predict([target_seq] + [e_out, e_h, e_c])\n",
    "        sampled_token_index = np.argmax(output_tokens[0, -1, :])\n",
    "        sampled_token = tar_index_to_word[sampled_token_index]\n",
    "\n",
    "        if (sampled_token!='eostoken'):\n",
    "            decoded_sentence += ' '+sampled_token\n",
    "\n",
    "        #  <eos>에 도달하거나 최대 길이를 넘으면 중단.\n",
    "        if (sampled_token == 'eostoken'  or len(decoded_sentence.split()) >= (headlines_max_len-1)):\n",
    "            stop_condition = True\n",
    "\n",
    "        # 길이가 1인 타겟 시퀀스를 업데이트\n",
    "        target_seq = np.zeros((1,1))\n",
    "        target_seq[0, 0] = sampled_token_index\n",
    "\n",
    "        # 상태를 업데이트 합니다.\n",
    "        e_h, e_c = h, c\n",
    "\n",
    "    return decoded_sentence\n",
    "print('=3')"
   ]
  },
  {
   "cell_type": "code",
   "execution_count": 56,
   "id": "254a3da9",
   "metadata": {},
   "outputs": [
    {
     "name": "stdout",
     "output_type": "stream",
     "text": [
      "=3\n"
     ]
    }
   ],
   "source": [
    "# 원문의 정수 시퀀스를 텍스트 시퀀스로 변환\n",
    "def seq2text(input_seq):\n",
    "    temp=''\n",
    "    for i in input_seq:\n",
    "        if (i!=0):\n",
    "            temp = temp + src_index_to_word[i]+' '\n",
    "    return temp\n",
    "\n",
    "# 요약문의 정수 시퀀스를 텍스트 시퀀스로 변환\n",
    "def seq2summary(input_seq):\n",
    "    temp=''\n",
    "    for i in input_seq:\n",
    "        if ((i!=0 and i!=tar_word_to_index['sostoken']) and i!=tar_word_to_index['eostoken']):\n",
    "            temp = temp + tar_index_to_word[i] + ' '\n",
    "    return temp\n",
    "\n",
    "print('=3')"
   ]
  },
  {
   "cell_type": "code",
   "execution_count": 57,
   "id": "8da4f7ec",
   "metadata": {},
   "outputs": [
    {
     "name": "stdout",
     "output_type": "stream",
     "text": [
      "원문 : tesla producing model cars week average ceo elon musk said company annual shareholder meeting tuesday also said tesla pushing meet per week goal end june musk added full production model cars would begin first quarter \n",
      "실제 요약 : tesla making model cars week ceo elon musk \n",
      "예측 요약 :  tesla is not going to make me model elon musk\n",
      "\n",
      "\n",
      "원문 : eight children including four siblings killed six others wounded afghanistan mortar shell playing exploded children aged five relatives said according un figures unexploded ordnance claimed lives afghan children wounded last year \n",
      "실제 요약 : afghan children killed playing with shell \n",
      "예측 요약 :  killed in isis in syria\n",
      "\n",
      "\n",
      "원문 : indo tibetan border police force started process procuring terrain non vehicles deployment india china border government official said according official vehicles enhance navigation deployment capabilities troopers deployed currently itbp relies sport utility vehicles foot patrolling \n",
      "실제 요약 : itbp to get all vehicles to deploy on china border \n",
      "예측 요약 :  india begins its first ever highway near sikkim\n",
      "\n",
      "\n",
      "원문 : addressing indian community oman muscat pm narendra modi sunday said seeing mini india oman adding diversity seen anywhere else listing government achievements said motto minimum government maximum governance pm modi currently three nation tour middle east \n",
      "실제 요약 : am seeing mini india in pm modi to indian \n",
      "예측 요약 :  india should not be pm modi on sabarimala\n",
      "\n",
      "\n",
      "원문 : health ministry identified fake mobile applications fake websites spreading incorrect news government flagship healthcare scheme ayushman bharat applications closed websites either blocked shut minister state health anupriya patel said fir lodged entities \n",
      "실제 요약 : apps websites shut for false info on bharat \n",
      "예측 요약 :  fake news of fake news on fake news of fake\n",
      "\n",
      "\n",
      "원문 : raju batch ips officer appointed karnataka first woman police chief tuesday raju became highest ranking officer state rk dutta retired post director general inspector general police previously served joint director intelligence bureau expected retire january \n",
      "실제 요약 : karnataka gets its first woman police chief \n",
      "예측 요약 :  who is the first time in gujarat assembly polls list\n",
      "\n",
      "\n",
      "원문 : benchmark index bse sensex closed mark first time wednesday boosted rally public sector bank stocks sensex rose points close nifty index also climbed points close fresh high comes centre announced lakh crore capital infusion plan banks \n",
      "실제 요약 : sensex closes above mark for the first time \n",
      "예측 요약 :  sensex closes above for the first time ever\n",
      "\n",
      "\n",
      "원문 : un secretary general ant nio guterres friday said cold war back amid global tensions guterres added new cold war different unlike past safeguards manage escalation conflict longer existed cited middle east including war syria israel palestine conflict threats global peace \n",
      "실제 요약 : cold war is back un secretary general \n",
      "예측 요약 :  un warns of war against israel\n",
      "\n",
      "\n",
      "원문 : new lucky restaurant ahmedabad built atop burial ground restaurant also features exposed surrounded steel bars owner krishnan nair claims eating presence dead good luck also better business \n",
      "실제 요약 : restaurant in india lets people with \n",
      "예측 요약 :  hotel has no room for the eatery in thailand\n",
      "\n",
      "\n",
      "원문 : spat two senior doctors inside operation theatre government hospital rajasthan jodhpur due personal rivalry cause death newborn probe panel found panel submitted nine page report tuesday recommend action doctor shot video argument \n",
      "실제 요약 : rajasthan doctors spat did not cause newborn death panel \n",
      "예측 요약 :  dead body wrongly wrongly body found dead in raj\n",
      "\n",
      "\n",
      "원문 : singer sona mohapatra referring metoo movement tweeted corporate india clean women population treating manner hurts us also economically wrote sona recently slammed kailash kher accused making unwanted sexual advances \n",
      "실제 요약 : corporate india has to clean up sona on metoo \n",
      "예측 요약 :  metoo movement should be beaten to india pooja\n",
      "\n",
      "\n",
      "원문 : fmcg major itc became fourth indian company cross market capitalisation trillion itc stock gained much intraday trade owing company positive outlook gst earlier tata consultancy services reliance industries hdfc bank achieved milestone tcs valued company market capitalisation trillion \n",
      "실제 요약 : itc becomes fourth indian firm to cross trillion in cap \n",
      "예측 요약 :  hdfc bank becomes first indian firm to cross trillion market\n",
      "\n",
      "\n",
      "원문 : industry body nasscom amid fears mass layoffs indian sector claimed industry continues net lakh people employed net basis every year stating reports mass layoffs incorrect said workforce linked performance processes regular feature every year \n",
      "실제 요약 : no mass it sector net of people nasscom \n",
      "예측 요약 :  top of workers are not in south africa\n",
      "\n",
      "\n",
      "원문 : tech mahindra employee asked hr executive resign next day else face termination audio clip revealed executive told part cost employee tried reason told company reserves rights let associates go whenever wants \n",
      "실제 요약 : quit by am tomorrow or get fired tech mahindra to worker \n",
      "예측 요약 :  am not afraid of getting job says mcdonald ceo\n",
      "\n",
      "\n",
      "원문 : indian football team captain sunil chhetri scored twice india opened asian cup campaign victory thailand abu dhabi sunday chhetri took tally international goals became second best active international goal scorer overtaking argentine forward lionel messi india next face uae thursday \n",
      "실제 요약 : chhetri scores twice as india open asian cup campaign with win \n",
      "예측 요약 :  chhetri equals chhetri record of most indian fifa world cup\n",
      "\n",
      "\n",
      "원문 : arjun rampal said told daughters acting glamorous looks really difficult job added need accept takes lot arjun said groom become part industry realise later like profession \n",
      "실제 요약 : acting is not as as it looks arjun to daughters \n",
      "예측 요약 :  am not having arjun on being arjun kapoor\n",
      "\n",
      "\n",
      "원문 : facebook censored pulitzer prize winning journalist matthew galizia publishing series posts alleging corruption malta pm joseph muscat associates galizia member team published panama papers temporarily locked facebook account four posts deleted violating social network community standards \n",
      "실제 요약 : fb blocks winning reporter over malta govt \n",
      "예측 요약 :  ex google prez seeks mn from fb over corruption\n",
      "\n",
      "\n",
      "원문 : filmmaker ram gopal varma first short film meri beti sunny leone hai released rgv debut short film revolves around young girl decision become pornstar like sunny leone per official description film aimed exposing deep rooted prejudice social norms suppress woman choices \n",
      "실제 요약 : rgv short film meri beti sunny leone hai out \n",
      "예측 요약 :  nawazuddin reacts to become st film on bigg boss\n",
      "\n",
      "\n",
      "원문 : rbi deputy governor viral acharya friday said government decision making short like match always upcoming elections alternatives need arranged however central bank plays test match focus trying win session also survive chance next acharya added \n",
      "실제 요약 : govts make decision like we play tests rbi deputy governor \n",
      "예측 요약 :  rbi governor is not rbi governor\n",
      "\n",
      "\n",
      "원문 : report estimates crore adults around world risk serious disease due lack physical exercise stated high income countries uk us among least active report said women tend men almost every region throughout world \n",
      "실제 요약 : lack of exercise puts crore at risk of disease who \n",
      "예측 요약 :  india to be crore in india report\n",
      "\n",
      "\n",
      "원문 : russian space agency roscosmos head dmitry rogozin said engineers new russian spacecraft used guinea pigs first manned flights rogozin made proposal series including soyuz rocket launch failure last month however spokesperson said rogozin meant engineers held personally responsible results \n",
      "실제 요약 : use engineers as guinea pigs for space flights head \n",
      "예측 요약 :  russia to iss hole in space station russia\n",
      "\n",
      "\n",
      "원문 : qutub minar delhi lit red lights monday night mark world day annually observed april genetic disease body ability make blood clots causing longer normal bleeding people suffer registered federation india \n",
      "실제 요약 : lit up in red for world day \n",
      "예측 요약 :  delhi to get world tallest statue at\n",
      "\n",
      "\n",
      "원문 : google filed patent making footwear augmented virtual reality patent describes footwear sensors would allow users walk virtual environment remaining within defined physical space physical environment technology would bring users back return zone helping avoid collisions added \n",
      "실제 요약 : google patents for walking in vr ar \n",
      "예측 요약 :  google unveils google pixel xl audio status for\n",
      "\n",
      "\n",
      "원문 : madras high court upheld two year sentence ousted aiadmk chief vk sasikala husband natarajan three others connection illegal purchase imported car according cbi natarajan others fabricated car invoice change vehicle manufacturing date sasikala nephew also one accused case \n",
      "실제 요약 : madras hc upholds year jail term for vk sasikala husband \n",
      "예측 요약 :  hc stays hc order on sasikala jaya plea\n",
      "\n",
      "\n",
      "원문 : government auction gifts received pm narendra modi funds raised used project clean river ganga items would auctioned include paintings sculptures jackets traditional musical instruments physical auction would held january auction january remaining items \n",
      "실제 요약 : gifts received by pm modi to be auctioned to clean ganga \n",
      "예측 요약 :  pm modi inaugurates projects worth cr in rajasthan\n",
      "\n",
      "\n",
      "원문 : two women love around six years divorced husbands tied knot temple region two women garlanded ceremony however registrar refused recognise marriage saying government order sex marriages \n",
      "실제 요약 : up women in love for years divorce husbands marry each other \n",
      "예측 요약 :  women married married to marry women in uk\n",
      "\n",
      "\n",
      "원문 : man uttar pradesh allegedly pronounced dead mistake revenue department saturday man devendra kumar said alive revenue department declared dead district magistrate ordered inquiry matter said action would taken responsible \n",
      "실제 요약 : man wrongly declared dead by up revenue department \n",
      "예측 요약 :  man kills himself with brother in his death\n",
      "\n",
      "\n",
      "원문 : kerala state film development corporation opening new movie theatres across major cities coming months planning public private partnerships project reports said spend crore thiruvananthapuram studios corporation also planned introduce ticketing system within four months \n",
      "실제 요약 : kerala to get new film theatres introduce tickets \n",
      "예측 요약 :  kerala to get cr to create state\n",
      "\n",
      "\n",
      "원문 : wrestling federation india handed indian wrestlers sakshi malik sushil kumar grade contracts admitting placing india olympic top contract bracket mistake head sharan singh said decision upgrade contracts sushil sakshi unanimous one \n",
      "실제 요약 : upgrades sushil sakshi contracts after mistake \n",
      "예측 요약 :  indian governor singh appointed asian games\n",
      "\n",
      "\n",
      "원문 : speaking incidents lynching country vice president venkaiah naidu said kill man call nationalist nationalism bharat mata ki jai wider meaning added societal behaviour change vice president said lynching linked political parties \n",
      "실제 요약 : those involved in lynching are not vice prez \n",
      "예측 요약 :  no death penalty for the term vp naidu on naidu\n",
      "\n",
      "\n",
      "원문 : canadian teacher hockey player small shared photo breastfeeding week old baby locker room match forgotten breast pump talking teammates small said continued getting ready big deal thought cute normal \n",
      "실제 요약 : hockey player week old baby during game breaks \n",
      "예측 요약 :  indian origin team gets engaged to ms dhoni\n",
      "\n",
      "\n",
      "원문 : india expecting waiver us sanctions iran significantly cut oil imports country officials said citing domestic oil needs oil minister dharmendra pradhan said india continue import iranian oil sanctions come effect us begin oil sanctions iran november \n",
      "실제 요약 : india seeks us sanctions waiver after iran oil imports cut \n",
      "예측 요약 :  india will not oil imports to iran oil minister\n",
      "\n",
      "\n",
      "원문 : union minister bjp leader giriraj singh monday likened west bengal cm mamata banerjee north korean leader kim jong un like kim kills everyone raises voice singh added comes calcutta high court based plea moved government put stay bjp proposed rath yatra state \n",
      "실제 요약 : mamata playing role of kim jong un in bengal union minister \n",
      "예측 요약 :  bjp chief calls for mamata singh starrer remarks\n",
      "\n",
      "\n",
      "원문 : denying reports dating hollywood actor tom cruise actress vanessa said relationship two years boyfriend found hilarious clarified rumours came met tom people added started filming sudden getting married bizarre \n",
      "실제 요약 : my boyfriend found rumours of dating tom \n",
      "예측 요약 :  was not scared of my life says actor chris\n",
      "\n",
      "\n",
      "원문 : wilson owner printed gun company defense distributed charged sexually assaulting year old girl texas alleged victim said sex wilson last month hotel paid according warrant filed wednesday also said would met man com name \n",
      "실제 요약 : owner of printed gun company charged with sexual assault \n",
      "예측 요약 :  year old sexually assaulted by men in sexual assault case\n",
      "\n",
      "\n",
      "원문 : former team india captain sourav ganguly talking shirt waving act lord india natwest series win revealed daughter asked necessary tell mistake things happen life control added \n",
      "실제 요약 : daughter asked if it was necessary ganguly on shirt waving \n",
      "예측 요약 :  ganguly once called ganguly with his shirt at lord games\n",
      "\n",
      "\n",
      "원문 : students researchers university california san diego claim produced world first algae based renewable flip flops flexible prototype expected go full production next year projected cost pair researchers said researchers earlier designed algae based biodegradable \n",
      "실제 요약 : us researchers turn into renewable flip \n",
      "예측 요약 :  scientists develop world first ever material\n",
      "\n",
      "\n",
      "원문 : china pakistan november launch bus service pakistan occupied kashmir china pakistan economic corridor project buses travel lahore china two way ticket priced pkr bus service plans boost friendly relations two countries company run service said \n",
      "실제 요약 : china pakistan to start bus service through pok in november \n",
      "예측 요약 :  china launches its first indian train for cpec\n",
      "\n",
      "\n",
      "원문 : latest reshuffle ias officers haryana senior bureaucrat pradeep transferred record th time years service ias officer faced many three transfers within period one month september transferred times present bjp government last years \n",
      "실제 요약 : haryana ias officer transferred for th time in yrs \n",
      "예측 요약 :  ias officer who appointed world most powerful\n",
      "\n",
      "\n",
      "원문 : year old nepalese woman taken shelter gurudwara uttar pradesh shahjahanpur allegedly raped two victim accompanied two children stayed gurudwara complex sunday night failing find transport journey forward police detained two accused sent victim medical examination \n",
      "실제 요약 : nepalese woman raped by at gurudwara in up \n",
      "예측 요약 :  year old girl gangraped in uttar pradesh\n",
      "\n",
      "\n",
      "원문 : italian police arrested year old nurse suspicion administering dose newborn baby sent child respiratory failure drug allegedly given calm child stop crying infant saved rushed neonatal intensive care unit \n",
      "실제 요약 : italian nurse jailed for newborn with \n",
      "예측 요약 :  man arrested for killing of killing baby in maharashtra\n",
      "\n",
      "\n",
      "원문 : singer chris brown arrested moments stepped stage concert florida usa arrested assault charge reportedly punching photographer last year released bail bond posted singer currently midst us tour promote latest album \n",
      "실제 요약 : chris brown arrested after he steps off stage at us concert \n",
      "예측 요약 :  singer arrested for posting singer of his terror attack\n",
      "\n",
      "\n",
      "원문 : gold winner manjit singh silver winner johnson became third indian pair win two medals men event asian games gold silver double achieved ranjit singh singh silver bronze double singh pal edition asian games \n",
      "실제 요약 : only rd time in asiad india has won medals in men \n",
      "예측 요약 :  india wins gold at asian championship\n",
      "\n",
      "\n",
      "원문 : uttar pradesh cm yogi adityanath joined bjp jan raksha yatra pass districts kerala day party president amit shah launched march worker bjp political killings happen political make people aware adityanath said ahead km padyatra \n",
      "실제 요약 : adityanath joins bjp anti left jan raksha yatra in kerala \n",
      "예측 요약 :  yogi adityanath to visit yogi for yogi adityanath\n",
      "\n",
      "\n",
      "원문 : actress vidya balan acquired rights project seen portraying former prime minister indira gandhi revealed biopic web series much material made film know many seasons added \n",
      "실제 요약 : biopic on indira gandhi will be web series vidya balan \n",
      "예측 요약 :  am the most important for the first time vidya balan\n",
      "\n",
      "\n",
      "원문 : flipkart completed million employee stock options homegrown commerce giant said wednesday reportedly largest share buyback program history indian startup ecosystem former present employees flipkart group group companies including myntra participated flipkart said \n",
      "실제 요약 : flipkart buys back employee stock options worth million \n",
      "예측 요약 :  flipkart ceo of walmart deal to be auctioned\n",
      "\n",
      "\n",
      "원문 : russia vetoed united nations security council resolution demanding syrian president bashar al assad government cooperate probe idlib chemical attack eighth time syria six year civil war russia used veto power shield assad government bolivia joined russia going resolution china kazakhstan ethiopia \n",
      "실제 요약 : russia vetoes un probe of syria gas attack \n",
      "예측 요약 :  russia warns chemical attack on syria chemical attack\n",
      "\n",
      "\n",
      "원문 : tennis player serena williams recently posted picture baby bump snapchat says accidentally revealed news pregnancy checking status taking pictures every week see far along getting saving good one time slipped said serena \n",
      "실제 요약 : accidentally released news of pregnancy says serena \n",
      "예측 요약 :  serena williams is pregnant kid\n",
      "\n",
      "\n",
      "원문 : christine lagarde md international monetary fund said may wise dismiss virtual currencies may give existing currencies run money cryptocurrencies could become better alternative paper banknotes said added global usage imf house currency special drawing right could get boost cryptocurrencies growth \n",
      "실제 요약 : not to dismiss virtual like bitcoin \n",
      "예측 요약 :  imf to launch cryptocurrency imf\n",
      "\n",
      "\n",
      "원문 : wales anna considered youngest participant commonwealth games teamed charlotte carey beat india patkar das commonwealth games opener despite win wales failed go past india team lost rest three singles matches \n",
      "실제 요약 : year old tt player opens cwg with win against india \n",
      "예측 요약 :  cwg gold medalist wins cwg bronze after cwg semis\n",
      "\n",
      "\n"
     ]
    }
   ],
   "source": [
    "for i in range(50, 100):\n",
    "    print(\"원문 :\", seq2text(encoder_input_test[i]))\n",
    "    print(\"실제 요약 :\", seq2summary(decoder_input_test[i]))\n",
    "    print(\"예측 요약 :\", decode_sequence(encoder_input_test[i].reshape(1, text_max_len)))\n",
    "    print(\"\\n\")"
   ]
  },
  {
   "cell_type": "markdown",
   "id": "a5f6a0dc",
   "metadata": {},
   "source": [
    "## 추출적요약"
   ]
  },
  {
   "cell_type": "code",
   "execution_count": 99,
   "id": "a397146a",
   "metadata": {},
   "outputs": [],
   "source": [
    "import requests\n",
    "from summa.summarizer import summarize\n",
    "import pandas as pd"
   ]
  },
  {
   "cell_type": "code",
   "execution_count": 100,
   "id": "a42c448c",
   "metadata": {},
   "outputs": [],
   "source": [
    "import urllib.request\n",
    "urllib.request.urlretrieve(\"https://raw.githubusercontent.com/sunnysai12345/News_Summary/master/news_summary_more.csv\", filename=\"news_summary_more.csv\")\n",
    "data = pd.read_csv('news_summary_more.csv', encoding='iso-8859-1')"
   ]
  },
  {
   "cell_type": "code",
   "execution_count": 101,
   "id": "045fd206",
   "metadata": {},
   "outputs": [
    {
     "name": "stdout",
     "output_type": "stream",
     "text": [
      "headlines,text\n",
      "upGrad learner switches to career in ML & Al with 90% salary hike,\"Saurav Kant, an al\n"
     ]
    }
   ],
   "source": [
    "print(text[:100])"
   ]
  },
  {
   "cell_type": "code",
   "execution_count": 113,
   "id": "1b9409ed",
   "metadata": {},
   "outputs": [
    {
     "name": "stdout",
     "output_type": "stream",
     "text": [
      "headlines:\n",
      "The program and upGrad's 360-degree career support helped him transition to a Data Scientist at Tech Mahindra with 90% salary hike.\n",
      "upGrad's Online Power Learning has powered 3 lakh+ careers.\n"
     ]
    }
   ],
   "source": [
    "print('headlines:')\n",
    "print(summarize(data.loc[0, 'text'], ratio=0.9))"
   ]
  },
  {
   "cell_type": "code",
   "execution_count": 114,
   "id": "1d0859f2",
   "metadata": {},
   "outputs": [
    {
     "name": "stdout",
     "output_type": "stream",
     "text": [
      "headlines:\n",
      "[\"The program and upGrad's 360-degree career support helped him transition to a Data Scientist at Tech Mahindra with 90% salary hike.\", \"upGrad's Online Power Learning has powered 3 lakh+ careers.\"]\n"
     ]
    }
   ],
   "source": [
    "print('headlines:')\n",
    "print(summarize(data.loc[0, 'text'], ratio=0.9, split=True))"
   ]
  },
  {
   "cell_type": "code",
   "execution_count": 116,
   "id": "b697739c",
   "metadata": {},
   "outputs": [
    {
     "name": "stdout",
     "output_type": "stream",
     "text": [
      "headlines:\n",
      "The program and upGrad's 360-degree career support helped him transition to a Data Scientist at Tech Mahindra with 90% salary hike.\n",
      "upGrad's Online Power Learning has powered 3 lakh+ careers.\n"
     ]
    }
   ],
   "source": [
    "print('headlines:')\n",
    "print(summarize(data.loc[0, 'text'], words=20))"
   ]
  },
  {
   "cell_type": "markdown",
   "id": "f1e6f06f",
   "metadata": {},
   "source": [
    "추출적 요약과 추상적 요약 비교해보기"
   ]
  },
  {
   "cell_type": "code",
   "execution_count": 117,
   "id": "09e55d9a",
   "metadata": {},
   "outputs": [
    {
     "name": "stdout",
     "output_type": "stream",
     "text": [
      "headlines:\n",
      "Former Finance Minister Yashwant Sinha on Tuesday demanded a probe into the alleged diversion of loans worth Ã¢ÂÂ¹31,000 crore by Dewan Housing Finance (DHFL).\n",
      "This comes after a media report on Tuesday accused DHFL's controlling shareholders of diverting funds to shell companies to buy assets.\n",
      "actual headlines:\n",
      "Yashwant Sinha demands probe into alleged fund diversion by DHFL\n"
     ]
    }
   ],
   "source": [
    "#추출적 요약\n",
    "print('headlines:')\n",
    "print(summarize(data.text.iloc[50], ratio=0.9))\n",
    "\n",
    "#추상적 요약\n",
    "print('actual headlines:')\n",
    "print(data.headlines.iloc[50])"
   ]
  },
  {
   "cell_type": "code",
   "execution_count": 118,
   "id": "6f6ceabb",
   "metadata": {},
   "outputs": [
    {
     "name": "stdout",
     "output_type": "stream",
     "text": [
      "headlines:\n",
      "[\"Italian third division football side Lucchese's head coach Giancarlo Favarin has been banned for five months for headbutting Alessandria's assistant coach Gaetano Mancino during a brawl following the teams' 2-2 draw on Sunday.\", 'Mancino was caught off-balance and knocked to the ground after the headbutt.']\n",
      "actual headlines:\n",
      "Italian coach knocks rival down with headbutt, banned for 5 months\n"
     ]
    }
   ],
   "source": [
    "#추출적 요약\n",
    "print('headlines:')\n",
    "print(summarize(data.text.iloc[30], ratio=0.9, split=True))\n",
    "\n",
    "#추상적 요약\n",
    "print('actual headlines:')\n",
    "print(data.headlines.iloc[30])"
   ]
  },
  {
   "cell_type": "code",
   "execution_count": 121,
   "id": "8fa61461",
   "metadata": {},
   "outputs": [
    {
     "name": "stdout",
     "output_type": "stream",
     "text": [
      "headlines:\n",
      "Former Finance Minister Yashwant Sinha on Tuesday demanded a probe into the alleged diversion of loans worth Ã¢ÂÂ¹31,000 crore by Dewan Housing Finance (DHFL).\n",
      "actual headlines:\n",
      "Yashwant Sinha demands probe into alleged fund diversion by DHFL\n"
     ]
    }
   ],
   "source": [
    "#추출적 요약\n",
    "print('headlines:')\n",
    "print(summarize(data.text.iloc[50], words=20))\n",
    "\n",
    "#추상적 요약\n",
    "print('actual headlines:')\n",
    "print(data.headlines.iloc[50])"
   ]
  },
  {
   "cell_type": "markdown",
   "id": "757ea157",
   "metadata": {},
   "source": [
    "같은 순번의 문장을 불러 왔을 때 어떤 방식으로 다른지 비교해보고자 했다. 이렇게 같이 해보면 다른 점이 눈에 잘 들어올 것이라고 생각했다."
   ]
  },
  {
   "cell_type": "markdown",
   "id": "c15d3e57",
   "metadata": {},
   "source": [
    "## 회고"
   ]
  },
  {
   "cell_type": "markdown",
   "id": "6dbb2fdb",
   "metadata": {},
   "source": [
    "추출적 요약 커널이 무한수행이 되어서 결과가 나타나질 않았다. 커널이 실행이 csv를 텍스트 파일로 변환도 시켜보고 ratio도 변경해보고 데이터 타입도 바꿔보고 했지만 무한수행을 멈출 수가 없었따. 하지만 조원의 도움으로 파일을 읽어올 때 \n",
    "  data=pd.read_csv('news_summary_more.csv', encoding='iso-8859-1')도 같이 실행시켜야 한다는 걸 알게 되었다. 그 후 잘 해결이 되었다. 너무 속이 시원하다.\n",
    "\n",
    "추출적 요약의 경우 ratio의 숫자가 작으면 요약이 잘 안된다. 0.005로 했을 땐 아무런 문장도 뜨지 않았었다. 0.5로 수정한 후에는 요약이 잘 나타났고 나는 0.9로 실행을 시켰다.\n",
    "\n",
    "추상적 요약에서는 저번 exploration에서도 나왔던 pad에 관한 개념도 반가웠고 여러번 접하게 되니까 이해하는데 도움이 되는 것 같다.\n",
    "훈련데이터와 테스트데이터 나누기에서 시각화를 한 후 그 결과를 보고 문장길이의 평균, 최대 문장 길이를 고려해서 파라미터를 조절 해 보았다.\n",
    "\n",
    "모델 훈련하기에서 너무 많은 시간이 소요가 되어서 epoch를 줄여야 하나 생각을 했었지만 중간에 과적합을 막기 위한 early stopping에 걸렸다. epoch를 10이나 5로 설정해서 그땐 어떤 결과가 나오는지  돌려보고 싶은 마음도 들었지만 도저히 엄두가 나지 않았다. 미래의 언젠가 한 번 시도해보고 싶다.\n",
    "\n",
    "LSTM이나 인퍼런스 모델 같은 어려운 개념이 나왔지만 이번 exploration은 전반적으로 이해가 잘 된 것 같다 ! 그리고 재미있었다 !!!!"
   ]
  },
  {
   "cell_type": "code",
   "execution_count": null,
   "id": "cd4d9ebe",
   "metadata": {},
   "outputs": [],
   "source": []
  }
 ],
 "metadata": {
  "kernelspec": {
   "display_name": "Python 3 (ipykernel)",
   "language": "python",
   "name": "python3"
  },
  "language_info": {
   "codemirror_mode": {
    "name": "ipython",
    "version": 3
   },
   "file_extension": ".py",
   "mimetype": "text/x-python",
   "name": "python",
   "nbconvert_exporter": "python",
   "pygments_lexer": "ipython3",
   "version": "3.9.7"
  }
 },
 "nbformat": 4,
 "nbformat_minor": 5
}

{
 "cells": [
  {
   "cell_type": "markdown",
   "id": "1fc51da1",
   "metadata": {},
   "source": [
    "# 4. 작사가 인공지능 만들기"
   ]
  },
  {
   "cell_type": "markdown",
   "id": "5a06c44b",
   "metadata": {},
   "source": [
    "- 데이터 다듬기\n",
    "- 인공지능 학습시키기\n",
    "- 잘 만들어졌는지 평가하기"
   ]
  },
  {
   "cell_type": "code",
   "execution_count": 1,
   "id": "d3e863fa",
   "metadata": {},
   "outputs": [],
   "source": [
    "import os\n",
    "import re    \n",
    "import glob\n",
    "import numpy as np         \n",
    "import tensorflow as tf    \n",
    "from sklearn.model_selection import train_test_split"
   ]
  },
  {
   "cell_type": "markdown",
   "id": "e6e5d67e",
   "metadata": {},
   "source": [
    "## 데이터 다듬기"
   ]
  },
  {
   "cell_type": "code",
   "execution_count": 2,
   "id": "c4459da1",
   "metadata": {},
   "outputs": [
    {
     "name": "stdout",
     "output_type": "stream",
     "text": [
      "데이터 크기: 187088\n",
      "Examples:\n",
      " [\"Now I've heard there was a secret chord\", 'That David played, and it pleased the Lord', \"But you don't really care for music, do you?\"]\n"
     ]
    }
   ],
   "source": [
    "txt_file_path = os.getenv('HOME')+'/aiffel/lyricist/data/lyrics/*'\n",
    "\n",
    "txt_list = glob.glob(txt_file_path)\n",
    "\n",
    "raw_corpus = []\n",
    "\n",
    "# 여러개의 txt 파일을 모두 읽어서 raw_corpus 에 담습니다.\n",
    "for txt_file in txt_list:\n",
    "    with open(txt_file, \"r\") as f:\n",
    "        raw = f.read().splitlines()\n",
    "        raw_corpus.extend(raw)\n",
    "\n",
    "print(\"데이터 크기:\", len(raw_corpus))\n",
    "print(\"Examples:\\n\", raw_corpus[:3])"
   ]
  },
  {
   "cell_type": "markdown",
   "id": "4e38a58b",
   "metadata": {},
   "source": [
    "데이터의 전처리"
   ]
  },
  {
   "cell_type": "code",
   "execution_count": 32,
   "id": "1b706191",
   "metadata": {},
   "outputs": [],
   "source": [
    "#특수문자 제거 및 공백처리\n",
    "def preprocess_sentence(sentence):\n",
    "    sentence = sentence.lower().strip() # 1\n",
    "    sentence = re.sub(r\"([?.!,¿])\", r\" \\1 \", sentence) # 2\n",
    "    sentence = re.sub(r'[\" \"]+', \" \", sentence) # 3\n",
    "    sentence = re.sub(r\"[^a-zA-Z?.!,¿]+\", \" \", sentence) # 4\n",
    "    sentence = sentence.strip() # 5\n",
    "    sentence = '<start> ' + sentence + ' <end>' # 6\n",
    "    return sentence"
   ]
  },
  {
   "cell_type": "code",
   "execution_count": 4,
   "id": "93c91ae6",
   "metadata": {},
   "outputs": [
    {
     "name": "stdout",
     "output_type": "stream",
     "text": [
      "187088\n"
     ]
    }
   ],
   "source": [
    "corpus = []\n",
    "\n",
    "for sentence in raw_corpus:\n",
    "    corpus.append(preprocess_sentence(sentence))\n",
    "    \n",
    "print(len(corpus))"
   ]
  },
  {
   "cell_type": "code",
   "execution_count": 5,
   "id": "2daeb544",
   "metadata": {},
   "outputs": [
    {
     "name": "stdout",
     "output_type": "stream",
     "text": [
      "8\n",
      "8\n",
      "9\n",
      "4\n",
      "4\n",
      "6\n",
      "6\n"
     ]
    }
   ],
   "source": [
    "for idx, sentence in enumerate(raw_corpus):\n",
    "    print(len(sentence.split()))\n",
    "    if idx > 5: break"
   ]
  },
  {
   "cell_type": "markdown",
   "id": "a4a8ed6f",
   "metadata": {},
   "source": [
    "데이터 정제"
   ]
  },
  {
   "cell_type": "code",
   "execution_count": 33,
   "id": "f066feb9",
   "metadata": {},
   "outputs": [
    {
     "data": {
      "text/plain": [
       "156227"
      ]
     },
     "execution_count": 33,
     "metadata": {},
     "output_type": "execute_result"
    }
   ],
   "source": [
    "corpus = [] #정제한 문장 담기\n",
    "\n",
    "for sentence in raw_corpus:\n",
    "    if len(sentence) == 0: continue\n",
    "    \n",
    "    #정제하고 담기\n",
    "    sentence = preprocess_sentence(sentence)\n",
    "    \n",
    "    if len(sentence.split()) >= 16: continue\n",
    "    corpus.append(sentence)\n",
    "        \n",
    "len(corpus)"
   ]
  },
  {
   "cell_type": "code",
   "execution_count": 30,
   "id": "2bf1826b",
   "metadata": {},
   "outputs": [
    {
     "name": "stdout",
     "output_type": "stream",
     "text": [
      "[[   2   50    4 ...    0    0    0]\n",
      " [   2   15 2971 ...    0    0    0]\n",
      " [   2   33    7 ...   46    3    0]\n",
      " ...\n",
      " [   2    4  117 ...    0    0    0]\n",
      " [   2  258  195 ...   12    3    0]\n",
      " [   2    7   34 ...    0    0    0]] <keras_preprocessing.text.Tokenizer object at 0x7f9b61461850>\n"
     ]
    }
   ],
   "source": [
    "def tokenize(corpus):\n",
    "    tokenizer = tf.keras.preprocessing.text.Tokenizer(\n",
    "        num_words=12000, \n",
    "        filters=' ',\n",
    "        oov_token=\"<unk>\"\n",
    "    )\n",
    "    tokenizer.fit_on_texts(corpus)\n",
    "    tensor = tokenizer.texts_to_sequences(corpus)   \n",
    "    tensor = tf.keras.preprocessing.sequence.pad_sequences(tensor, padding='post')  \n",
    "    \n",
    "    print(tensor,tokenizer)\n",
    "    return tensor, tokenizer\n",
    "\n",
    "tensor, tokenizer = tokenize(corpus)"
   ]
  },
  {
   "cell_type": "code",
   "execution_count": 8,
   "id": "91a1ef1d",
   "metadata": {},
   "outputs": [
    {
     "name": "stdout",
     "output_type": "stream",
     "text": [
      "[   2   50    4   95  303   62   53    9  946 6269    3    0    0    0]\n",
      "[  50    4   95  303   62   53    9  946 6269    3    0    0    0    0]\n"
     ]
    },
    {
     "data": {
      "text/plain": [
       "(156227, 14)"
      ]
     },
     "execution_count": 8,
     "metadata": {},
     "output_type": "execute_result"
    }
   ],
   "source": [
    "src_input = tensor[:, :-1]  \n",
    "tgt_input = tensor[:, 1:]    \n",
    "\n",
    "print(src_input[0])\n",
    "print(tgt_input[0])\n",
    "\n",
    "src_input.shape"
   ]
  },
  {
   "cell_type": "markdown",
   "id": "25103075",
   "metadata": {},
   "source": [
    "평가 데이터셋 분리"
   ]
  },
  {
   "cell_type": "code",
   "execution_count": 9,
   "id": "eaf9e8f0",
   "metadata": {},
   "outputs": [],
   "source": [
    "enc_train, enc_val, dec_train, dec_val = train_test_split(src_input,\n",
    "                                                          tgt_input,\n",
    "                                                          test_size=0.2,\n",
    "                                                          random_state=7)"
   ]
  },
  {
   "cell_type": "code",
   "execution_count": 34,
   "id": "b696b333",
   "metadata": {},
   "outputs": [
    {
     "name": "stdout",
     "output_type": "stream",
     "text": [
      "489\n"
     ]
    }
   ],
   "source": [
    "BUFFER_SIZE = len(enc_train)\n",
    "BATCH_SIZE = 256\n",
    "steps_per_epoch = len(enc_train) // BATCH_SIZE #한 번에 다 넣을 수 없어서 나눠서 넣어준다(256 임의로 나눠서)\n",
    "\n",
    "VOCAB_SIZE = tokenizer.num_words + 1   \n",
    "train_dataset = tf.data.Dataset.from_tensor_slices((enc_train, dec_train))\n",
    "train_dataset = train_dataset.shuffle(BUFFER_SIZE)\n",
    "train_dataset = train_dataset.batch(BATCH_SIZE, drop_remainder= False)\n",
    "print(len(train_dataset))"
   ]
  },
  {
   "cell_type": "code",
   "execution_count": 11,
   "id": "b7be20a4",
   "metadata": {},
   "outputs": [
    {
     "name": "stdout",
     "output_type": "stream",
     "text": [
      "122\n"
     ]
    }
   ],
   "source": [
    "validation_dataset = tf.data.Dataset.from_tensor_slices((enc_val, dec_val))\n",
    "validation_dataset = validation_dataset.shuffle(BUFFER_SIZE)\n",
    "validation_dataset = validation_dataset.batch(BATCH_SIZE, drop_remainder= True)\n",
    "\n",
    "print(len(validation_dataset))"
   ]
  },
  {
   "cell_type": "code",
   "execution_count": 12,
   "id": "61f37995",
   "metadata": {},
   "outputs": [
    {
     "name": "stdout",
     "output_type": "stream",
     "text": [
      "Source Train: (124981, 14)\n",
      "Target Train: (124981, 14)\n"
     ]
    }
   ],
   "source": [
    "print(\"Source Train:\", enc_train.shape)\n",
    "print(\"Target Train:\", dec_train.shape)"
   ]
  },
  {
   "cell_type": "markdown",
   "id": "04cb5cf3",
   "metadata": {},
   "source": [
    "## 인공지능 학습시키기"
   ]
  },
  {
   "cell_type": "code",
   "execution_count": 26,
   "id": "37f8c970",
   "metadata": {},
   "outputs": [],
   "source": [
    "#모델에는 1개의 Embedding 레이어, 2개의 LSTM 레이어, 1개의 Dense 레이어로 구성\n",
    "\n",
    "class TextGenerator(tf.keras.Model):\n",
    "    def __init__(self, vocab_size, embedding_size, hidden_size):\n",
    "        super(TextGenerator, self).__init__()\n",
    "        \n",
    "        self.embedding = tf.keras.layers.Embedding(vocab_size, embedding_size)\n",
    "        self.rnn_1 = tf.keras.layers.LSTM(hidden_size, return_sequences=True)\n",
    "        self.rnn_2 = tf.keras.layers.LSTM(hidden_size, return_sequences=True)\n",
    "        self.linear = tf.keras.layers.Dense(vocab_size)\n",
    "        \n",
    "    def call(self, x):\n",
    "        out = self.embedding(x)\n",
    "        out = self.rnn_1(out)\n",
    "        out = self.rnn_2(out)\n",
    "        out = self.linear(out)\n",
    "        \n",
    "        return out\n",
    "    \n",
    "embedding_size = 256 #문자를 기계가 이해할 수 있는 숫자로 바꾼 결과 또는 과정\n",
    "hidden_size = 3000\n",
    "model = TextGenerator(tokenizer.num_words + 1, embedding_size , hidden_size)"
   ]
  },
  {
   "cell_type": "code",
   "execution_count": 20,
   "id": "1acd7c6c",
   "metadata": {
    "scrolled": true
   },
   "outputs": [
    {
     "data": {
      "text/plain": [
       "<tf.Tensor: shape=(256, 14, 12001), dtype=float32, numpy=\n",
       "array([[[ 1.34693808e-04, -8.46081603e-05,  1.72471686e-04, ...,\n",
       "         -3.21308791e-04, -5.51694866e-05,  8.17072359e-05],\n",
       "        [ 2.99747859e-04, -7.94460811e-06,  3.66770517e-04, ...,\n",
       "         -4.69062303e-04,  4.45991791e-05,  1.84783319e-04],\n",
       "        [ 1.83238662e-04,  6.91709574e-05,  5.45984542e-04, ...,\n",
       "         -4.96059249e-04,  2.09877835e-04,  9.61716432e-05],\n",
       "        ...,\n",
       "        [ 1.45501911e-03, -3.10460280e-04, -3.31074320e-04, ...,\n",
       "         -6.83339662e-04, -6.08452945e-04,  2.06974288e-03],\n",
       "        [ 1.73379981e-03, -4.50003921e-04, -3.63521453e-04, ...,\n",
       "         -6.63492305e-04, -7.74905842e-04,  2.36349413e-03],\n",
       "        [ 1.99869834e-03, -5.57790627e-04, -3.82129452e-04, ...,\n",
       "         -6.56590972e-04, -9.12524527e-04,  2.58376123e-03]],\n",
       "\n",
       "       [[ 1.34693808e-04, -8.46081603e-05,  1.72471686e-04, ...,\n",
       "         -3.21308791e-04, -5.51694866e-05,  8.17072359e-05],\n",
       "        [ 4.64207027e-04,  1.99271206e-04,  1.44905178e-04, ...,\n",
       "         -4.26650047e-04,  7.28465675e-05,  3.15426907e-04],\n",
       "        [ 4.61998570e-04,  5.07669582e-04,  2.61798152e-04, ...,\n",
       "         -3.60818551e-04,  1.08905915e-04,  4.98774578e-04],\n",
       "        ...,\n",
       "        [-1.79366558e-04,  3.29052284e-03,  6.80156460e-04, ...,\n",
       "          1.92360138e-04,  3.37743171e-04,  6.89645472e-04],\n",
       "        [-1.45068378e-04,  2.92379479e-03,  5.69227326e-04, ...,\n",
       "          1.86870020e-04,  1.10475827e-04,  1.06698892e-03],\n",
       "        [ 7.33135585e-06,  2.44613318e-03,  4.66166355e-04, ...,\n",
       "          2.14204512e-04, -2.07946432e-04,  1.56181853e-03]],\n",
       "\n",
       "       [[ 1.34693808e-04, -8.46081603e-05,  1.72471686e-04, ...,\n",
       "         -3.21308791e-04, -5.51694866e-05,  8.17072359e-05],\n",
       "        [ 2.76579638e-04, -1.28772459e-04,  8.65824477e-05, ...,\n",
       "         -6.44639775e-04, -2.02756506e-04,  4.21925564e-04],\n",
       "        [ 2.79633008e-04, -5.80309788e-05,  5.01823524e-06, ...,\n",
       "         -6.63685030e-04, -2.06820056e-04,  4.89843136e-04],\n",
       "        ...,\n",
       "        [ 2.13977206e-03, -6.94031885e-04, -2.51579157e-04, ...,\n",
       "         -5.34344115e-04, -1.15775387e-03,  2.97906436e-03],\n",
       "        [ 2.38010637e-03, -6.97352109e-04, -2.58277229e-04, ...,\n",
       "         -5.69059572e-04, -1.24015985e-03,  3.03104310e-03],\n",
       "        [ 2.59188539e-03, -6.91932219e-04, -2.70319433e-04, ...,\n",
       "         -6.13897224e-04, -1.29852060e-03,  3.05347773e-03]],\n",
       "\n",
       "       ...,\n",
       "\n",
       "       [[ 1.34693808e-04, -8.46081603e-05,  1.72471686e-04, ...,\n",
       "         -3.21308791e-04, -5.51694866e-05,  8.17072359e-05],\n",
       "        [ 3.19158076e-04, -6.63718674e-05,  1.23376201e-04, ...,\n",
       "         -5.02711511e-04, -3.88708169e-04,  2.26182980e-04],\n",
       "        [ 5.49228047e-04,  4.18436939e-05,  1.39010532e-04, ...,\n",
       "         -8.15639971e-04, -5.53398044e-04,  2.64869508e-04],\n",
       "        ...,\n",
       "        [ 1.24168012e-03, -4.47612925e-04, -2.98788596e-04, ...,\n",
       "         -2.34092862e-04,  1.24268362e-03,  2.93903460e-04],\n",
       "        [ 1.47013506e-03, -6.29280810e-04, -2.54793238e-04, ...,\n",
       "         -4.47368257e-05,  9.09467635e-04,  7.87006982e-04],\n",
       "        [ 1.71062292e-03, -7.88435224e-04, -2.10522558e-04, ...,\n",
       "          1.00425779e-04,  5.17055509e-04,  1.27980707e-03]],\n",
       "\n",
       "       [[ 1.34693808e-04, -8.46081603e-05,  1.72471686e-04, ...,\n",
       "         -3.21308791e-04, -5.51694866e-05,  8.17072359e-05],\n",
       "        [ 9.43794003e-05, -1.33109439e-04,  1.25801351e-04, ...,\n",
       "         -6.96892268e-04,  3.56197823e-04,  3.37192818e-04],\n",
       "        [ 1.13858579e-04,  1.78606002e-04, -8.37720654e-05, ...,\n",
       "         -8.15939333e-04,  5.74532314e-04,  4.19766904e-04],\n",
       "        ...,\n",
       "        [ 1.62029499e-03, -5.61554858e-04, -3.53917392e-04, ...,\n",
       "         -3.92455637e-04, -9.06048925e-04,  3.21164285e-03],\n",
       "        [ 1.90490135e-03, -6.53656491e-04, -3.35579447e-04, ...,\n",
       "         -3.84022831e-04, -1.08289602e-03,  3.29422182e-03],\n",
       "        [ 2.16406654e-03, -7.22785131e-04, -3.23822518e-04, ...,\n",
       "         -4.06440173e-04, -1.21451786e-03,  3.32465745e-03]],\n",
       "\n",
       "       [[ 1.34693808e-04, -8.46081603e-05,  1.72471686e-04, ...,\n",
       "         -3.21308791e-04, -5.51694866e-05,  8.17072359e-05],\n",
       "        [-7.35680514e-05, -1.32850924e-04,  1.06098392e-04, ...,\n",
       "         -7.31758249e-04, -6.53580282e-05, -1.64608675e-04],\n",
       "        [ 2.70756973e-05, -6.29103452e-05,  2.83679474e-05, ...,\n",
       "         -1.03780476e-03, -6.93117472e-05, -6.47679786e-04],\n",
       "        ...,\n",
       "        [ 4.19931632e-04, -4.56432870e-04, -2.72356934e-04, ...,\n",
       "         -7.33237306e-04, -3.17632192e-04,  1.29241776e-03],\n",
       "        [ 6.19839644e-04, -6.53631112e-04, -2.78001680e-04, ...,\n",
       "         -6.67649671e-04, -5.47427684e-04,  1.87818811e-03],\n",
       "        [ 8.73323414e-04, -8.20242683e-04, -2.87759292e-04, ...,\n",
       "         -6.10478921e-04, -7.68591941e-04,  2.36187223e-03]]],\n",
       "      dtype=float32)>"
      ]
     },
     "execution_count": 20,
     "metadata": {},
     "output_type": "execute_result"
    }
   ],
   "source": [
    "for src_sample, tgt_sample in train_dataset.take(1): break\n",
    "model(src_sample)"
   ]
  },
  {
   "cell_type": "code",
   "execution_count": 22,
   "id": "993b8f60",
   "metadata": {},
   "outputs": [
    {
     "name": "stdout",
     "output_type": "stream",
     "text": [
      "Model: \"text_generator_1\"\n",
      "_________________________________________________________________\n",
      "Layer (type)                 Output Shape              Param #   \n",
      "=================================================================\n",
      "embedding_1 (Embedding)      multiple                  3072256   \n",
      "_________________________________________________________________\n",
      "lstm_2 (LSTM)                multiple                  39084000  \n",
      "_________________________________________________________________\n",
      "lstm_3 (LSTM)                multiple                  72012000  \n",
      "_________________________________________________________________\n",
      "dense_1 (Dense)              multiple                  36015001  \n",
      "=================================================================\n",
      "Total params: 150,183,257\n",
      "Trainable params: 150,183,257\n",
      "Non-trainable params: 0\n",
      "_________________________________________________________________\n"
     ]
    }
   ],
   "source": [
    "model.summary()"
   ]
  },
  {
   "cell_type": "code",
   "execution_count": 24,
   "id": "5c2f9d36",
   "metadata": {},
   "outputs": [],
   "source": [
    "optimizer = tf.keras.optimizers.Adam()\n",
    "loss = tf.keras.losses.SparseCategoricalCrossentropy(\n",
    "    from_logits=True, reduction='none')\n",
    "\n",
    "model.compile(loss=loss, optimizer=optimizer)"
   ]
  },
  {
   "cell_type": "code",
   "execution_count": 25,
   "id": "f4b87d42",
   "metadata": {
    "scrolled": true
   },
   "outputs": [
    {
     "name": "stdout",
     "output_type": "stream",
     "text": [
      "Epoch 1/10\n",
      "489/489 [==============================] - 497s 1s/step - loss: 3.2281 - val_loss: 2.8956\n",
      "Epoch 2/10\n",
      "489/489 [==============================] - 499s 1s/step - loss: 2.7001 - val_loss: 2.6351\n",
      "Epoch 3/10\n",
      "489/489 [==============================] - 500s 1s/step - loss: 2.3529 - val_loss: 2.4448\n",
      "Epoch 4/10\n",
      "489/489 [==============================] - 501s 1s/step - loss: 2.0051 - val_loss: 2.3020\n",
      "Epoch 5/10\n",
      "489/489 [==============================] - 502s 1s/step - loss: 1.6796 - val_loss: 2.2077\n",
      "Epoch 6/10\n",
      "489/489 [==============================] - 503s 1s/step - loss: 1.4089 - val_loss: 2.1577\n",
      "Epoch 7/10\n",
      "489/489 [==============================] - 503s 1s/step - loss: 1.2096 - val_loss: 2.1534\n",
      "Epoch 8/10\n",
      "489/489 [==============================] - 503s 1s/step - loss: 1.0921 - val_loss: 2.1643\n",
      "Epoch 9/10\n",
      "489/489 [==============================] - 502s 1s/step - loss: 1.0324 - val_loss: 2.1833\n",
      "Epoch 10/10\n",
      "489/489 [==============================] - 503s 1s/step - loss: 1.0006 - val_loss: 2.1967\n"
     ]
    },
    {
     "data": {
      "text/plain": [
       "<keras.callbacks.History at 0x7f9b61341cd0>"
      ]
     },
     "execution_count": 25,
     "metadata": {},
     "output_type": "execute_result"
    }
   ],
   "source": [
    "model.fit(train_dataset,\n",
    "         epochs=10,\n",
    "         validation_data=validation_dataset)"
   ]
  },
  {
   "cell_type": "markdown",
   "id": "907a1d85",
   "metadata": {},
   "source": [
    "## 잘 만들어졌는지 평가하기"
   ]
  },
  {
   "cell_type": "code",
   "execution_count": 27,
   "id": "b21f7eca",
   "metadata": {},
   "outputs": [],
   "source": [
    "def generate_text(model, tokenizer, init_sentence=\"<start>\", max_len=20):\n",
    "    test_input = tokenizer.texts_to_sequences([init_sentence])\n",
    "    test_tensor = tf.convert_to_tensor(test_input, dtype=tf.int64)\n",
    "    end_token = tokenizer.word_index[\"<end>\"]\n",
    "\n",
    "\n",
    "    while True:\n",
    "        predict = model(test_tensor)  \n",
    "        predict_word = tf.argmax(tf.nn.softmax(predict, axis=-1), axis=-1)[:, -1] \n",
    "\n",
    "        test_tensor = tf.concat([test_tensor, \n",
    "                                                                 tf.expand_dims(predict_word, axis=0)], axis=-1)\n",
    "\n",
    "        if predict_word.numpy()[0] == end_token: break\n",
    "        if test_tensor.shape[1] >= max_len: break\n",
    "\n",
    "    generated = \"\"\n",
    "    for word_index in test_tensor[0].numpy():\n",
    "        generated += tokenizer.index_word[word_index] + \" \"\n",
    "\n",
    "    return generated "
   ]
  },
  {
   "cell_type": "code",
   "execution_count": 28,
   "id": "8e3b7c05",
   "metadata": {},
   "outputs": [],
   "source": [
    "#Loss\n",
    "loss = tf.keras.losses.SparseCategoricalCrossentropy(\n",
    "    from_logits=True, reduction='none')"
   ]
  },
  {
   "cell_type": "code",
   "execution_count": 29,
   "id": "79486c55",
   "metadata": {},
   "outputs": [
    {
     "data": {
      "text/plain": [
       "'<start> i love memory memory nerves difficult difficult difficult thumbs thumbs until until bumping punched attention attention suggestion suggestion suggestion '"
      ]
     },
     "execution_count": 29,
     "metadata": {},
     "output_type": "execute_result"
    }
   ],
   "source": [
    "generate_text(model, tokenizer, init_sentence=\"<start> i love\")"
   ]
  },
  {
   "cell_type": "markdown",
   "id": "79a574fc",
   "metadata": {},
   "source": [
    "## 회고\n",
    "\n",
    "데이터 전처리 과정에서 특수문자제거, \n",
    "\n",
    "val_loss가 2.2 이하가 나와야 한다고 했다.\n",
    "\n",
    "lms노드에 적혀 있는 것 처럼 val_loss가 2.2이면 hidden_size와 embedding_size의 크기를 조절해야한다고 했다.\n",
    "\n",
    "여러 시도를 해봤을 때, embedding_size와 hidden_size가 val_loss에 영향을 끼친다는 사실을 발견했고 embedding_size보다는 hidden_size가 더 커질 때 val_loss가 적게 나온다는 사실을 확인했다.\n",
    "\n",
    "중간에 val_loss가 왜 높아지는지는 아직 잘 모르겠으나 이건 앞으로 알아가야할 방향인 것 같다.\n"
   ]
  },
  {
   "cell_type": "code",
   "execution_count": null,
   "id": "6ecc6213",
   "metadata": {},
   "outputs": [],
   "source": []
  },
  {
   "cell_type": "code",
   "execution_count": null,
   "id": "cd46ff3d",
   "metadata": {},
   "outputs": [],
   "source": []
  },
  {
   "cell_type": "code",
   "execution_count": null,
   "id": "9938ebde",
   "metadata": {},
   "outputs": [],
   "source": []
  }
 ],
 "metadata": {
  "kernelspec": {
   "display_name": "Python 3 (ipykernel)",
   "language": "python",
   "name": "python3"
  },
  "language_info": {
   "codemirror_mode": {
    "name": "ipython",
    "version": 3
   },
   "file_extension": ".py",
   "mimetype": "text/x-python",
   "name": "python",
   "nbconvert_exporter": "python",
   "pygments_lexer": "ipython3",
   "version": "3.9.7"
  }
 },
 "nbformat": 4,
 "nbformat_minor": 5
}

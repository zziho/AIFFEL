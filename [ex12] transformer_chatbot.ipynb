{
 "cells": [
  {
   "cell_type": "markdown",
   "id": "e30c7a78",
   "metadata": {},
   "source": [
    "# 12. 트랜스포머로 만드는 대화형 챗봇"
   ]
  },
  {
   "cell_type": "code",
   "execution_count": 1,
   "id": "01232d21",
   "metadata": {},
   "outputs": [],
   "source": [
    "import tensorflow as tf\n",
    "import tensorflow_datasets as tfds\n",
    "import os\n",
    "import re\n",
    "import numpy as np\n",
    "import matplotlib.pyplot as plt\n",
    "import pandas as pd\n",
    "import tensorflow_datasets as tfds"
   ]
  },
  {
   "cell_type": "code",
   "execution_count": 2,
   "id": "3f256474",
   "metadata": {},
   "outputs": [
    {
     "data": {
      "text/plain": [
       "'/aiffel/data/ChatbotData .csv'"
      ]
     },
     "execution_count": 2,
     "metadata": {},
     "output_type": "execute_result"
    }
   ],
   "source": [
    "path_to_dataset = os.getenv('HOME')+'/data/ChatbotData .csv'\n",
    "path_to_dataset"
   ]
  },
  {
   "cell_type": "code",
   "execution_count": 3,
   "id": "8679a7f0",
   "metadata": {
    "scrolled": false
   },
   "outputs": [
    {
     "data": {
      "text/html": [
       "<div>\n",
       "<style scoped>\n",
       "    .dataframe tbody tr th:only-of-type {\n",
       "        vertical-align: middle;\n",
       "    }\n",
       "\n",
       "    .dataframe tbody tr th {\n",
       "        vertical-align: top;\n",
       "    }\n",
       "\n",
       "    .dataframe thead th {\n",
       "        text-align: right;\n",
       "    }\n",
       "</style>\n",
       "<table border=\"1\" class=\"dataframe\">\n",
       "  <thead>\n",
       "    <tr style=\"text-align: right;\">\n",
       "      <th></th>\n",
       "      <th>Q</th>\n",
       "      <th>A</th>\n",
       "      <th>label</th>\n",
       "    </tr>\n",
       "  </thead>\n",
       "  <tbody>\n",
       "    <tr>\n",
       "      <th>0</th>\n",
       "      <td>12시 땡!</td>\n",
       "      <td>하루가 또 가네요.</td>\n",
       "      <td>0</td>\n",
       "    </tr>\n",
       "    <tr>\n",
       "      <th>1</th>\n",
       "      <td>1지망 학교 떨어졌어</td>\n",
       "      <td>위로해 드립니다.</td>\n",
       "      <td>0</td>\n",
       "    </tr>\n",
       "    <tr>\n",
       "      <th>2</th>\n",
       "      <td>3박4일 놀러가고 싶다</td>\n",
       "      <td>여행은 언제나 좋죠.</td>\n",
       "      <td>0</td>\n",
       "    </tr>\n",
       "    <tr>\n",
       "      <th>3</th>\n",
       "      <td>3박4일 정도 놀러가고 싶다</td>\n",
       "      <td>여행은 언제나 좋죠.</td>\n",
       "      <td>0</td>\n",
       "    </tr>\n",
       "    <tr>\n",
       "      <th>4</th>\n",
       "      <td>PPL 심하네</td>\n",
       "      <td>눈살이 찌푸려지죠.</td>\n",
       "      <td>0</td>\n",
       "    </tr>\n",
       "    <tr>\n",
       "      <th>5</th>\n",
       "      <td>SD카드 망가졌어</td>\n",
       "      <td>다시 새로 사는 게 마음 편해요.</td>\n",
       "      <td>0</td>\n",
       "    </tr>\n",
       "    <tr>\n",
       "      <th>6</th>\n",
       "      <td>SD카드 안돼</td>\n",
       "      <td>다시 새로 사는 게 마음 편해요.</td>\n",
       "      <td>0</td>\n",
       "    </tr>\n",
       "    <tr>\n",
       "      <th>7</th>\n",
       "      <td>SNS 맞팔 왜 안하지ㅠㅠ</td>\n",
       "      <td>잘 모르고 있을 수도 있어요.</td>\n",
       "      <td>0</td>\n",
       "    </tr>\n",
       "    <tr>\n",
       "      <th>8</th>\n",
       "      <td>SNS 시간낭비인 거 아는데 매일 하는 중</td>\n",
       "      <td>시간을 정하고 해보세요.</td>\n",
       "      <td>0</td>\n",
       "    </tr>\n",
       "    <tr>\n",
       "      <th>9</th>\n",
       "      <td>SNS 시간낭비인데 자꾸 보게됨</td>\n",
       "      <td>시간을 정하고 해보세요.</td>\n",
       "      <td>0</td>\n",
       "    </tr>\n",
       "  </tbody>\n",
       "</table>\n",
       "</div>"
      ],
      "text/plain": [
       "                         Q                   A  label\n",
       "0                   12시 땡!          하루가 또 가네요.      0\n",
       "1              1지망 학교 떨어졌어           위로해 드립니다.      0\n",
       "2             3박4일 놀러가고 싶다         여행은 언제나 좋죠.      0\n",
       "3          3박4일 정도 놀러가고 싶다         여행은 언제나 좋죠.      0\n",
       "4                  PPL 심하네          눈살이 찌푸려지죠.      0\n",
       "5                SD카드 망가졌어  다시 새로 사는 게 마음 편해요.      0\n",
       "6                  SD카드 안돼  다시 새로 사는 게 마음 편해요.      0\n",
       "7           SNS 맞팔 왜 안하지ㅠㅠ    잘 모르고 있을 수도 있어요.      0\n",
       "8  SNS 시간낭비인 거 아는데 매일 하는 중       시간을 정하고 해보세요.      0\n",
       "9        SNS 시간낭비인데 자꾸 보게됨       시간을 정하고 해보세요.      0"
      ]
     },
     "execution_count": 3,
     "metadata": {},
     "output_type": "execute_result"
    }
   ],
   "source": [
    "chat_df = pd.read_csv(path_to_dataset)\n",
    "chat_df.head(10)"
   ]
  },
  {
   "cell_type": "markdown",
   "id": "f7f38504",
   "metadata": {},
   "source": [
    "결측치 확인"
   ]
  },
  {
   "cell_type": "code",
   "execution_count": 4,
   "id": "6b520b14",
   "metadata": {
    "scrolled": true
   },
   "outputs": [
    {
     "name": "stdout",
     "output_type": "stream",
     "text": [
      "Q        0\n",
      "A        0\n",
      "label    0\n",
      "dtype: int64\n"
     ]
    }
   ],
   "source": [
    "print(chat_df.isnull().sum())"
   ]
  },
  {
   "cell_type": "code",
   "execution_count": 5,
   "id": "bc0e6ea0",
   "metadata": {
    "scrolled": true
   },
   "outputs": [
    {
     "name": "stdout",
     "output_type": "stream",
     "text": [
      "<class 'pandas.core.series.Series'> <class 'pandas.core.series.Series'>\n"
     ]
    }
   ],
   "source": [
    "question = chat_df['Q']\n",
    "answer = chat_df['A']\n",
    "\n",
    "print(type(question), type(answer))"
   ]
  },
  {
   "cell_type": "markdown",
   "id": "bb87caf0",
   "metadata": {},
   "source": [
    "## 데이터 전처리"
   ]
  },
  {
   "cell_type": "code",
   "execution_count": 6,
   "id": "cbdd2dca",
   "metadata": {},
   "outputs": [],
   "source": [
    "def preprocess_sentence(sentence):\n",
    "    sentence = re.sub('[-=+,#/\\:^$.@*\\\"※~&%ㆍ』\\\\‘|\\(\\)\\[\\]\\<\\>`\\'…》]','', sentence) #특수문자제거\n",
    "    sentence = re.sub(r'[\" \"]+', \" \", sentence) #공백 여러 칸이면 한 칸으로\n",
    "    sentence = re.sub(r\"([?.!,])\", r\" \\1 \", sentence)\n",
    "    sentence = re.sub(r\"[^0-9ㄱ-ㅎㅏ-ㅣ가-힣a-zA-Z?.!,]+\", \" \", sentence)\n",
    "    sentence = sentence.strip()\n",
    "    \n",
    "    return sentence"
   ]
  },
  {
   "cell_type": "code",
   "execution_count": 7,
   "id": "bc651934",
   "metadata": {},
   "outputs": [],
   "source": [
    "chat_df['prc_q'] = chat_df['Q'].map(lambda x : preprocess_sentence(x))\n",
    "chat_df['prc_a'] = chat_df['A'].map(lambda x : preprocess_sentence(x))"
   ]
  },
  {
   "cell_type": "code",
   "execution_count": 8,
   "id": "4b2a016f",
   "metadata": {
    "scrolled": true
   },
   "outputs": [
    {
     "data": {
      "text/html": [
       "<div>\n",
       "<style scoped>\n",
       "    .dataframe tbody tr th:only-of-type {\n",
       "        vertical-align: middle;\n",
       "    }\n",
       "\n",
       "    .dataframe tbody tr th {\n",
       "        vertical-align: top;\n",
       "    }\n",
       "\n",
       "    .dataframe thead th {\n",
       "        text-align: right;\n",
       "    }\n",
       "</style>\n",
       "<table border=\"1\" class=\"dataframe\">\n",
       "  <thead>\n",
       "    <tr style=\"text-align: right;\">\n",
       "      <th></th>\n",
       "      <th>Q</th>\n",
       "      <th>A</th>\n",
       "      <th>label</th>\n",
       "      <th>prc_q</th>\n",
       "      <th>prc_a</th>\n",
       "    </tr>\n",
       "  </thead>\n",
       "  <tbody>\n",
       "    <tr>\n",
       "      <th>10986</th>\n",
       "      <td>저를 좋아하는 사람은 없을 거예요.</td>\n",
       "      <td>그건 절대 아닐 거예요.</td>\n",
       "      <td>2</td>\n",
       "      <td>저를 좋아하는 사람은 없을 거예요</td>\n",
       "      <td>그건 절대 아닐 거예요</td>\n",
       "    </tr>\n",
       "    <tr>\n",
       "      <th>2705</th>\n",
       "      <td>습관이 안 고쳐져</td>\n",
       "      <td>실패해도 조금씩 고치려고 해보세요.</td>\n",
       "      <td>0</td>\n",
       "      <td>습관이 안 고쳐져</td>\n",
       "      <td>실패해도 조금씩 고치려고 해보세요</td>\n",
       "    </tr>\n",
       "    <tr>\n",
       "      <th>9780</th>\n",
       "      <td>반동거중인 여자친구가 나갔으면 좋겠어.</td>\n",
       "      <td>자신의 공간이 필요하다고 말해보세요.</td>\n",
       "      <td>2</td>\n",
       "      <td>반동거중인 여자친구가 나갔으면 좋겠어</td>\n",
       "      <td>자신의 공간이 필요하다고 말해보세요</td>\n",
       "    </tr>\n",
       "    <tr>\n",
       "      <th>9935</th>\n",
       "      <td>사랑이 정말 있을까?</td>\n",
       "      <td>없어요. 일시적인 감정 교란일 뿐 아무것도 아니에요.</td>\n",
       "      <td>2</td>\n",
       "      <td>사랑이 정말 있을까 ?</td>\n",
       "      <td>없어요 일시적인 감정 교란일 뿐 아무것도 아니에요</td>\n",
       "    </tr>\n",
       "    <tr>\n",
       "      <th>2910</th>\n",
       "      <td>아침 일찍 일어나 조깅하고 있어</td>\n",
       "      <td>건강에 좋은 습관이네요.</td>\n",
       "      <td>0</td>\n",
       "      <td>아침 일찍 일어나 조깅하고 있어</td>\n",
       "      <td>건강에 좋은 습관이네요</td>\n",
       "    </tr>\n",
       "    <tr>\n",
       "      <th>3155</th>\n",
       "      <td>여자 어디서 만나</td>\n",
       "      <td>소개팅 시켜달라고 말해보세요.</td>\n",
       "      <td>0</td>\n",
       "      <td>여자 어디서 만나</td>\n",
       "      <td>소개팅 시켜달라고 말해보세요</td>\n",
       "    </tr>\n",
       "    <tr>\n",
       "      <th>11301</th>\n",
       "      <td>즉흥적인 여자친구가 고민임.</td>\n",
       "      <td>그게 매력이에요.</td>\n",
       "      <td>2</td>\n",
       "      <td>즉흥적인 여자친구가 고민임</td>\n",
       "      <td>그게 매력이에요</td>\n",
       "    </tr>\n",
       "    <tr>\n",
       "      <th>4529</th>\n",
       "      <td>출근 자체가 스트레스야</td>\n",
       "      <td>직장 스트레스가 심한가봐요.</td>\n",
       "      <td>0</td>\n",
       "      <td>출근 자체가 스트레스야</td>\n",
       "      <td>직장 스트레스가 심한가봐요</td>\n",
       "    </tr>\n",
       "    <tr>\n",
       "      <th>7443</th>\n",
       "      <td>이별 중독</td>\n",
       "      <td>슬픈 단어네요.</td>\n",
       "      <td>1</td>\n",
       "      <td>이별 중독</td>\n",
       "      <td>슬픈 단어네요</td>\n",
       "    </tr>\n",
       "    <tr>\n",
       "      <th>11107</th>\n",
       "      <td>좋아하는 사람에 대한 예의가 없는 것 같아.</td>\n",
       "      <td>예의없는 사람 좋아하지마세요.</td>\n",
       "      <td>2</td>\n",
       "      <td>좋아하는 사람에 대한 예의가 없는 것 같아</td>\n",
       "      <td>예의없는 사람 좋아하지마세요</td>\n",
       "    </tr>\n",
       "  </tbody>\n",
       "</table>\n",
       "</div>"
      ],
      "text/plain": [
       "                              Q                              A  label  \\\n",
       "10986       저를 좋아하는 사람은 없을 거예요.                  그건 절대 아닐 거예요.      2   \n",
       "2705                  습관이 안 고쳐져            실패해도 조금씩 고치려고 해보세요.      0   \n",
       "9780      반동거중인 여자친구가 나갔으면 좋겠어.           자신의 공간이 필요하다고 말해보세요.      2   \n",
       "9935                사랑이 정말 있을까?  없어요. 일시적인 감정 교란일 뿐 아무것도 아니에요.      2   \n",
       "2910          아침 일찍 일어나 조깅하고 있어                  건강에 좋은 습관이네요.      0   \n",
       "3155                  여자 어디서 만나               소개팅 시켜달라고 말해보세요.      0   \n",
       "11301           즉흥적인 여자친구가 고민임.                      그게 매력이에요.      2   \n",
       "4529               출근 자체가 스트레스야                직장 스트레스가 심한가봐요.      0   \n",
       "7443                      이별 중독                       슬픈 단어네요.      1   \n",
       "11107  좋아하는 사람에 대한 예의가 없는 것 같아.               예의없는 사람 좋아하지마세요.      2   \n",
       "\n",
       "                         prc_q                        prc_a  \n",
       "10986       저를 좋아하는 사람은 없을 거예요                 그건 절대 아닐 거예요  \n",
       "2705                 습관이 안 고쳐져           실패해도 조금씩 고치려고 해보세요  \n",
       "9780      반동거중인 여자친구가 나갔으면 좋겠어          자신의 공간이 필요하다고 말해보세요  \n",
       "9935              사랑이 정말 있을까 ?  없어요 일시적인 감정 교란일 뿐 아무것도 아니에요  \n",
       "2910         아침 일찍 일어나 조깅하고 있어                 건강에 좋은 습관이네요  \n",
       "3155                 여자 어디서 만나              소개팅 시켜달라고 말해보세요  \n",
       "11301           즉흥적인 여자친구가 고민임                     그게 매력이에요  \n",
       "4529              출근 자체가 스트레스야               직장 스트레스가 심한가봐요  \n",
       "7443                     이별 중독                      슬픈 단어네요  \n",
       "11107  좋아하는 사람에 대한 예의가 없는 것 같아              예의없는 사람 좋아하지마세요  "
      ]
     },
     "execution_count": 8,
     "metadata": {},
     "output_type": "execute_result"
    }
   ],
   "source": [
    "chat_df.sample(10)"
   ]
  },
  {
   "cell_type": "code",
   "execution_count": 9,
   "id": "5bcef90a",
   "metadata": {
    "scrolled": true
   },
   "outputs": [
    {
     "name": "stdout",
     "output_type": "stream",
     "text": [
      "전처리 후의 22번째 질문 샘플: 가스비 장난 아님\n",
      "전처리 후의 22번째 답변 샘플: 다음 달에는 더 절약해봐요.\n"
     ]
    }
   ],
   "source": [
    "print('전처리 후의 22번째 질문 샘플: {}'.format(question[21]))\n",
    "print('전처리 후의 22번째 답변 샘플: {}'.format(answer[21]))"
   ]
  },
  {
   "cell_type": "code",
   "execution_count": 10,
   "id": "2e6c4b13",
   "metadata": {},
   "outputs": [],
   "source": [
    "chat_df['count_q'] = chat_df['prc_q'].map(lambda x : len(x.split()))\n",
    "chat_df['count_a'] = chat_df['prc_a'].map(lambda x : len(x.split()))"
   ]
  },
  {
   "cell_type": "code",
   "execution_count": 11,
   "id": "a19b55c9",
   "metadata": {},
   "outputs": [],
   "source": [
    "tokenizer = tfds.deprecated.text.SubwordTextEncoder.build_from_corpus(question + answer, \n",
    "                                                                      target_vocab_size=2**13)"
   ]
  },
  {
   "cell_type": "markdown",
   "id": "9e149dd9",
   "metadata": {},
   "source": [
    "문장 길이 시각화"
   ]
  },
  {
   "cell_type": "code",
   "execution_count": 12,
   "id": "9ba47999",
   "metadata": {
    "scrolled": true
   },
   "outputs": [
    {
     "name": "stdout",
     "output_type": "stream",
     "text": [
      "question 최소길이 1\n",
      "question 최대길이 21\n",
      "question 평균길이 5.4952211790577685\n",
      "answer 최소길이 1\n",
      "answer 최대길이 29\n",
      "answer 평균길이 5.829231159604161\n"
     ]
    },
    {
     "data": {
      "image/png": "[encoded data removed]",
      "text/plain": [
       "<Figure size 432x288 with 2 Axes>"
      ]
     },
     "metadata": {
      "needs_background": "light"
     },
     "output_type": "display_data"
    },
    {
     "data": {
      "image/png": "[encoded data removed]",
      "text/plain": [
       "<Figure size 432x288 with 1 Axes>"
      ]
     },
     "metadata": {
      "needs_background": "light"
     },
     "output_type": "display_data"
    },
    {
     "data": {
      "image/png": "[encoded data removed]",
      "text/plain": [
       "<Figure size 432x288 with 1 Axes>"
      ]
     },
     "metadata": {
      "needs_background": "light"
     },
     "output_type": "display_data"
    }
   ],
   "source": [
    "q_len = [len(tokenizer.encode(question[i])) for i in range(len(question))]\n",
    "a_len = [len(tokenizer.encode(answer[i])) for i in range(len(answer))]\n",
    "\n",
    "print(\"question 최소길이\", np.min(q_len))\n",
    "print(\"question 최대길이\", np.max(q_len))\n",
    "print(\"question 평균길이\", np.mean(q_len))\n",
    "print(\"answer 최소길이\", np.min(a_len))\n",
    "print(\"answer 최대길이\", np.max(a_len))\n",
    "print(\"answer 평균길이\", np.mean(a_len))\n",
    "\n",
    "plt.subplot(1, 2, 1)\n",
    "plt.boxplot(q_len)\n",
    "plt.title('question')\n",
    "plt.subplot(1, 2, 2)\n",
    "plt.boxplot(a_len)\n",
    "plt.title('answer')\n",
    "plt.tight_layout()\n",
    "plt.show()\n",
    "\n",
    "plt.title('question')\n",
    "plt.hist(q_len, bins = 60)\n",
    "plt.xlabel('length of question')\n",
    "plt.ylabel('number of question')\n",
    "plt.show()\n",
    "\n",
    "plt.title('answer')\n",
    "plt.hist(a_len, bins = 60)\n",
    "plt.xlabel('length of question')\n",
    "plt.ylabel('number of question')\n",
    "plt.show()"
   ]
  },
  {
   "cell_type": "code",
   "execution_count": 13,
   "id": "bc06d49c",
   "metadata": {},
   "outputs": [
    {
     "data": {
      "text/plain": [
       "<AxesSubplot:title={'center':'Question'}>"
      ]
     },
     "execution_count": 13,
     "metadata": {},
     "output_type": "execute_result"
    },
    {
     "data": {
      "image/png": "[encoded data removed]",
      "text/plain": [
       "<Figure size 432x288 with 1 Axes>"
      ]
     },
     "metadata": {
      "needs_background": "light"
     },
     "output_type": "display_data"
    }
   ],
   "source": [
    "plt.title('Question')\n",
    "chat_df['count_q'].hist()"
   ]
  },
  {
   "cell_type": "code",
   "execution_count": 14,
   "id": "0a224bfa",
   "metadata": {},
   "outputs": [
    {
     "data": {
      "text/plain": [
       "<AxesSubplot:title={'center':'Answer'}>"
      ]
     },
     "execution_count": 14,
     "metadata": {},
     "output_type": "execute_result"
    },
    {
     "data": {
      "image/png": "[encoded data removed]",
      "text/plain": [
       "<Figure size 432x288 with 1 Axes>"
      ]
     },
     "metadata": {
      "needs_background": "light"
     },
     "output_type": "display_data"
    }
   ],
   "source": [
    "plt.title('Answer')\n",
    "chat_df['count_a'].hist()"
   ]
  },
  {
   "cell_type": "markdown",
   "id": "35c6151f",
   "metadata": {},
   "source": [
    "## 토크나이저 (Tokenizer)"
   ]
  },
  {
   "cell_type": "code",
   "execution_count": 15,
   "id": "a54560d9",
   "metadata": {},
   "outputs": [
    {
     "name": "stdout",
     "output_type": "stream",
     "text": [
      "살짝 오래 걸릴 수 있어요. 스트레칭 한 번 해볼까요? 👐\n"
     ]
    }
   ],
   "source": [
    "import tensorflow_datasets as tfds\n",
    "print(\"살짝 오래 걸릴 수 있어요. 스트레칭 한 번 해볼까요? 👐\")\n",
    "\n",
    "# 질문과 답변 데이터셋에 대해서 Vocabulary 생성. (Tensorflow 2.3.0 이상) (클라우드는 2.4 입니다)\n",
    "tokenizer = tfds.deprecated.text.SubwordTextEncoder.build_from_corpus(question + answer, target_vocab_size=2**13)"
   ]
  },
  {
   "cell_type": "code",
   "execution_count": 16,
   "id": "68864a5a",
   "metadata": {},
   "outputs": [],
   "source": [
    "import tensorflow_datasets as tfds"
   ]
  },
  {
   "cell_type": "code",
   "execution_count": 17,
   "id": "b70615ff",
   "metadata": {},
   "outputs": [],
   "source": [
    "# 시작 토큰과 종료 토큰에 고유한 정수를 부여합니다.\n",
    "START_TOKEN, END_TOKEN = [tokenizer.vocab_size], [tokenizer.vocab_size + 1]"
   ]
  },
  {
   "cell_type": "code",
   "execution_count": 18,
   "id": "9298bf89",
   "metadata": {},
   "outputs": [
    {
     "name": "stdout",
     "output_type": "stream",
     "text": [
      "START_TOKEN의 번호 : [8361]\n",
      "END_TOKEN의 번호 : [8362]\n"
     ]
    }
   ],
   "source": [
    "print('START_TOKEN의 번호 :' ,[tokenizer.vocab_size])\n",
    "print('END_TOKEN의 번호 :' ,[tokenizer.vocab_size + 1])"
   ]
  },
  {
   "cell_type": "code",
   "execution_count": 19,
   "id": "eefaf740",
   "metadata": {},
   "outputs": [
    {
     "name": "stdout",
     "output_type": "stream",
     "text": [
      "8363\n"
     ]
    }
   ],
   "source": [
    "# 시작 토큰과 종료 토큰을 고려하여 +2를 하여 단어장의 크기를 산정합니다.\n",
    "VOCAB_SIZE = tokenizer.vocab_size + 2\n",
    "print(VOCAB_SIZE)"
   ]
  },
  {
   "cell_type": "code",
   "execution_count": 20,
   "id": "67a2bed3",
   "metadata": {},
   "outputs": [
    {
     "name": "stdout",
     "output_type": "stream",
     "text": [
      "정수 인코딩 후의 21번째 질문 샘플: [5824, 602, 2498, 4170]\n",
      "정수 인코딩 후의 21번째 답변 샘플: [2683, 7666, 6, 6375, 92, 8151]\n"
     ]
    }
   ],
   "source": [
    "# 임의의 22번째 샘플에 대해서 정수 인코딩 작업을 수행.\n",
    "# 각 토큰을 고유한 정수로 변환\n",
    "print('정수 인코딩 후의 21번째 질문 샘플: {}'.format(tokenizer.encode(question[21])))\n",
    "print('정수 인코딩 후의 21번째 답변 샘플: {}'.format(tokenizer.encode(answer[21])))"
   ]
  },
  {
   "cell_type": "code",
   "execution_count": 21,
   "id": "8122c593",
   "metadata": {
    "scrolled": true
   },
   "outputs": [
    {
     "name": "stdout",
     "output_type": "stream",
     "text": [
      "15\n"
     ]
    }
   ],
   "source": [
    "# 샘플의 최대 허용 길이 또는 패딩 후의 최종 길이\n",
    "MAX_LENGTH = 15\n",
    "print(MAX_LENGTH)"
   ]
  },
  {
   "cell_type": "code",
   "execution_count": 22,
   "id": "bb579a25",
   "metadata": {},
   "outputs": [],
   "source": [
    "def tokenize_and_filter(inputs, outputs):\n",
    "    tokenized_inputs, tokenized_outputs = [], []\n",
    "    \n",
    "    for (sentence1, sentence2) in zip(inputs, outputs):\n",
    "        sentence1 = START_TOKEN + tokenizer.encode(sentence1) + END_TOKEN\n",
    "        sentence2 = START_TOKEN + tokenizer.encode(sentence2) + END_TOKEN\n",
    "        \n",
    "        if len(sentence1) <= MAX_LENGTH and len(sentence2) <= MAX_LENGTH:\n",
    "            tokenized_inputs.append(sentence1)\n",
    "            tokenized_outputs.append(sentence2)\n",
    "    \n",
    "    tokenized_inputs = tf.keras.preprocessing.sequence.pad_sequences(\n",
    "                        tokenized_inputs, maxlen=MAX_LENGTH, padding='post')\n",
    "    tokenized_outputs = tf.keras.preprocessing.sequence.pad_sequences(\n",
    "                        tokenized_outputs, maxlen=MAX_LENGTH, padding='post')\n",
    "    \n",
    "    return tokenized_inputs, tokenized_outputs"
   ]
  },
  {
   "cell_type": "code",
   "execution_count": 23,
   "id": "5925ee7e",
   "metadata": {
    "scrolled": false
   },
   "outputs": [
    {
     "name": "stdout",
     "output_type": "stream",
     "text": [
      "단어장의 크기 : 8363\n",
      "필터링 후의 질문 샘플 개수: 11570\n",
      "필터링 후의 답변 샘플 개수: 11570\n"
     ]
    }
   ],
   "source": [
    "question, answer = tokenize_and_filter(question, answer)\n",
    "print('단어장의 크기 :',(VOCAB_SIZE))\n",
    "print('필터링 후의 질문 샘플 개수: {}'.format(len(question)))\n",
    "print('필터링 후의 답변 샘플 개수: {}'.format(len(answer)))"
   ]
  },
  {
   "cell_type": "code",
   "execution_count": 24,
   "id": "2f4b5250",
   "metadata": {},
   "outputs": [],
   "source": [
    "BATCH_SIZE = 64\n",
    "BUFFER_SIZE = 20000\n",
    "\n",
    "# 디코더는 이전의 target을 다음의 input으로 사용합니다.\n",
    "# 이에 따라 outputs에서는 START_TOKEN을 제거하겠습니다.\n",
    "dataset = tf.data.Dataset.from_tensor_slices((\n",
    "    {\n",
    "        'inputs': question,\n",
    "        'dec_inputs': answer[:, :-1]\n",
    "    },\n",
    "    {\n",
    "        'outputs': answer[:, 1:]\n",
    "    },\n",
    "))\n",
    "\n",
    "dataset = dataset.cache()\n",
    "dataset = dataset.shuffle(BUFFER_SIZE)\n",
    "dataset = dataset.batch(BATCH_SIZE)\n",
    "dataset = dataset.prefetch(tf.data.experimental.AUTOTUNE)"
   ]
  },
  {
   "cell_type": "markdown",
   "id": "1d286a1d",
   "metadata": {},
   "source": [
    "## 모델 정의 및 학습하기 (Modeling)"
   ]
  },
  {
   "cell_type": "markdown",
   "id": "e4f12fac",
   "metadata": {},
   "source": [
    "- 포지셔널 인코딩"
   ]
  },
  {
   "cell_type": "code",
   "execution_count": 25,
   "id": "c01075ee",
   "metadata": {},
   "outputs": [],
   "source": [
    "class PositionalEncoding(tf.keras.layers.Layer):\n",
    "    \n",
    "    def __init__(self, position, d_model):\n",
    "        super(PositionalEncoding, self).__init__()\n",
    "        self.pos_encoding = self.positional_encoding(position, d_model)\n",
    "        \n",
    "    def get_angles(self, position, i, d_model):\n",
    "        angles = 1 / tf.pow(10000, (2 * (i // 2)) / tf.cast(d_model, tf.float32))\n",
    "        return position * angles\n",
    "    \n",
    "    def positional_encoding(self, position, d_model):\n",
    "        angle_rads = self.get_angles(\n",
    "            position = tf.range(position, dtype=tf.float32)[:, tf.newaxis],\n",
    "            i = tf.range(d_model, dtype=tf.float32)[tf.newaxis, :],\n",
    "            d_model=d_model)\n",
    "        \n",
    "        # 배열의 짝수 인덱스에는 sin 함수 적용\n",
    "        sines = tf.math.sin(angle_rads[:, 0::2])\n",
    "        # 배열의 홀수 인덱스에는 cosine 함수 적용\n",
    "        cosines = tf.math.cos(angle_rads[:, 1::2])\n",
    "        \n",
    "        pos_encoding = tf.stack([sines, cosines], axis=0)\n",
    "        pos_encoding = tf.transpose(pos_encoding, [1, 2, 0])\n",
    "        pos_encoding = tf.reshape(pos_encoding, [position, d_model])\n",
    "        \n",
    "        pos_encoding = pos_encoding[tf.newaxis, ...]\n",
    "        \n",
    "        return tf.cast(pos_encoding, tf.float32)\n",
    "    \n",
    "    def call(self, inputs):\n",
    "        return inputs + self.pos_encoding[:, :tf.shape(inputs)[1], :]"
   ]
  },
  {
   "cell_type": "code",
   "execution_count": 26,
   "id": "c128a9c3",
   "metadata": {
    "scrolled": false
   },
   "outputs": [
    {
     "data": {
      "image/png": "[encoded data removed]",
      "text/plain": [
       "<Figure size 432x288 with 2 Axes>"
      ]
     },
     "metadata": {
      "needs_background": "light"
     },
     "output_type": "display_data"
    }
   ],
   "source": [
    "sample_pos_encoding = PositionalEncoding(50, 512)\n",
    "\n",
    "plt.pcolormesh(sample_pos_encoding.pos_encoding.numpy()[0], cmap='plasma')\n",
    "plt.xlabel('Depth')\n",
    "plt.xlim((0, 512))\n",
    "plt.ylabel('Position')\n",
    "plt.colorbar()\n",
    "plt.show()"
   ]
  },
  {
   "cell_type": "markdown",
   "id": "33d2e521",
   "metadata": {},
   "source": [
    "- 어텐션\n",
    "\n",
    "Attention(Q, K, V) = Attention Value\n",
    "\n",
    "Q = Query : t 시점의 디코더 셀에서의 은닉 상태\n",
    "\n",
    "\n",
    "K = Keys : 모든 시점의 인코더 셀의 은닉 상태들\n",
    "\n",
    "\n",
    "V = Values : 모든 시점의 인코더 셀의 은닉 상태들\n",
    "\n",
    "어텐션 함수는 주어진 '쿼리(Query)'에 대해서 모든 '키(Key)'와의 유사도를 각각 구한다. 그리고 구해낸 이 유사도를 키(Key)와 맵핑되어있는 각각의 '값(Value)'에 반영해 준다. 그리고 유사도가 반영된 '값(Value)'을 모두 더해서 뭉쳐주면 이를 최종 결과인 어텐션 값(Attention Value) 라고 한다."
   ]
  },
  {
   "cell_type": "code",
   "execution_count": 27,
   "id": "7f08a6f1",
   "metadata": {},
   "outputs": [],
   "source": [
    "# 스케일드 닷 프로덕트 어텐션 함수\n",
    "def scaled_dot_product_attention(query, key, value, mask):\n",
    "    # 어텐션 가중치는 Q와 K의 닷 프로덕트\n",
    "    matmul_qk = tf.matmul(query, key, transpose_b=True)\n",
    "    \n",
    "    #가중치를 정규화\n",
    "    depth = tf.cast(tf.shape(key)[-1], tf.float32)\n",
    "    logits = matmul_qk / tf.math.sqrt(depth)\n",
    "    \n",
    "    #패딩에 마스크 추가\n",
    "    if mask is not None:\n",
    "        logits += (mask * -1e9)\n",
    "        \n",
    "    #softmax 적용\n",
    "    attention_weights = tf.nn.softmax(logits, axis=-1)\n",
    "    \n",
    "    # 최종 어텐션은 가중치와 V의 닷 프로덕트\n",
    "    output = tf.matmul(attention_weights, value)\n",
    "    return output"
   ]
  },
  {
   "cell_type": "code",
   "execution_count": 28,
   "id": "fef2da08",
   "metadata": {},
   "outputs": [],
   "source": [
    "#멀티헤드어텐션\n",
    "\n",
    "class MultiHeadAttention(tf.keras.layers.Layer):\n",
    "    \n",
    "    def __init__(self, d_model, num_heads, name='multi_head_attention'):\n",
    "        super(MultiHeadAttention, self).__init__(name=name)\n",
    "        self.num_heads = num_heads\n",
    "        self.d_model = d_model\n",
    "        \n",
    "        assert d_model % self.num_heads == 0\n",
    "        \n",
    "        self.depth = d_model // self.num_heads\n",
    "        \n",
    "        self.query_dense = tf.keras.layers.Dense(units=d_model)\n",
    "        self.key_dense = tf.keras.layers.Dense(units=d_model)\n",
    "        self.value_dense = tf.keras.layers.Dense(units=d_model)\n",
    "        \n",
    "        self.dense = tf.keras.layers.Dense(units=d_model)\n",
    "        \n",
    "    def split_heads(self, inputs, batch_size):\n",
    "        inputs = tf.reshape(\n",
    "            inputs, shape=(batch_size, -1, self.num_heads, self.depth))\n",
    "        return tf.transpose(inputs, perm=[0, 2, 1, 3])\n",
    "    \n",
    "    def call(self, inputs):\n",
    "        query, key, value, mask = inputs['query'], inputs['key'], inputs['value'], inputs['mask']\n",
    "        batch_size = tf.shape(query)[0]\n",
    "        \n",
    "         # Q, K, V에 각각 Dense를 적용합니다\n",
    "        query = self.query_dense(query)\n",
    "        key = self.key_dense(key)\n",
    "        value = self.value_dense(value)\n",
    "        \n",
    "         # 병렬 연산을 위한 머리를 여러 개 만듭니다\n",
    "        query = self.split_heads(query, batch_size)\n",
    "        key = self.split_heads(key, batch_size)\n",
    "        value = self.split_heads(value, batch_size)\n",
    "        \n",
    "        # 스케일드 닷 프로덕트 어텐션 함수\n",
    "        scaled_attention = scaled_dot_product_attention(query, key, value, mask)\n",
    "        \n",
    "        scaled_attention = tf.transpose(scaled_attention, perm=[0, 2, 1, 3])\n",
    "        \n",
    "        # 어텐션 연산 후에 각 결과를 다시 연결(concatenate)합니다\n",
    "        concat_attention = tf.reshape(scaled_attention,\n",
    "                                      (batch_size, -1, self.d_model))\n",
    "        \n",
    "         # 최종 결과에도 Dense를 한 번 더 적용합니다\n",
    "        outputs = self.dense(concat_attention)\n",
    "        \n",
    "        return outputs"
   ]
  },
  {
   "cell_type": "markdown",
   "id": "311202c0",
   "metadata": {},
   "source": [
    "멀티-헤드 어텐션(Multi-Head Attention)은 셀프 어텐션(self attention)을 여러 번 수행한 것이다."
   ]
  },
  {
   "cell_type": "markdown",
   "id": "2fcb82c3",
   "metadata": {},
   "source": [
    "- 패딩 마스킹(Padding Masking)\n",
    "\n",
    "마스킹(Masking): 특정 값들을 가려서 실제 연산에 방해가 되지 않도록 하는 기법\n",
    "\n",
    "패딩 마스킹(Padding Masking):  패딩은 문장의 길이가 서로 다를 때, 모든 문장의 길이를 동일하게 해주는 과정에서 정해준 길이보다 짧은 문장의 경우에는 숫자 0을 채워서 문장의 길이를 맞춰주는 자연어 처리 기법. 이렇게 주어진 숫자 0은 실제 의미가 있는 단어가 아니므로 실제 어텐션 등과 같은 연산에서는 제외할 필요가 있다. 패딩 마스킹은 이를 위해 숫자 0인 위치를 체크한다."
   ]
  },
  {
   "cell_type": "code",
   "execution_count": 29,
   "id": "6509501b",
   "metadata": {},
   "outputs": [],
   "source": [
    "def create_padding_mask(x):\n",
    "    mask = tf.cast(tf.math.equal(x, 0), tf.float32)\n",
    "    \n",
    "    return mask[:, tf.newaxis, tf.newaxis, :]"
   ]
  },
  {
   "cell_type": "markdown",
   "id": "42cd7851",
   "metadata": {},
   "source": [
    "- 룩 어헤드 마스킹(Look-ahead masking, 다음 단어 가리기)"
   ]
  },
  {
   "cell_type": "code",
   "execution_count": 30,
   "id": "6bc0697c",
   "metadata": {},
   "outputs": [],
   "source": [
    "# 자신 다음에 나올 단어를 참고하지 않도록 마스킹\n",
    "def create_look_ahead_mask(x):\n",
    "    seq_len = tf.shape(x)[1]\n",
    "    look_ahead_mask = 1 - tf.linalg.band_part(tf.ones((seq_len, seq_len)), -1, 0)\n",
    "    padding_mask = create_padding_mask(x)\n",
    "    \n",
    "    return tf.maximum(look_ahead_mask, padding_mask)"
   ]
  },
  {
   "cell_type": "code",
   "execution_count": 31,
   "id": "bfb1fad8",
   "metadata": {},
   "outputs": [
    {
     "name": "stdout",
     "output_type": "stream",
     "text": [
      "tf.Tensor(\n",
      "[[[[1. 1. 1. 1. 1.]\n",
      "   [1. 0. 1. 1. 1.]\n",
      "   [1. 0. 1. 1. 1.]\n",
      "   [1. 0. 1. 0. 1.]\n",
      "   [1. 0. 1. 0. 0.]]]], shape=(1, 1, 5, 5), dtype=float32)\n"
     ]
    }
   ],
   "source": [
    "# 0 이 포함되어 있을 때 작동 확인\n",
    "print(create_look_ahead_mask(tf.constant([[0, 2, 0, 3, 5]])))"
   ]
  },
  {
   "cell_type": "markdown",
   "id": "532c4d93",
   "metadata": {},
   "source": [
    "- 인코더"
   ]
  },
  {
   "cell_type": "code",
   "execution_count": 32,
   "id": "d856b855",
   "metadata": {},
   "outputs": [],
   "source": [
    "# 인코더 하나의 레이어를 함수로 구현.\n",
    "# 이 하나의 레이어 안에는 두 개의 서브 레이어가 존재합니다.\n",
    "def encoder_layer(units, d_model, num_heads, dropout, name='encoder_layer'):\n",
    "    inputs = tf.keras.Input(shape=(None, d_model), name='inputs')\n",
    "    \n",
    "    # 패딩 마스크 사용\n",
    "    padding_mask = tf.keras.Input(shape=(1, 1, None), name='padding_mask')\n",
    "    \n",
    "    # 첫 번째 서브 레이어 : 멀티 헤드 어텐션 수행 (셀프 어텐션)\n",
    "    attention = MultiHeadAttention(\n",
    "                d_model, num_heads, name='attention')({\n",
    "                'query': inputs,\n",
    "                'key': inputs,\n",
    "                'value': inputs,\n",
    "                'mask': padding_mask\n",
    "    })\n",
    "    \n",
    "    # 어텐션의 결과는 Dropout과 Layer Normalization이라는 훈련을 돕는 테크닉을 수행\n",
    "    attention = tf.keras.layers.Dropout(rate=dropout)(attention)\n",
    "    attention = tf.keras.layers.LayerNormalization(\n",
    "                epsilon=1e-6)(inputs + attention)\n",
    "    \n",
    "    # 두 번째 서브 레이어 : 2개의 완전연결층\n",
    "    outputs = tf.keras.layers.Dense(units=units, activation='relu')(attention)\n",
    "    outputs = tf.keras.layers.Dense(units=d_model)(outputs)\n",
    "    \n",
    "    # 완전연결층의 결과는 Dropout과 LayerNormalization이라는 훈련을 돕는 테크닉을 수행\n",
    "    outputs = tf.keras.layers.Dropout(rate=dropout)(outputs)\n",
    "    outputs = tf.keras.layers.LayerNormalization(\n",
    "                epsilon=1e-6)(attention + outputs)\n",
    "    \n",
    "    return tf.keras.Model(inputs=[inputs, padding_mask], outputs=outputs, name=name)"
   ]
  },
  {
   "cell_type": "markdown",
   "id": "cc7a6557",
   "metadata": {},
   "source": [
    "인코더 층을 쌓아 인코더 만들기"
   ]
  },
  {
   "cell_type": "code",
   "execution_count": 33,
   "id": "9205257e",
   "metadata": {},
   "outputs": [],
   "source": [
    "def encoder(vocab_size,\n",
    "            num_layers,\n",
    "            units,\n",
    "            d_model,\n",
    "            num_heads,\n",
    "            dropout,\n",
    "            name='encoder'):\n",
    "    inputs = tf.keras.Input(shape=(None,), name='inputs')\n",
    "    \n",
    "    # 패딩 마스크 사용\n",
    "    padding_mask = tf.keras.Input(shape=(1, 1, None), name='padding_mask')\n",
    "    \n",
    "    # 임베딩 레이어\n",
    "    embeddings = tf.keras.layers.Embedding(vocab_size, d_model)(inputs)\n",
    "    embeddings *= tf.math.sqrt(tf.cast(d_model, tf.float32))\n",
    "    \n",
    "    # 포지셔널 인코딩\n",
    "    embeddings = PositionalEncoding(vocab_size, d_model)(embeddings)\n",
    "    \n",
    "    outputs = tf.keras.layers.Dropout(rate=dropout)(embeddings)\n",
    "    \n",
    "    # num_layers만큼 쌓아올린 인코더의 층.\n",
    "    for i in range(num_layers):\n",
    "        outputs = encoder_layer(\n",
    "                    units=units,\n",
    "                    d_model=d_model,\n",
    "                    num_heads=num_heads,\n",
    "                    dropout=dropout,\n",
    "                    name='encoder_layer_{}'.format(i))([outputs, padding_mask])\n",
    "        \n",
    "    return tf.keras.Model(\n",
    "            inputs=[inputs, padding_mask], outputs=outputs, name=name)"
   ]
  },
  {
   "cell_type": "markdown",
   "id": "a50d4b3a",
   "metadata": {},
   "source": [
    "- 디코더"
   ]
  },
  {
   "cell_type": "code",
   "execution_count": 34,
   "id": "d8c1256b",
   "metadata": {},
   "outputs": [],
   "source": [
    "# 디코더 하나의 레이어를 함수로 구현.\n",
    "# 이 하나의 레이어 안에는 세 개의 서브 레이어가 존재합니다.\n",
    "def decoder_layer(units, d_model, num_heads, dropout, name='decoder_layer'):\n",
    "    inputs = tf.keras.Input(shape=(None, d_model), name='inputs')\n",
    "    enc_outputs = tf.keras.Input(shape=(None, d_model), name=\"encoder_outputs\")\n",
    "    look_ahead_mask = tf.keras.Input(shape=(1, None, None), name=\"look_ahead_mask\")\n",
    "    padding_mask = tf.keras.Input(shape=(1, 1, None), name='padding_mask')\n",
    "    \n",
    "    # 첫 번째 서브 레이어 : 멀티 헤드 어텐션 수행 (셀프 어텐션)\n",
    "    attention1 = MultiHeadAttention(\n",
    "                    d_model, num_heads, name='attention_1')(inputs={\n",
    "                        'query': inputs,\n",
    "                        'key': inputs,\n",
    "                        'value': inputs,\n",
    "                        'mask': look_ahead_mask\n",
    "                    })\n",
    "    \n",
    "    # 멀티 헤드 어텐션의 결과는 LayerNormalization이라는 훈련을 돕는 테크닉을 수행\n",
    "    attention1 = tf.keras.layers.LayerNormalization(epsilon=1e-6)(attention1 + inputs)\n",
    "    \n",
    "    # 두 번째 서브 레이어 : 마스크드 멀티 헤드 어텐션 수행 (인코더-디코더 어텐션)\n",
    "    attention2 = MultiHeadAttention(\n",
    "                    d_model, num_heads, name='attention_2')(inputs={\n",
    "                        'query': attention1,\n",
    "                        'key': enc_outputs,\n",
    "                        'value': enc_outputs,\n",
    "                        'mask': padding_mask\n",
    "                    })\n",
    "    \n",
    "    # 마스크드 멀티 헤드 어텐션의 결과는\n",
    "    # Dropout과 LayerNormalization이라는 훈련을 돕는 테크닉을 수행\n",
    "    attention2 = tf.keras.layers.Dropout(rate=dropout)(attention2)\n",
    "    attention2 = tf.keras.layers.LayerNormalization(\n",
    "                epsilon=1e-6)(attention2 + attention1)\n",
    "   \n",
    "     # 세 번째 서브 레이어 : 2개의 완전연결층\n",
    "    outputs = tf.keras.layers.Dense(units=units, activation='relu')(attention2)\n",
    "    outputs = tf.keras.layers.Dense(units=d_model)(outputs)\n",
    "    \n",
    "    outputs = tf.keras.layers.Dropout(rate=dropout)(outputs)\n",
    "    outputs = tf.keras.layers.LayerNormalization(epsilon=1e-6)(outputs + attention2)\n",
    "    \n",
    "    return tf.keras.Model(\n",
    "            inputs=[inputs, enc_outputs, look_ahead_mask, padding_mask],\n",
    "            outputs=outputs,\n",
    "            name=name)"
   ]
  },
  {
   "cell_type": "markdown",
   "id": "1294207a",
   "metadata": {},
   "source": [
    "디코더 층을 쌓아 디코더 만들기"
   ]
  },
  {
   "cell_type": "code",
   "execution_count": 35,
   "id": "c0e5cac4",
   "metadata": {},
   "outputs": [],
   "source": [
    "def decoder(vocab_size,\n",
    "            num_layers,\n",
    "            units,\n",
    "            d_model,\n",
    "            num_heads,\n",
    "            dropout,\n",
    "            name='decoder'):\n",
    "    inputs = tf.keras.Input(shape=(None,), name='inputs')\n",
    "    enc_outputs = tf.keras.Input(shape=(None, d_model), name='encoder_outputs')\n",
    "    look_ahead_mask = tf.keras.Input(shape=(1, None, None), name='look_ahead_mask')\n",
    "    \n",
    "    # 패딩 마스크\n",
    "    padding_mask = tf.keras.Input(shape=(1, 1, None), name='padding_mask')\n",
    "    \n",
    "    # 임베딩 레이어\n",
    "    embeddings = tf.keras.layers.Embedding(vocab_size, d_model)(inputs)\n",
    "    embeddings *= tf.math.sqrt(tf.cast(d_model, tf.float32))\n",
    "    \n",
    "    # 포지셔널 인코딩\n",
    "    embeddings = PositionalEncoding(vocab_size, d_model)(embeddings)\n",
    "    \n",
    "    # Dropout이라는 훈련을 돕는 테크닉을 수행\n",
    "    outputs = tf.keras.layers.Dropout(rate=dropout)(embeddings)\n",
    "    \n",
    "    for i in range(num_layers):\n",
    "        outputs = decoder_layer(\n",
    "                    units=units,\n",
    "                    d_model=d_model,\n",
    "                    num_heads=num_heads,\n",
    "                    dropout=dropout,\n",
    "                    name='decoder_layer_{}'.format(i))(\n",
    "        inputs=[outputs, enc_outputs, look_ahead_mask, padding_mask])\n",
    "        \n",
    "    return tf.keras.Model(\n",
    "            inputs=[inputs, enc_outputs, look_ahead_mask, padding_mask],\n",
    "            outputs=outputs,\n",
    "            name=name)"
   ]
  },
  {
   "cell_type": "markdown",
   "id": "2d837d2e",
   "metadata": {},
   "source": [
    "- 트랜스포머(transformer)\n",
    "\n",
    "셀프 어텐션 : 유사도를 구하는 대상이 다른 문장의 단어가 아니라 현재 문장 내의 단어들이 서로 유사도를 구하는 경우(어텐션을 자기 자신에게 수행한다는 의미)\n",
    "\n"
   ]
  },
  {
   "cell_type": "code",
   "execution_count": 36,
   "id": "19082a74",
   "metadata": {},
   "outputs": [],
   "source": [
    "def transformer(vocab_size,\n",
    "                num_layers,\n",
    "                units,\n",
    "                d_model,\n",
    "                num_heads,\n",
    "                dropout,\n",
    "                name=\"transformer\"):\n",
    "    inputs = tf.keras.Input(shape=(None,), name='inputs')\n",
    "    dec_inputs = tf.keras.Input(shape=(None,), name='dec_inputs')\n",
    "    \n",
    "    # 인코더에서 패딩을 위한 마스크\n",
    "    enc_padding_mask = tf.keras.layers.Lambda(\n",
    "                        create_padding_mask, \n",
    "                        output_shape=(1, 1, None),\n",
    "                        name='enc_padding_mask')(inputs)\n",
    "    \n",
    "    # 디코더에서 미래의 토큰을 마스크 하기 위해서 사용합니다.\n",
    "    # 내부적으로 패딩 마스크도 포함되어져 있습니다.\n",
    "    look_ahead_mask = tf.keras.layers.Lambda(\n",
    "                        create_look_ahead_mask,\n",
    "                        output_shape=(1, None, None),\n",
    "                        name='look_ahead_mask')(dec_inputs)\n",
    "    \n",
    "    # 두 번째 어텐션 블록에서 인코더의 벡터들을 마스킹\n",
    "    # 디코더에서 패딩을 위한 마스크\n",
    "    dec_padding_mask = tf.keras.layers.Lambda(\n",
    "                        create_padding_mask, output_shape=(1, 1, None),\n",
    "                        name='dec_padding_mask')(inputs)\n",
    "    \n",
    "    # 인코더\n",
    "    enc_outputs = encoder(\n",
    "                  vocab_size=vocab_size,\n",
    "                  num_layers=num_layers,\n",
    "                  units=units,\n",
    "                  d_model=d_model,\n",
    "                  num_heads=num_heads,\n",
    "                  dropout=dropout\n",
    "                )(inputs=[inputs, enc_padding_mask])\n",
    "    \n",
    "    # 디코더\n",
    "    dec_outputs = decoder(\n",
    "                  vocab_size=vocab_size,\n",
    "                  num_layers=num_layers,\n",
    "                  units=units,\n",
    "                  d_model=d_model,\n",
    "                  num_heads=num_heads,\n",
    "                  dropout=dropout\n",
    "                )(inputs=[dec_inputs, enc_outputs, look_ahead_mask, dec_padding_mask])\n",
    "    \n",
    "    # 완전연결층\n",
    "    outputs = tf.keras.layers.Dense(units=vocab_size, name='outputs')(dec_outputs)\n",
    "    \n",
    "    return tf.keras.Model(inputs=[inputs, dec_inputs], outputs=outputs, name=name)"
   ]
  },
  {
   "cell_type": "code",
   "execution_count": 37,
   "id": "40de3fbe",
   "metadata": {},
   "outputs": [
    {
     "name": "stdout",
     "output_type": "stream",
     "text": [
      "Model: \"transformer\"\n",
      "__________________________________________________________________________________________________\n",
      "Layer (type)                    Output Shape         Param #     Connected to                     \n",
      "==================================================================================================\n",
      "inputs (InputLayer)             [(None, None)]       0                                            \n",
      "__________________________________________________________________________________________________\n",
      "dec_inputs (InputLayer)         [(None, None)]       0                                            \n",
      "__________________________________________________________________________________________________\n",
      "enc_padding_mask (Lambda)       (None, 1, 1, None)   0           inputs[0][0]                     \n",
      "__________________________________________________________________________________________________\n",
      "encoder (Functional)            (None, None, 256)    3195136     inputs[0][0]                     \n",
      "                                                                 enc_padding_mask[0][0]           \n",
      "__________________________________________________________________________________________________\n",
      "look_ahead_mask (Lambda)        (None, 1, None, None 0           dec_inputs[0][0]                 \n",
      "__________________________________________________________________________________________________\n",
      "dec_padding_mask (Lambda)       (None, 1, 1, None)   0           inputs[0][0]                     \n",
      "__________________________________________________________________________________________________\n",
      "decoder (Functional)            (None, None, 256)    3722496     dec_inputs[0][0]                 \n",
      "                                                                 encoder[0][0]                    \n",
      "                                                                 look_ahead_mask[0][0]            \n",
      "                                                                 dec_padding_mask[0][0]           \n",
      "__________________________________________________________________________________________________\n",
      "outputs (Dense)                 (None, None, 8363)   2149291     decoder[0][0]                    \n",
      "==================================================================================================\n",
      "Total params: 9,066,923\n",
      "Trainable params: 9,066,923\n",
      "Non-trainable params: 0\n",
      "__________________________________________________________________________________________________\n"
     ]
    }
   ],
   "source": [
    "tf.keras.backend.clear_session()\n",
    "\n",
    "# 하이퍼파라미터\n",
    "NUM_LAYERS = 2 # 인코더와 디코더의 층의 개수\n",
    "D_MODEL = 256 # 인코더와 디코더 내부의 입, 출력의 고정 차원\n",
    "NUM_HEADS = 8 # 멀티 헤드 어텐션에서의 헤드 수 \n",
    "UNITS = 512 # 피드 포워드 신경망의 은닉층의 크기\n",
    "DROPOUT = 0.1 # 드롭아웃의 비율\n",
    "\n",
    "model = transformer(\n",
    "    vocab_size=VOCAB_SIZE,\n",
    "    num_layers=NUM_LAYERS,\n",
    "    units=UNITS,\n",
    "    d_model=D_MODEL,\n",
    "    num_heads=NUM_HEADS,\n",
    "    dropout=DROPOUT)\n",
    "\n",
    "model.summary()"
   ]
  },
  {
   "cell_type": "markdown",
   "id": "beeb35aa",
   "metadata": {},
   "source": [
    "- 손실함수(loss function)"
   ]
  },
  {
   "cell_type": "code",
   "execution_count": 38,
   "id": "b73edc22",
   "metadata": {},
   "outputs": [],
   "source": [
    "def loss_function(y_true, y_pred):\n",
    "    y_true = tf.reshape(y_true, shape=(-1, MAX_LENGTH - 1))\n",
    "    \n",
    "    loss = tf.keras.losses.SparseCategoricalCrossentropy(\n",
    "            from_logits=True, reduction='none')(y_true, y_pred)\n",
    "    \n",
    "    mask = tf.cast(tf.not_equal(y_true, 0), tf.float32)\n",
    "    loss = tf.multiply(loss, mask)\n",
    "\n",
    "    return tf.reduce_mean(loss)"
   ]
  },
  {
   "cell_type": "markdown",
   "id": "b4a0dcc8",
   "metadata": {},
   "source": [
    "- 커스텀 된 학습률(Learning rate)"
   ]
  },
  {
   "cell_type": "code",
   "execution_count": 39,
   "id": "632ccfb5",
   "metadata": {},
   "outputs": [],
   "source": [
    "class CustomSchedule(tf.keras.optimizers.schedules.LearningRateSchedule):\n",
    "\n",
    "    def __init__(self, d_model, warmup_steps=4000):\n",
    "        super(CustomSchedule, self).__init__()\n",
    "\n",
    "        self.d_model = d_model\n",
    "        self.d_model = tf.cast(self.d_model, tf.float32)\n",
    "\n",
    "        self.warmup_steps = warmup_steps\n",
    "\n",
    "    def __call__(self, step):\n",
    "        arg1 = tf.math.rsqrt(step)\n",
    "        arg2 = step * (self.warmup_steps**-1.5)\n",
    "\n",
    "        return tf.math.rsqrt(self.d_model) * tf.math.minimum(arg1, arg2)"
   ]
  },
  {
   "cell_type": "markdown",
   "id": "bf6dafe1",
   "metadata": {},
   "source": [
    "- 모델 컴파일\n",
    "\n",
    "손실 함수와 커스텀 된 학습률(learning rate)을 사용하여 모델을 컴파일"
   ]
  },
  {
   "cell_type": "code",
   "execution_count": 40,
   "id": "ff583c9f",
   "metadata": {},
   "outputs": [],
   "source": [
    "learning_rate = CustomSchedule(D_MODEL)\n",
    "\n",
    "optimizer = tf.keras.optimizers.Adam(\n",
    "            learning_rate, beta_1=0.9, beta_2=0.98, epsilon=1e-9)\n",
    "\n",
    "def accuracy(y_true, y_pred):\n",
    "    y_true = tf.reshape(y_true, shape=(-1, MAX_LENGTH - 1))\n",
    "    return tf.keras.metrics.sparse_categorical_accuracy(y_true, y_pred)\n",
    "\n",
    "model.compile(optimizer=optimizer, loss=loss_function, metrics=[accuracy])"
   ]
  },
  {
   "cell_type": "code",
   "execution_count": 41,
   "id": "9354ad66",
   "metadata": {},
   "outputs": [
    {
     "name": "stdout",
     "output_type": "stream",
     "text": [
      "Epoch 1/30\n",
      "181/181 [==============================] - 12s 33ms/step - loss: 3.9561 - accuracy: 0.0813\n",
      "Epoch 2/30\n",
      "181/181 [==============================] - 6s 33ms/step - loss: 3.2290 - accuracy: 0.1379\n",
      "Epoch 3/30\n",
      "181/181 [==============================] - 6s 33ms/step - loss: 2.7323 - accuracy: 0.1408\n",
      "Epoch 4/30\n",
      "181/181 [==============================] - 6s 33ms/step - loss: 2.5176 - accuracy: 0.1508\n",
      "Epoch 5/30\n",
      "181/181 [==============================] - 6s 33ms/step - loss: 2.3573 - accuracy: 0.1596\n",
      "Epoch 6/30\n",
      "181/181 [==============================] - 6s 33ms/step - loss: 2.1967 - accuracy: 0.1705\n",
      "Epoch 7/30\n",
      "181/181 [==============================] - 6s 33ms/step - loss: 2.0233 - accuracy: 0.1857\n",
      "Epoch 8/30\n",
      "181/181 [==============================] - 6s 33ms/step - loss: 1.8299 - accuracy: 0.2065\n",
      "Epoch 9/30\n",
      "181/181 [==============================] - 6s 33ms/step - loss: 1.6217 - accuracy: 0.2298\n",
      "Epoch 10/30\n",
      "181/181 [==============================] - 6s 33ms/step - loss: 1.3996 - accuracy: 0.2553\n",
      "Epoch 11/30\n",
      "181/181 [==============================] - 6s 33ms/step - loss: 1.1749 - accuracy: 0.2832\n",
      "Epoch 12/30\n",
      "181/181 [==============================] - 6s 33ms/step - loss: 0.9576 - accuracy: 0.3121\n",
      "Epoch 13/30\n",
      "181/181 [==============================] - 6s 33ms/step - loss: 0.7548 - accuracy: 0.3416\n",
      "Epoch 14/30\n",
      "181/181 [==============================] - 6s 33ms/step - loss: 0.5753 - accuracy: 0.3697\n",
      "Epoch 15/30\n",
      "181/181 [==============================] - 6s 33ms/step - loss: 0.4220 - accuracy: 0.3954\n",
      "Epoch 16/30\n",
      "181/181 [==============================] - 6s 33ms/step - loss: 0.3058 - accuracy: 0.4172\n",
      "Epoch 17/30\n",
      "181/181 [==============================] - 6s 33ms/step - loss: 0.2214 - accuracy: 0.4325\n",
      "Epoch 18/30\n",
      "181/181 [==============================] - 6s 33ms/step - loss: 0.1667 - accuracy: 0.4416\n",
      "Epoch 19/30\n",
      "181/181 [==============================] - 6s 33ms/step - loss: 0.1361 - accuracy: 0.4473\n",
      "Epoch 20/30\n",
      "181/181 [==============================] - 6s 33ms/step - loss: 0.1202 - accuracy: 0.4498\n",
      "Epoch 21/30\n",
      "181/181 [==============================] - 6s 33ms/step - loss: 0.1080 - accuracy: 0.4518\n",
      "Epoch 22/30\n",
      "181/181 [==============================] - 6s 33ms/step - loss: 0.1058 - accuracy: 0.4515\n",
      "Epoch 23/30\n",
      "181/181 [==============================] - 6s 33ms/step - loss: 0.1003 - accuracy: 0.4521\n",
      "Epoch 24/30\n",
      "181/181 [==============================] - 6s 33ms/step - loss: 0.0862 - accuracy: 0.4556\n",
      "Epoch 25/30\n",
      "181/181 [==============================] - 6s 33ms/step - loss: 0.0768 - accuracy: 0.4582\n",
      "Epoch 26/30\n",
      "181/181 [==============================] - 6s 33ms/step - loss: 0.0678 - accuracy: 0.4601\n",
      "Epoch 27/30\n",
      "181/181 [==============================] - 6s 33ms/step - loss: 0.0605 - accuracy: 0.4619\n",
      "Epoch 28/30\n",
      "181/181 [==============================] - 6s 33ms/step - loss: 0.0541 - accuracy: 0.4637\n",
      "Epoch 29/30\n",
      "181/181 [==============================] - 6s 33ms/step - loss: 0.0502 - accuracy: 0.4647\n",
      "Epoch 30/30\n",
      "181/181 [==============================] - 6s 33ms/step - loss: 0.0438 - accuracy: 0.4665\n"
     ]
    },
    {
     "data": {
      "text/plain": [
       "<keras.callbacks.History at 0x7f2accb14dc0>"
      ]
     },
     "execution_count": 41,
     "metadata": {},
     "output_type": "execute_result"
    }
   ],
   "source": [
    "EPOCHS = 30\n",
    "model.fit(dataset, epochs=EPOCHS, verbose=1)"
   ]
  },
  {
   "cell_type": "markdown",
   "id": "e92b38dc",
   "metadata": {},
   "source": [
    "## 챗봇 테스트하기 (Evaluate)\n"
   ]
  },
  {
   "cell_type": "code",
   "execution_count": 42,
   "id": "879fc6bb",
   "metadata": {},
   "outputs": [],
   "source": [
    "def decoder_inference(sentence):\n",
    "    sentence = preprocess_sentence(sentence)\n",
    "    \n",
    "    # 입력된 문장을 정수 인코딩 후, 시작 토큰과 종료 토큰을 앞뒤로 추가.\n",
    "    # ex) Where have you been? → [[8331   86   30    5 1059    7 8332]]\n",
    "    sentence = tf.expand_dims(\n",
    "                START_TOKEN + tokenizer.encode(sentence) + END_TOKEN, axis=0)\n",
    "    \n",
    "    # 디코더의 현재까지의 예측한 출력 시퀀스가 지속적으로 저장되는 변수.\n",
    "    # 처음에는 예측한 내용이 없음으로 시작 토큰만 별도 저장. ex) 8331\n",
    "    output_sequence = tf.expand_dims(START_TOKEN, 0)\n",
    "    \n",
    "    # 디코더의 인퍼런스 단계   \n",
    "    for i in range(MAX_LENGTH):\n",
    "        predictions = model(inputs=[sentence, output_sequence], training=False)\n",
    "        predictions = predictions[:, -1:, :]\n",
    "        \n",
    "        # 현재 예측한 단어의 정수\n",
    "        predicted_id = tf.cast(tf.argmax(predictions, axis=-1), tf.int32)\n",
    "        \n",
    "        # 만약 현재 예측한 단어가 종료 토큰이라면 for문을 종료\n",
    "        if tf.equal(predicted_id, END_TOKEN[0]):\n",
    "            break\n",
    "            \n",
    "        # 예측한 단어들은 지속적으로 output_sequence에 추가됩니다.\n",
    "        # 이 output_sequence는 다시 디코더의 입력이 됩니다.\n",
    "        output_sequence = tf.concat([output_sequence, predicted_id], axis=-1)\n",
    "        \n",
    "    return tf.squeeze(output_sequence, axis=0)"
   ]
  },
  {
   "cell_type": "code",
   "execution_count": 43,
   "id": "a720ac55",
   "metadata": {},
   "outputs": [],
   "source": [
    "def sentence_generation(sentence):\n",
    "   # 입력 문장에 대해서 디코더를 동작 시켜 예측된 정수 시퀀스를 리턴받습니다.    \n",
    "    prediction = decoder_inference(sentence)\n",
    "    \n",
    "    # 정수 시퀀스를 다시 텍스트 시퀀스로 변환합니다.\n",
    "    predicted_sentence = tokenizer.decode(\n",
    "      [i for i in prediction if i < tokenizer.vocab_size])\n",
    "\n",
    "    print('입력 : {}'.format(sentence))\n",
    "    print('출력 : {}'.format(predicted_sentence))\n",
    "\n",
    "    return predicted_sentence"
   ]
  },
  {
   "cell_type": "code",
   "execution_count": 44,
   "id": "69dd69c1",
   "metadata": {},
   "outputs": [
    {
     "name": "stdout",
     "output_type": "stream",
     "text": [
      "입력 : 심심해\n",
      "출력 : 저랑 놀아요.\n"
     ]
    },
    {
     "data": {
      "text/plain": [
       "'저랑 놀아요.'"
      ]
     },
     "execution_count": 44,
     "metadata": {},
     "output_type": "execute_result"
    }
   ],
   "source": [
    "sentence_generation(\"심심해\")"
   ]
  },
  {
   "cell_type": "code",
   "execution_count": 45,
   "id": "36be4294",
   "metadata": {},
   "outputs": [
    {
     "name": "stdout",
     "output_type": "stream",
     "text": [
      "입력 : 배고프다\n",
      "출력 : 저도 밥 먹고 싶어요\n"
     ]
    },
    {
     "data": {
      "text/plain": [
       "'저도 밥 먹고 싶어요'"
      ]
     },
     "execution_count": 45,
     "metadata": {},
     "output_type": "execute_result"
    }
   ],
   "source": [
    "sentence_generation(\"배고프다\")"
   ]
  },
  {
   "cell_type": "code",
   "execution_count": 46,
   "id": "711239ef",
   "metadata": {
    "scrolled": true
   },
   "outputs": [
    {
     "name": "stdout",
     "output_type": "stream",
     "text": [
      "입력 : 오늘 점심 뭐 먹지?\n",
      "출력 : 맛있는 거 드세요.\n"
     ]
    },
    {
     "data": {
      "text/plain": [
       "'맛있는 거 드세요.'"
      ]
     },
     "execution_count": 46,
     "metadata": {},
     "output_type": "execute_result"
    }
   ],
   "source": [
    "sentence_generation('오늘 점심 뭐 먹지?')"
   ]
  },
  {
   "cell_type": "code",
   "execution_count": 47,
   "id": "6da673c5",
   "metadata": {
    "scrolled": true
   },
   "outputs": [
    {
     "name": "stdout",
     "output_type": "stream",
     "text": [
      "입력 : 너무 졸려\n",
      "출력 : 낮잠을 잠깐 자도 괜찮아요.\n"
     ]
    },
    {
     "data": {
      "text/plain": [
       "'낮잠을 잠깐 자도 괜찮아요.'"
      ]
     },
     "execution_count": 47,
     "metadata": {},
     "output_type": "execute_result"
    }
   ],
   "source": [
    "sentence_generation('너무 졸려')"
   ]
  },
  {
   "cell_type": "markdown",
   "id": "544a48bc",
   "metadata": {},
   "source": [
    "## Retrospection"
   ]
  },
  {
   "cell_type": "markdown",
   "id": "d0275026",
   "metadata": {},
   "source": [
    "문장을 넣었을 때 제대로 된 답변을 받을 수 있었다. 하지만 '뭐해?'나 '기분이 어때?' 같은 경우에는 답변이 문맥에 맞지 않게 나왔다. 이 부분에 있어서는 다른 시도를 해봐야 할 것 같다.\n",
    "\n",
    "전반적으로 어려웠던 노드였다."
   ]
  }
 ],
 "metadata": {
  "kernelspec": {
   "display_name": "Python 3 (ipykernel)",
   "language": "python",
   "name": "python3"
  },
  "language_info": {
   "codemirror_mode": {
    "name": "ipython",
    "version": 3
   },
   "file_extension": ".py",
   "mimetype": "text/x-python",
   "name": "python",
   "nbconvert_exporter": "python",
   "pygments_lexer": "ipython3",
   "version": "3.9.7"
  }
 },
 "nbformat": 4,
 "nbformat_minor": 5
}
